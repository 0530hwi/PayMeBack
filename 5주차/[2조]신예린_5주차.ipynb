{
 "cells": [
  {
   "cell_type": "code",
   "execution_count": 1,
   "id": "focal-craft",
   "metadata": {},
   "outputs": [],
   "source": [
    "import os\n",
    "import pandas as pd\n",
    "import numpy as np\n",
    "pd.set_option('display.max_columns', 30)\n",
    "\n",
    "import warnings\n",
    "warnings.filterwarnings('ignore')\n",
    "import matplotlib.pyplot as plt\n",
    "import seaborn as sns\n",
    "%matplotlib inline\n",
    "\n",
    "from IPython.core.interactiveshell import InteractiveShell\n",
    "InteractiveShell.ast_node_interactivity = 'all'"
   ]
  },
  {
   "cell_type": "markdown",
   "id": "medieval-final",
   "metadata": {},
   "source": [
    "# 1. 데이터 불러오기"
   ]
  },
  {
   "cell_type": "code",
   "execution_count": 2,
   "id": "green-patch",
   "metadata": {},
   "outputs": [
    {
     "data": {
      "text/plain": [
       "['test.csv', 'sample_submission.csv', 'train.csv']"
      ]
     },
     "execution_count": 2,
     "metadata": {},
     "output_type": "execute_result"
    }
   ],
   "source": [
    "path = os.getenv('HOME')+'/aiffel/DuSiData/data/'\n",
    "file_list = os.listdir(path)\n",
    "file_list"
   ]
  },
  {
   "cell_type": "code",
   "execution_count": 3,
   "id": "subsequent-payment",
   "metadata": {},
   "outputs": [],
   "source": [
    "test = pd.read_csv(path+file_list[0])\n",
    "train = pd.read_csv(path+file_list[2])\n",
    "sub = pd.read_csv(path+file_list[1])"
   ]
  },
  {
   "cell_type": "markdown",
   "id": "domestic-institution",
   "metadata": {},
   "source": [
    "# 2. EDA"
   ]
  },
  {
   "cell_type": "markdown",
   "id": "becoming-moscow",
   "metadata": {},
   "source": [
    "## 변수 자료형 및 의미"
   ]
  },
  {
   "cell_type": "markdown",
   "id": "phantom-trading",
   "metadata": {},
   "source": [
    "- `index`와 목적 변수 `credit`을 제외하면 변수 개수는 18개이다."
   ]
  },
  {
   "cell_type": "code",
   "execution_count": 4,
   "id": "large-biodiversity",
   "metadata": {
    "scrolled": true
   },
   "outputs": [
    {
     "data": {
      "text/plain": [
       "Index(['index', 'gender', 'car', 'reality', 'child_num', 'income_total',\n",
       "       'income_type', 'edu_type', 'family_type', 'house_type', 'DAYS_BIRTH',\n",
       "       'DAYS_EMPLOYED', 'FLAG_MOBIL', 'work_phone', 'phone', 'email',\n",
       "       'occyp_type', 'family_size', 'begin_month', 'credit'],\n",
       "      dtype='object')"
      ]
     },
     "execution_count": 4,
     "metadata": {},
     "output_type": "execute_result"
    }
   ],
   "source": [
    "train.columns"
   ]
  },
  {
   "cell_type": "markdown",
   "id": "missing-southeast",
   "metadata": {},
   "source": [
    "- `occyp_type`에만 결측치가 있다.\n",
    "- 타 변수와 결합해서 채워보자"
   ]
  },
  {
   "cell_type": "code",
   "execution_count": 5,
   "id": "loved-metropolitan",
   "metadata": {},
   "outputs": [
    {
     "name": "stdout",
     "output_type": "stream",
     "text": [
      "<class 'pandas.core.frame.DataFrame'>\n",
      "RangeIndex: 26457 entries, 0 to 26456\n",
      "Data columns (total 20 columns):\n",
      " #   Column         Non-Null Count  Dtype  \n",
      "---  ------         --------------  -----  \n",
      " 0   index          26457 non-null  int64  \n",
      " 1   gender         26457 non-null  object \n",
      " 2   car            26457 non-null  object \n",
      " 3   reality        26457 non-null  object \n",
      " 4   child_num      26457 non-null  int64  \n",
      " 5   income_total   26457 non-null  float64\n",
      " 6   income_type    26457 non-null  object \n",
      " 7   edu_type       26457 non-null  object \n",
      " 8   family_type    26457 non-null  object \n",
      " 9   house_type     26457 non-null  object \n",
      " 10  DAYS_BIRTH     26457 non-null  int64  \n",
      " 11  DAYS_EMPLOYED  26457 non-null  int64  \n",
      " 12  FLAG_MOBIL     26457 non-null  int64  \n",
      " 13  work_phone     26457 non-null  int64  \n",
      " 14  phone          26457 non-null  int64  \n",
      " 15  email          26457 non-null  int64  \n",
      " 16  occyp_type     18286 non-null  object \n",
      " 17  family_size    26457 non-null  float64\n",
      " 18  begin_month    26457 non-null  float64\n",
      " 19  credit         26457 non-null  float64\n",
      "dtypes: float64(4), int64(8), object(8)\n",
      "memory usage: 4.0+ MB\n"
     ]
    }
   ],
   "source": [
    "train.info()"
   ]
  },
  {
   "cell_type": "code",
   "execution_count": 6,
   "id": "clear-usage",
   "metadata": {},
   "outputs": [
    {
     "data": {
      "text/html": [
       "<div>\n",
       "<style scoped>\n",
       "    .dataframe tbody tr th:only-of-type {\n",
       "        vertical-align: middle;\n",
       "    }\n",
       "\n",
       "    .dataframe tbody tr th {\n",
       "        vertical-align: top;\n",
       "    }\n",
       "\n",
       "    .dataframe thead th {\n",
       "        text-align: right;\n",
       "    }\n",
       "</style>\n",
       "<table border=\"1\" class=\"dataframe\">\n",
       "  <thead>\n",
       "    <tr style=\"text-align: right;\">\n",
       "      <th></th>\n",
       "      <th>index</th>\n",
       "      <th>gender</th>\n",
       "      <th>car</th>\n",
       "      <th>reality</th>\n",
       "      <th>child_num</th>\n",
       "      <th>income_total</th>\n",
       "      <th>income_type</th>\n",
       "      <th>edu_type</th>\n",
       "      <th>family_type</th>\n",
       "      <th>house_type</th>\n",
       "      <th>DAYS_BIRTH</th>\n",
       "      <th>DAYS_EMPLOYED</th>\n",
       "      <th>FLAG_MOBIL</th>\n",
       "      <th>work_phone</th>\n",
       "      <th>phone</th>\n",
       "      <th>email</th>\n",
       "      <th>occyp_type</th>\n",
       "      <th>family_size</th>\n",
       "      <th>begin_month</th>\n",
       "      <th>credit</th>\n",
       "    </tr>\n",
       "  </thead>\n",
       "  <tbody>\n",
       "    <tr>\n",
       "      <th>0</th>\n",
       "      <td>0</td>\n",
       "      <td>F</td>\n",
       "      <td>N</td>\n",
       "      <td>N</td>\n",
       "      <td>0</td>\n",
       "      <td>202500.0</td>\n",
       "      <td>Commercial associate</td>\n",
       "      <td>Higher education</td>\n",
       "      <td>Married</td>\n",
       "      <td>Municipal apartment</td>\n",
       "      <td>-13899</td>\n",
       "      <td>-4709</td>\n",
       "      <td>1</td>\n",
       "      <td>0</td>\n",
       "      <td>0</td>\n",
       "      <td>0</td>\n",
       "      <td>NaN</td>\n",
       "      <td>2.0</td>\n",
       "      <td>-6.0</td>\n",
       "      <td>1.0</td>\n",
       "    </tr>\n",
       "    <tr>\n",
       "      <th>1</th>\n",
       "      <td>1</td>\n",
       "      <td>F</td>\n",
       "      <td>N</td>\n",
       "      <td>Y</td>\n",
       "      <td>1</td>\n",
       "      <td>247500.0</td>\n",
       "      <td>Commercial associate</td>\n",
       "      <td>Secondary / secondary special</td>\n",
       "      <td>Civil marriage</td>\n",
       "      <td>House / apartment</td>\n",
       "      <td>-11380</td>\n",
       "      <td>-1540</td>\n",
       "      <td>1</td>\n",
       "      <td>0</td>\n",
       "      <td>0</td>\n",
       "      <td>1</td>\n",
       "      <td>Laborers</td>\n",
       "      <td>3.0</td>\n",
       "      <td>-5.0</td>\n",
       "      <td>1.0</td>\n",
       "    </tr>\n",
       "    <tr>\n",
       "      <th>2</th>\n",
       "      <td>2</td>\n",
       "      <td>M</td>\n",
       "      <td>Y</td>\n",
       "      <td>Y</td>\n",
       "      <td>0</td>\n",
       "      <td>450000.0</td>\n",
       "      <td>Working</td>\n",
       "      <td>Higher education</td>\n",
       "      <td>Married</td>\n",
       "      <td>House / apartment</td>\n",
       "      <td>-19087</td>\n",
       "      <td>-4434</td>\n",
       "      <td>1</td>\n",
       "      <td>0</td>\n",
       "      <td>1</td>\n",
       "      <td>0</td>\n",
       "      <td>Managers</td>\n",
       "      <td>2.0</td>\n",
       "      <td>-22.0</td>\n",
       "      <td>2.0</td>\n",
       "    </tr>\n",
       "    <tr>\n",
       "      <th>3</th>\n",
       "      <td>3</td>\n",
       "      <td>F</td>\n",
       "      <td>N</td>\n",
       "      <td>Y</td>\n",
       "      <td>0</td>\n",
       "      <td>202500.0</td>\n",
       "      <td>Commercial associate</td>\n",
       "      <td>Secondary / secondary special</td>\n",
       "      <td>Married</td>\n",
       "      <td>House / apartment</td>\n",
       "      <td>-15088</td>\n",
       "      <td>-2092</td>\n",
       "      <td>1</td>\n",
       "      <td>0</td>\n",
       "      <td>1</td>\n",
       "      <td>0</td>\n",
       "      <td>Sales staff</td>\n",
       "      <td>2.0</td>\n",
       "      <td>-37.0</td>\n",
       "      <td>0.0</td>\n",
       "    </tr>\n",
       "    <tr>\n",
       "      <th>4</th>\n",
       "      <td>4</td>\n",
       "      <td>F</td>\n",
       "      <td>Y</td>\n",
       "      <td>Y</td>\n",
       "      <td>0</td>\n",
       "      <td>157500.0</td>\n",
       "      <td>State servant</td>\n",
       "      <td>Higher education</td>\n",
       "      <td>Married</td>\n",
       "      <td>House / apartment</td>\n",
       "      <td>-15037</td>\n",
       "      <td>-2105</td>\n",
       "      <td>1</td>\n",
       "      <td>0</td>\n",
       "      <td>0</td>\n",
       "      <td>0</td>\n",
       "      <td>Managers</td>\n",
       "      <td>2.0</td>\n",
       "      <td>-26.0</td>\n",
       "      <td>2.0</td>\n",
       "    </tr>\n",
       "  </tbody>\n",
       "</table>\n",
       "</div>"
      ],
      "text/plain": [
       "   index gender car reality  child_num  income_total           income_type  \\\n",
       "0      0      F   N       N          0      202500.0  Commercial associate   \n",
       "1      1      F   N       Y          1      247500.0  Commercial associate   \n",
       "2      2      M   Y       Y          0      450000.0               Working   \n",
       "3      3      F   N       Y          0      202500.0  Commercial associate   \n",
       "4      4      F   Y       Y          0      157500.0         State servant   \n",
       "\n",
       "                        edu_type     family_type           house_type  \\\n",
       "0               Higher education         Married  Municipal apartment   \n",
       "1  Secondary / secondary special  Civil marriage    House / apartment   \n",
       "2               Higher education         Married    House / apartment   \n",
       "3  Secondary / secondary special         Married    House / apartment   \n",
       "4               Higher education         Married    House / apartment   \n",
       "\n",
       "   DAYS_BIRTH  DAYS_EMPLOYED  FLAG_MOBIL  work_phone  phone  email  \\\n",
       "0      -13899          -4709           1           0      0      0   \n",
       "1      -11380          -1540           1           0      0      1   \n",
       "2      -19087          -4434           1           0      1      0   \n",
       "3      -15088          -2092           1           0      1      0   \n",
       "4      -15037          -2105           1           0      0      0   \n",
       "\n",
       "    occyp_type  family_size  begin_month  credit  \n",
       "0          NaN          2.0         -6.0     1.0  \n",
       "1     Laborers          3.0         -5.0     1.0  \n",
       "2     Managers          2.0        -22.0     2.0  \n",
       "3  Sales staff          2.0        -37.0     0.0  \n",
       "4     Managers          2.0        -26.0     2.0  "
      ]
     },
     "execution_count": 6,
     "metadata": {},
     "output_type": "execute_result"
    },
    {
     "data": {
      "text/html": [
       "<div>\n",
       "<style scoped>\n",
       "    .dataframe tbody tr th:only-of-type {\n",
       "        vertical-align: middle;\n",
       "    }\n",
       "\n",
       "    .dataframe tbody tr th {\n",
       "        vertical-align: top;\n",
       "    }\n",
       "\n",
       "    .dataframe thead th {\n",
       "        text-align: right;\n",
       "    }\n",
       "</style>\n",
       "<table border=\"1\" class=\"dataframe\">\n",
       "  <thead>\n",
       "    <tr style=\"text-align: right;\">\n",
       "      <th></th>\n",
       "      <th>index</th>\n",
       "      <th>gender</th>\n",
       "      <th>car</th>\n",
       "      <th>reality</th>\n",
       "      <th>child_num</th>\n",
       "      <th>income_total</th>\n",
       "      <th>income_type</th>\n",
       "      <th>edu_type</th>\n",
       "      <th>family_type</th>\n",
       "      <th>house_type</th>\n",
       "      <th>DAYS_BIRTH</th>\n",
       "      <th>DAYS_EMPLOYED</th>\n",
       "      <th>FLAG_MOBIL</th>\n",
       "      <th>work_phone</th>\n",
       "      <th>phone</th>\n",
       "      <th>email</th>\n",
       "      <th>occyp_type</th>\n",
       "      <th>family_size</th>\n",
       "      <th>begin_month</th>\n",
       "    </tr>\n",
       "  </thead>\n",
       "  <tbody>\n",
       "    <tr>\n",
       "      <th>0</th>\n",
       "      <td>26457</td>\n",
       "      <td>M</td>\n",
       "      <td>Y</td>\n",
       "      <td>N</td>\n",
       "      <td>0</td>\n",
       "      <td>112500.0</td>\n",
       "      <td>Pensioner</td>\n",
       "      <td>Secondary / secondary special</td>\n",
       "      <td>Civil marriage</td>\n",
       "      <td>House / apartment</td>\n",
       "      <td>-21990</td>\n",
       "      <td>365243</td>\n",
       "      <td>1</td>\n",
       "      <td>0</td>\n",
       "      <td>1</td>\n",
       "      <td>0</td>\n",
       "      <td>NaN</td>\n",
       "      <td>2.0</td>\n",
       "      <td>-60.0</td>\n",
       "    </tr>\n",
       "    <tr>\n",
       "      <th>1</th>\n",
       "      <td>26458</td>\n",
       "      <td>F</td>\n",
       "      <td>N</td>\n",
       "      <td>Y</td>\n",
       "      <td>0</td>\n",
       "      <td>135000.0</td>\n",
       "      <td>State servant</td>\n",
       "      <td>Higher education</td>\n",
       "      <td>Married</td>\n",
       "      <td>House / apartment</td>\n",
       "      <td>-18964</td>\n",
       "      <td>-8671</td>\n",
       "      <td>1</td>\n",
       "      <td>0</td>\n",
       "      <td>1</td>\n",
       "      <td>0</td>\n",
       "      <td>Core staff</td>\n",
       "      <td>2.0</td>\n",
       "      <td>-36.0</td>\n",
       "    </tr>\n",
       "    <tr>\n",
       "      <th>2</th>\n",
       "      <td>26459</td>\n",
       "      <td>F</td>\n",
       "      <td>N</td>\n",
       "      <td>Y</td>\n",
       "      <td>0</td>\n",
       "      <td>69372.0</td>\n",
       "      <td>Working</td>\n",
       "      <td>Secondary / secondary special</td>\n",
       "      <td>Married</td>\n",
       "      <td>House / apartment</td>\n",
       "      <td>-15887</td>\n",
       "      <td>-217</td>\n",
       "      <td>1</td>\n",
       "      <td>1</td>\n",
       "      <td>1</td>\n",
       "      <td>0</td>\n",
       "      <td>Laborers</td>\n",
       "      <td>2.0</td>\n",
       "      <td>-40.0</td>\n",
       "    </tr>\n",
       "    <tr>\n",
       "      <th>3</th>\n",
       "      <td>26460</td>\n",
       "      <td>M</td>\n",
       "      <td>Y</td>\n",
       "      <td>N</td>\n",
       "      <td>0</td>\n",
       "      <td>112500.0</td>\n",
       "      <td>Commercial associate</td>\n",
       "      <td>Secondary / secondary special</td>\n",
       "      <td>Married</td>\n",
       "      <td>House / apartment</td>\n",
       "      <td>-19270</td>\n",
       "      <td>-2531</td>\n",
       "      <td>1</td>\n",
       "      <td>1</td>\n",
       "      <td>0</td>\n",
       "      <td>0</td>\n",
       "      <td>Drivers</td>\n",
       "      <td>2.0</td>\n",
       "      <td>-41.0</td>\n",
       "    </tr>\n",
       "    <tr>\n",
       "      <th>4</th>\n",
       "      <td>26461</td>\n",
       "      <td>F</td>\n",
       "      <td>Y</td>\n",
       "      <td>Y</td>\n",
       "      <td>0</td>\n",
       "      <td>225000.0</td>\n",
       "      <td>State servant</td>\n",
       "      <td>Higher education</td>\n",
       "      <td>Married</td>\n",
       "      <td>House / apartment</td>\n",
       "      <td>-17822</td>\n",
       "      <td>-9385</td>\n",
       "      <td>1</td>\n",
       "      <td>1</td>\n",
       "      <td>0</td>\n",
       "      <td>0</td>\n",
       "      <td>Managers</td>\n",
       "      <td>2.0</td>\n",
       "      <td>-8.0</td>\n",
       "    </tr>\n",
       "  </tbody>\n",
       "</table>\n",
       "</div>"
      ],
      "text/plain": [
       "   index gender car reality  child_num  income_total           income_type  \\\n",
       "0  26457      M   Y       N          0      112500.0             Pensioner   \n",
       "1  26458      F   N       Y          0      135000.0         State servant   \n",
       "2  26459      F   N       Y          0       69372.0               Working   \n",
       "3  26460      M   Y       N          0      112500.0  Commercial associate   \n",
       "4  26461      F   Y       Y          0      225000.0         State servant   \n",
       "\n",
       "                        edu_type     family_type         house_type  \\\n",
       "0  Secondary / secondary special  Civil marriage  House / apartment   \n",
       "1               Higher education         Married  House / apartment   \n",
       "2  Secondary / secondary special         Married  House / apartment   \n",
       "3  Secondary / secondary special         Married  House / apartment   \n",
       "4               Higher education         Married  House / apartment   \n",
       "\n",
       "   DAYS_BIRTH  DAYS_EMPLOYED  FLAG_MOBIL  work_phone  phone  email  \\\n",
       "0      -21990         365243           1           0      1      0   \n",
       "1      -18964          -8671           1           0      1      0   \n",
       "2      -15887           -217           1           1      1      0   \n",
       "3      -19270          -2531           1           1      0      0   \n",
       "4      -17822          -9385           1           1      0      0   \n",
       "\n",
       "   occyp_type  family_size  begin_month  \n",
       "0         NaN          2.0        -60.0  \n",
       "1  Core staff          2.0        -36.0  \n",
       "2    Laborers          2.0        -40.0  \n",
       "3     Drivers          2.0        -41.0  \n",
       "4    Managers          2.0         -8.0  "
      ]
     },
     "execution_count": 6,
     "metadata": {},
     "output_type": "execute_result"
    }
   ],
   "source": [
    "train.head()\n",
    "test.head()"
   ]
  },
  {
   "cell_type": "code",
   "execution_count": 7,
   "id": "geographic-syndicate",
   "metadata": {
    "scrolled": false
   },
   "outputs": [
    {
     "data": {
      "text/html": [
       "<div>\n",
       "<style scoped>\n",
       "    .dataframe tbody tr th:only-of-type {\n",
       "        vertical-align: middle;\n",
       "    }\n",
       "\n",
       "    .dataframe tbody tr th {\n",
       "        vertical-align: top;\n",
       "    }\n",
       "\n",
       "    .dataframe thead th {\n",
       "        text-align: right;\n",
       "    }\n",
       "</style>\n",
       "<table border=\"1\" class=\"dataframe\">\n",
       "  <thead>\n",
       "    <tr style=\"text-align: right;\">\n",
       "      <th></th>\n",
       "      <th>index</th>\n",
       "      <th>child_num</th>\n",
       "      <th>income_total</th>\n",
       "      <th>DAYS_BIRTH</th>\n",
       "      <th>DAYS_EMPLOYED</th>\n",
       "      <th>FLAG_MOBIL</th>\n",
       "      <th>work_phone</th>\n",
       "      <th>phone</th>\n",
       "      <th>email</th>\n",
       "      <th>family_size</th>\n",
       "      <th>begin_month</th>\n",
       "      <th>credit</th>\n",
       "    </tr>\n",
       "  </thead>\n",
       "  <tbody>\n",
       "    <tr>\n",
       "      <th>count</th>\n",
       "      <td>26457.000000</td>\n",
       "      <td>26457.000000</td>\n",
       "      <td>2.645700e+04</td>\n",
       "      <td>26457.000000</td>\n",
       "      <td>26457.000000</td>\n",
       "      <td>26457.0</td>\n",
       "      <td>26457.000000</td>\n",
       "      <td>26457.000000</td>\n",
       "      <td>26457.000000</td>\n",
       "      <td>26457.000000</td>\n",
       "      <td>26457.000000</td>\n",
       "      <td>26457.000000</td>\n",
       "    </tr>\n",
       "    <tr>\n",
       "      <th>mean</th>\n",
       "      <td>13228.000000</td>\n",
       "      <td>0.428658</td>\n",
       "      <td>1.873065e+05</td>\n",
       "      <td>-15958.053899</td>\n",
       "      <td>59068.750728</td>\n",
       "      <td>1.0</td>\n",
       "      <td>0.224742</td>\n",
       "      <td>0.294251</td>\n",
       "      <td>0.091280</td>\n",
       "      <td>2.196848</td>\n",
       "      <td>-26.123294</td>\n",
       "      <td>1.519560</td>\n",
       "    </tr>\n",
       "    <tr>\n",
       "      <th>std</th>\n",
       "      <td>7637.622372</td>\n",
       "      <td>0.747326</td>\n",
       "      <td>1.018784e+05</td>\n",
       "      <td>4201.589022</td>\n",
       "      <td>137475.427503</td>\n",
       "      <td>0.0</td>\n",
       "      <td>0.417420</td>\n",
       "      <td>0.455714</td>\n",
       "      <td>0.288013</td>\n",
       "      <td>0.916717</td>\n",
       "      <td>16.559550</td>\n",
       "      <td>0.702283</td>\n",
       "    </tr>\n",
       "    <tr>\n",
       "      <th>min</th>\n",
       "      <td>0.000000</td>\n",
       "      <td>0.000000</td>\n",
       "      <td>2.700000e+04</td>\n",
       "      <td>-25152.000000</td>\n",
       "      <td>-15713.000000</td>\n",
       "      <td>1.0</td>\n",
       "      <td>0.000000</td>\n",
       "      <td>0.000000</td>\n",
       "      <td>0.000000</td>\n",
       "      <td>1.000000</td>\n",
       "      <td>-60.000000</td>\n",
       "      <td>0.000000</td>\n",
       "    </tr>\n",
       "    <tr>\n",
       "      <th>25%</th>\n",
       "      <td>6614.000000</td>\n",
       "      <td>0.000000</td>\n",
       "      <td>1.215000e+05</td>\n",
       "      <td>-19431.000000</td>\n",
       "      <td>-3153.000000</td>\n",
       "      <td>1.0</td>\n",
       "      <td>0.000000</td>\n",
       "      <td>0.000000</td>\n",
       "      <td>0.000000</td>\n",
       "      <td>2.000000</td>\n",
       "      <td>-39.000000</td>\n",
       "      <td>1.000000</td>\n",
       "    </tr>\n",
       "    <tr>\n",
       "      <th>50%</th>\n",
       "      <td>13228.000000</td>\n",
       "      <td>0.000000</td>\n",
       "      <td>1.575000e+05</td>\n",
       "      <td>-15547.000000</td>\n",
       "      <td>-1539.000000</td>\n",
       "      <td>1.0</td>\n",
       "      <td>0.000000</td>\n",
       "      <td>0.000000</td>\n",
       "      <td>0.000000</td>\n",
       "      <td>2.000000</td>\n",
       "      <td>-24.000000</td>\n",
       "      <td>2.000000</td>\n",
       "    </tr>\n",
       "    <tr>\n",
       "      <th>75%</th>\n",
       "      <td>19842.000000</td>\n",
       "      <td>1.000000</td>\n",
       "      <td>2.250000e+05</td>\n",
       "      <td>-12446.000000</td>\n",
       "      <td>-407.000000</td>\n",
       "      <td>1.0</td>\n",
       "      <td>0.000000</td>\n",
       "      <td>1.000000</td>\n",
       "      <td>0.000000</td>\n",
       "      <td>3.000000</td>\n",
       "      <td>-12.000000</td>\n",
       "      <td>2.000000</td>\n",
       "    </tr>\n",
       "    <tr>\n",
       "      <th>max</th>\n",
       "      <td>26456.000000</td>\n",
       "      <td>19.000000</td>\n",
       "      <td>1.575000e+06</td>\n",
       "      <td>-7705.000000</td>\n",
       "      <td>365243.000000</td>\n",
       "      <td>1.0</td>\n",
       "      <td>1.000000</td>\n",
       "      <td>1.000000</td>\n",
       "      <td>1.000000</td>\n",
       "      <td>20.000000</td>\n",
       "      <td>0.000000</td>\n",
       "      <td>2.000000</td>\n",
       "    </tr>\n",
       "  </tbody>\n",
       "</table>\n",
       "</div>"
      ],
      "text/plain": [
       "              index     child_num  income_total    DAYS_BIRTH  DAYS_EMPLOYED  \\\n",
       "count  26457.000000  26457.000000  2.645700e+04  26457.000000   26457.000000   \n",
       "mean   13228.000000      0.428658  1.873065e+05 -15958.053899   59068.750728   \n",
       "std     7637.622372      0.747326  1.018784e+05   4201.589022  137475.427503   \n",
       "min        0.000000      0.000000  2.700000e+04 -25152.000000  -15713.000000   \n",
       "25%     6614.000000      0.000000  1.215000e+05 -19431.000000   -3153.000000   \n",
       "50%    13228.000000      0.000000  1.575000e+05 -15547.000000   -1539.000000   \n",
       "75%    19842.000000      1.000000  2.250000e+05 -12446.000000    -407.000000   \n",
       "max    26456.000000     19.000000  1.575000e+06  -7705.000000  365243.000000   \n",
       "\n",
       "       FLAG_MOBIL    work_phone         phone         email   family_size  \\\n",
       "count     26457.0  26457.000000  26457.000000  26457.000000  26457.000000   \n",
       "mean          1.0      0.224742      0.294251      0.091280      2.196848   \n",
       "std           0.0      0.417420      0.455714      0.288013      0.916717   \n",
       "min           1.0      0.000000      0.000000      0.000000      1.000000   \n",
       "25%           1.0      0.000000      0.000000      0.000000      2.000000   \n",
       "50%           1.0      0.000000      0.000000      0.000000      2.000000   \n",
       "75%           1.0      0.000000      1.000000      0.000000      3.000000   \n",
       "max           1.0      1.000000      1.000000      1.000000     20.000000   \n",
       "\n",
       "        begin_month        credit  \n",
       "count  26457.000000  26457.000000  \n",
       "mean     -26.123294      1.519560  \n",
       "std       16.559550      0.702283  \n",
       "min      -60.000000      0.000000  \n",
       "25%      -39.000000      1.000000  \n",
       "50%      -24.000000      2.000000  \n",
       "75%      -12.000000      2.000000  \n",
       "max        0.000000      2.000000  "
      ]
     },
     "execution_count": 7,
     "metadata": {},
     "output_type": "execute_result"
    }
   ],
   "source": [
    "train.describe()"
   ]
  },
  {
   "cell_type": "markdown",
   "id": "forced-guarantee",
   "metadata": {},
   "source": [
    "## 변수 의미 및 범위 정리"
   ]
  },
  {
   "cell_type": "markdown",
   "id": "bottom-review",
   "metadata": {},
   "source": [
    "|컬럼명|의미|값범위|\n",
    "|-----|-------------------------------|-------------------------|\n",
    "|gender|성별|F/M|\n",
    "|car|차 소유여부|N/Y|\n",
    "|reality|부동산 소유여부|N/Y|\n",
    "|child_num|자녀수|0~19|\n",
    "|income_total|총 소득| 27000.0 ~ 1575000.0 |\n",
    "|income_type|수입 유형|'Commercial associate' 'Working' 'State servant' 'Pensioner' 'Student'|\n",
    "|edu_type|최종학력|'Higher education' 'Secondary / secondary special' 'Incomplete higher' 'Lower secondary' 'Academic degree'|\n",
    "|family_type|가족 유형|'Married' 'Civil marriage' 'Separated' 'Single / not married' 'Widow'|\n",
    "|house_type|주거 유형|'Municipal apartment' 'House / apartment' 'With parents' 'Co-op apartment' 'Rented apartment' 'Office apartment'|\n",
    "|DAYS_BIRTH|생년월일(데이터 수집 시점으로 부터 며칠 전인지)| -25152 ~ -7705 |\n",
    "|DAYS_EMPLOYED|고용일자(데이터 수집 시점으로 부터 며칠 전인지) 직업이 없으면 365243| -15713 ~ 365243 |\n",
    "|FLAG_MOBIL|휴대전화 소유 여부|1|\n",
    "|work_phone|업무용 전화 소유 여부|0,1|\n",
    "|phone|가정용 전화 소유 여부|0,1|\n",
    "|email|이메일 여부|0,1|\n",
    "|occyp_type|고용 유형|nan 'Laborers' 'Managers' 'Sales staff' 'High skill tech staff' 'Core staff' 'Drivers' 'Medicine staff' 'Accountants' 'Realty agents' 'Security staff' 'Cleaning staff' 'Private service staff' 'Cooking staff' 'Secretaries' 'HR staff' 'IT staff' 'Low-skill Laborers' 'Waiters/barmen staff'|\n",
    "|family_size|가족 크기| 1.0 ~ 20.0 |\n",
    "|begin_month|카드 사용 시작 월| -60.0 ~ 0.0 |\n",
    "|credit|신용도(낮을 수록 좋음)| 0.0,1.0,2.0 |"
   ]
  },
  {
   "cell_type": "markdown",
   "id": "foreign-islam",
   "metadata": {},
   "source": [
    "- `FLAG_MOBIL`은 모든 데이터가 다 1이어서 삭제해도 될 듯 하다."
   ]
  },
  {
   "cell_type": "markdown",
   "id": "arbitrary-chancellor",
   "metadata": {},
   "source": [
    "### 범주형 변수"
   ]
  },
  {
   "cell_type": "code",
   "execution_count": 38,
   "id": "rental-patrol",
   "metadata": {},
   "outputs": [],
   "source": [
    "categoric = ['gender','car','reality','income_type','edu_type','family_type','house_type','occyp_type','FLAG_MOBIL', 'work_phone','phone','email']"
   ]
  },
  {
   "cell_type": "code",
   "execution_count": 17,
   "id": "french-landing",
   "metadata": {
    "scrolled": true
   },
   "outputs": [
    {
     "name": "stdout",
     "output_type": "stream",
     "text": [
      "child_num :  0 ~ 19\n",
      "child_num 평균  0.42865782212646936\n",
      "income_total :  27000.0 ~ 1575000.0\n",
      "income_total 평균  187306.52449257285\n",
      "DAYS_BIRTH :  -25152 ~ -7705\n",
      "DAYS_BIRTH 평균  -15958.053898779151\n",
      "DAYS_EMPLOYED :  -15713 ~ 365243\n",
      "DAYS_EMPLOYED 평균  59068.75072759572\n",
      "family_size :  1.0 ~ 20.0\n",
      "family_size 평균  2.196847715160449\n",
      "begin_month :  -60.0 ~ 0.0\n",
      "begin_month 평균  -26.123294402237594\n",
      "credit :  0.0 ~ 2.0\n",
      "credit 평균  1.5195600408209549\n"
     ]
    }
   ],
   "source": [
    "for col in numeric:\n",
    "    print(f'{col} : ',train[col].min(),'~',train[col].max())\n",
    "    print(f'{col} 평균 ',train[col].mean())"
   ]
  },
  {
   "cell_type": "code",
   "execution_count": 17,
   "id": "limiting-genre",
   "metadata": {
    "scrolled": true
   },
   "outputs": [
    {
     "name": "stdout",
     "output_type": "stream",
     "text": [
      "child_num :  0 ~ 19\n",
      "child_num 평균  0.42865782212646936\n",
      "income_total :  27000.0 ~ 1575000.0\n",
      "income_total 평균  187306.52449257285\n",
      "DAYS_BIRTH :  -25152 ~ -7705\n",
      "DAYS_BIRTH 평균  -15958.053898779151\n",
      "DAYS_EMPLOYED :  -15713 ~ 365243\n",
      "DAYS_EMPLOYED 평균  59068.75072759572\n",
      "family_size :  1.0 ~ 20.0\n",
      "family_size 평균  2.196847715160449\n",
      "begin_month :  -60.0 ~ 0.0\n",
      "begin_month 평균  -26.123294402237594\n",
      "credit :  0.0 ~ 2.0\n",
      "credit 평균  1.5195600408209549\n"
     ]
    }
   ],
   "source": [
    "for col in numeric:\n",
    "    print(f'{col} : ',train[col].min(),'~',train[col].max())\n",
    "    print(f'{col} 평균 ',train[col].mean())"
   ]
  },
  {
   "cell_type": "code",
   "execution_count": 22,
   "id": "cubic-holmes",
   "metadata": {
    "scrolled": false
   },
   "outputs": [
    {
     "name": "stdout",
     "output_type": "stream",
     "text": [
      "======== gender 범주 종류 ========\n",
      " ['F' 'M']\n",
      "======== car 범주 종류 ========\n",
      " ['N' 'Y']\n",
      "======== reality 범주 종류 ========\n",
      " ['N' 'Y']\n",
      "======== income_type 범주 종류 ========\n",
      " ['Commercial associate' 'Working' 'State servant' 'Pensioner' 'Student']\n",
      "======== edu_type 범주 종류 ========\n",
      " ['Higher education' 'Secondary / secondary special' 'Incomplete higher'\n",
      " 'Lower secondary' 'Academic degree']\n",
      "======== family_type 범주 종류 ========\n",
      " ['Married' 'Civil marriage' 'Separated' 'Single / not married' 'Widow']\n",
      "======== house_type 범주 종류 ========\n",
      " ['Municipal apartment' 'House / apartment' 'With parents'\n",
      " 'Co-op apartment' 'Rented apartment' 'Office apartment']\n",
      "======== occyp_type 범주 종류 ========\n",
      " [nan 'Laborers' 'Managers' 'Sales staff' 'High skill tech staff'\n",
      " 'Core staff' 'Drivers' 'Medicine staff' 'Accountants' 'Realty agents'\n",
      " 'Security staff' 'Cleaning staff' 'Private service staff' 'Cooking staff'\n",
      " 'Secretaries' 'HR staff' 'IT staff' 'Low-skill Laborers'\n",
      " 'Waiters/barmen staff']\n",
      "======== FLAG_MOBIL 범주 종류 ========\n",
      " [1]\n",
      "======== work_phone 범주 종류 ========\n",
      " [0 1]\n",
      "======== phone 범주 종류 ========\n",
      " [0 1]\n",
      "======== email 범주 종류 ========\n",
      " [0 1]\n"
     ]
    }
   ],
   "source": [
    "for col in categoric:\n",
    "    print(f'======== {col} 범주 종류 ========\\n',train[col].unique())"
   ]
  },
  {
   "cell_type": "markdown",
   "id": "spiritual-values",
   "metadata": {},
   "source": [
    "- 범주 개수가 적은 값들 끼리 시각화를 하자."
   ]
  },
  {
   "cell_type": "code",
   "execution_count": 45,
   "id": "little-african",
   "metadata": {},
   "outputs": [
    {
     "data": {
      "text/plain": [
       "['gender', 'car', 'reality', 'FLAG_MOBIL', 'work_phone', 'phone', 'email']"
      ]
     },
     "execution_count": 45,
     "metadata": {},
     "output_type": "execute_result"
    }
   ],
   "source": [
    "few_catogries = [cat for cat in train.columns if train[cat].nunique()<3]\n",
    "few_catogries"
   ]
  },
  {
   "cell_type": "code",
   "execution_count": 46,
   "id": "dependent-transsexual",
   "metadata": {
    "scrolled": false
   },
   "outputs": [
    {
     "data": {
      "text/plain": [
       "<AxesSubplot:xlabel='gender', ylabel='count'>"
      ]
     },
     "execution_count": 46,
     "metadata": {},
     "output_type": "execute_result"
    },
    {
     "data": {
      "text/plain": [
       "Text(0.5, 1.0, 'gender')"
      ]
     },
     "execution_count": 46,
     "metadata": {},
     "output_type": "execute_result"
    },
    {
     "data": {
      "text/plain": [
       "<AxesSubplot:xlabel='car', ylabel='count'>"
      ]
     },
     "execution_count": 46,
     "metadata": {},
     "output_type": "execute_result"
    },
    {
     "data": {
      "text/plain": [
       "Text(0.5, 1.0, 'car')"
      ]
     },
     "execution_count": 46,
     "metadata": {},
     "output_type": "execute_result"
    },
    {
     "data": {
      "text/plain": [
       "<AxesSubplot:xlabel='reality', ylabel='count'>"
      ]
     },
     "execution_count": 46,
     "metadata": {},
     "output_type": "execute_result"
    },
    {
     "data": {
      "text/plain": [
       "Text(0.5, 1.0, 'reality')"
      ]
     },
     "execution_count": 46,
     "metadata": {},
     "output_type": "execute_result"
    },
    {
     "data": {
      "text/plain": [
       "<AxesSubplot:xlabel='FLAG_MOBIL', ylabel='count'>"
      ]
     },
     "execution_count": 46,
     "metadata": {},
     "output_type": "execute_result"
    },
    {
     "data": {
      "text/plain": [
       "Text(0.5, 1.0, 'FLAG_MOBIL')"
      ]
     },
     "execution_count": 46,
     "metadata": {},
     "output_type": "execute_result"
    },
    {
     "data": {
      "text/plain": [
       "<AxesSubplot:xlabel='work_phone', ylabel='count'>"
      ]
     },
     "execution_count": 46,
     "metadata": {},
     "output_type": "execute_result"
    },
    {
     "data": {
      "text/plain": [
       "Text(0.5, 1.0, 'work_phone')"
      ]
     },
     "execution_count": 46,
     "metadata": {},
     "output_type": "execute_result"
    },
    {
     "data": {
      "text/plain": [
       "<AxesSubplot:xlabel='phone', ylabel='count'>"
      ]
     },
     "execution_count": 46,
     "metadata": {},
     "output_type": "execute_result"
    },
    {
     "data": {
      "text/plain": [
       "Text(0.5, 1.0, 'phone')"
      ]
     },
     "execution_count": 46,
     "metadata": {},
     "output_type": "execute_result"
    },
    {
     "data": {
      "text/plain": [
       "<AxesSubplot:xlabel='email', ylabel='count'>"
      ]
     },
     "execution_count": 46,
     "metadata": {},
     "output_type": "execute_result"
    },
    {
     "data": {
      "text/plain": [
       "Text(0.5, 1.0, 'email')"
      ]
     },
     "execution_count": 46,
     "metadata": {},
     "output_type": "execute_result"
    },
    {
     "data": {
      "image/png": "[encoded data removed]",
      "text/plain": [
       "<Figure size 864x720 with 8 Axes>"
      ]
     },
     "metadata": {
      "needs_background": "light"
     },
     "output_type": "display_data"
    }
   ],
   "source": [
    "fig, ax = plt.subplots(2,4, figsize=(12,10), constrained_layout=True)\n",
    "count = 0\n",
    "for row in range(2):\n",
    "    for col in range(4):\n",
    "        if count == len(few_catogries): break\n",
    "        sns.countplot(train[few_catogries[count]], ax=ax[row][col])\n",
    "        ax[row][col].set_title(few_catogries[count])\n",
    "        count += 1\n",
    "plt.show()"
   ]
  },
  {
   "cell_type": "markdown",
   "id": "italian-swaziland",
   "metadata": {},
   "source": [
    "- 여성 > 남성\n",
    "- 차 미보유 > 차 보유\n",
    "- 부동산 보유 > 부동산 미보유\n",
    "- 업무용 전화 미보유 > 업무용 전화 보유\n",
    "- 집 전화 미보유 > 집 전화 보유\n",
    "- 이메일 미보유 > 이메일 보유"
   ]
  },
  {
   "cell_type": "code",
   "execution_count": 52,
   "id": "friendly-holiday",
   "metadata": {},
   "outputs": [
    {
     "data": {
      "text/plain": [
       "['income_type', 'edu_type', 'family_type', 'house_type', 'occyp_type']"
      ]
     },
     "execution_count": 52,
     "metadata": {},
     "output_type": "execute_result"
    }
   ],
   "source": [
    "else_categories = [col for col in categoric if col not in few_catogries]\n",
    "else_categories"
   ]
  },
  {
   "cell_type": "code",
   "execution_count": 72,
   "id": "angry-pencil",
   "metadata": {
    "scrolled": false
   },
   "outputs": [
    {
     "data": {
      "text/plain": [
       "<Figure size 1080x576 with 0 Axes>"
      ]
     },
     "execution_count": 72,
     "metadata": {},
     "output_type": "execute_result"
    },
    {
     "data": {
      "text/plain": [
       "<AxesSubplot:xlabel='income_type', ylabel='count'>"
      ]
     },
     "execution_count": 72,
     "metadata": {},
     "output_type": "execute_result"
    },
    {
     "data": {
      "text/plain": [
       "Text(0.5, 1.0, 'income_type')"
      ]
     },
     "execution_count": 72,
     "metadata": {},
     "output_type": "execute_result"
    },
    {
     "data": {
      "image/png": "[encoded data removed]",
      "text/plain": [
       "<Figure size 1080x576 with 1 Axes>"
      ]
     },
     "metadata": {
      "needs_background": "light"
     },
     "output_type": "display_data"
    },
    {
     "data": {
      "text/plain": [
       "<Figure size 1080x576 with 0 Axes>"
      ]
     },
     "execution_count": 72,
     "metadata": {},
     "output_type": "execute_result"
    },
    {
     "data": {
      "text/plain": [
       "<AxesSubplot:xlabel='edu_type', ylabel='count'>"
      ]
     },
     "execution_count": 72,
     "metadata": {},
     "output_type": "execute_result"
    },
    {
     "data": {
      "text/plain": [
       "Text(0.5, 1.0, 'edu_type')"
      ]
     },
     "execution_count": 72,
     "metadata": {},
     "output_type": "execute_result"
    },
    {
     "data": {
      "image/png": "[encoded data removed]",
      "text/plain": [
       "<Figure size 1080x576 with 1 Axes>"
      ]
     },
     "metadata": {
      "needs_background": "light"
     },
     "output_type": "display_data"
    },
    {
     "data": {
      "text/plain": [
       "<Figure size 1080x576 with 0 Axes>"
      ]
     },
     "execution_count": 72,
     "metadata": {},
     "output_type": "execute_result"
    },
    {
     "data": {
      "text/plain": [
       "<AxesSubplot:xlabel='family_type', ylabel='count'>"
      ]
     },
     "execution_count": 72,
     "metadata": {},
     "output_type": "execute_result"
    },
    {
     "data": {
      "text/plain": [
       "Text(0.5, 1.0, 'family_type')"
      ]
     },
     "execution_count": 72,
     "metadata": {},
     "output_type": "execute_result"
    },
    {
     "data": {
      "image/png": "[encoded data removed]",
      "text/plain": [
       "<Figure size 1080x576 with 1 Axes>"
      ]
     },
     "metadata": {
      "needs_background": "light"
     },
     "output_type": "display_data"
    },
    {
     "data": {
      "text/plain": [
       "<Figure size 1080x576 with 0 Axes>"
      ]
     },
     "execution_count": 72,
     "metadata": {},
     "output_type": "execute_result"
    },
    {
     "data": {
      "text/plain": [
       "<AxesSubplot:xlabel='house_type', ylabel='count'>"
      ]
     },
     "execution_count": 72,
     "metadata": {},
     "output_type": "execute_result"
    },
    {
     "data": {
      "text/plain": [
       "Text(0.5, 1.0, 'house_type')"
      ]
     },
     "execution_count": 72,
     "metadata": {},
     "output_type": "execute_result"
    },
    {
     "data": {
      "image/png": "[encoded data removed]",
      "text/plain": [
       "<Figure size 1080x576 with 1 Axes>"
      ]
     },
     "metadata": {
      "needs_background": "light"
     },
     "output_type": "display_data"
    },
    {
     "data": {
      "text/plain": [
       "<Figure size 1080x576 with 0 Axes>"
      ]
     },
     "execution_count": 72,
     "metadata": {},
     "output_type": "execute_result"
    },
    {
     "data": {
      "text/plain": [
       "<AxesSubplot:xlabel='occyp_type', ylabel='count'>"
      ]
     },
     "execution_count": 72,
     "metadata": {},
     "output_type": "execute_result"
    },
    {
     "data": {
      "text/plain": [
       "Text(0.5, 1.0, 'occyp_type')"
      ]
     },
     "execution_count": 72,
     "metadata": {},
     "output_type": "execute_result"
    },
    {
     "data": {
      "image/png": "[encoded data removed]",
      "text/plain": [
       "<Figure size 1080x576 with 1 Axes>"
      ]
     },
     "metadata": {
      "needs_background": "light"
     },
     "output_type": "display_data"
    }
   ],
   "source": [
    "for row in range(5):\n",
    "    plt.figure(figsize=(15,8))\n",
    "    sns.countplot(train[else_categories[row]])\n",
    "    plt.title(else_categories[row])\n",
    "    plt.show()"
   ]
  },
  {
   "cell_type": "markdown",
   "id": "grateful-organization",
   "metadata": {},
   "source": [
    "- 소득 유형은 `Working`이 가장 많다\n",
    "- 최종 학력은 `Secondary/ secondary special`이 가장 많다\n",
    "- 가족 유형은 `Marriged`가 가장 많다. 그 뒤를 `Single/ not married`가 뒤따르고 있다.\n",
    "- 주거 유형은 `House/ apartment`가 가장 많다.\n",
    "- 직업 유형은 `Laborers`가 가장 많았고 그 뒤를 `Core Staff`와 `Sales Staff`가 이었다."
   ]
  },
  {
   "cell_type": "markdown",
   "id": "supreme-prisoner",
   "metadata": {},
   "source": [
    "- 수입 형태\n",
    "    - 'Commercial associate' : 사업 소득? 은행?\n",
    "    - 'Working' : 근로 중\n",
    "    - 'State servant' : 공무원\n",
    "    - 'Pensioner': 연금 수급자 -> `occyp_type`에 nan이 절대적으로 많았음\n",
    "    - 'Student' : 학생 신분\n",
    "- 최종학력\n",
    "\n",
    "    - 'Academic degree' : 학사 이상\n",
    "    - 'Higher education' : 고등 교육\n",
    "    - 'Incomplete higher' : 고등 교육 중퇴\n",
    "    - 'Secondary / secondary special' : 중등교육\n",
    "    - 'Lower secondary' : 중졸 이하\n",
    "- 가족 유형\n",
    "\n",
    "    - 'Married' : 기혼\n",
    "    - 'Civil marriage' : 사실혼\n",
    "    - 'Separated' : 별거\n",
    "    - 'Single / not married' : 싱글\n",
    "    - 'Widow': 사별\n",
    "\n",
    "- 주거유형\n",
    "\n",
    "    - 'Municipal apartment' : 공공 주택 (SH, LH 느낌)\n",
    "    - 'House / apartment' : 집\n",
    "    - 'With parents' : 부모님 집\n",
    "    - 'Co-op apartment' : 공동 주택 (하우스쉐어)\n",
    "    - 'Rented apartment' : 전세\n",
    "    - 'Office apartment' : 오피스텔\n",
    "\n",
    "- 고용 유형\n",
    "    - nan\n",
    "    - 'Laborers' : 노동자\n",
    "    - 'Managers' : 관리자\n",
    "    - 'Sales staff' : 판매원\n",
    "    - 'High skill tech staff' : 고급 기술자\n",
    "    - 'Core staff' : 임원\n",
    "    - 'Drivers' : 운전기사\n",
    "    - 'Medicine staff' : 의료계 종사자\n",
    "    - 'Accountants' : 회계사\n",
    "    - 'Realty agents' : 부동산 종사자\n",
    "    - 'Security staff' : 보안\n",
    "    - 'Cleaning staff' : 청소 종사자\n",
    "    - 'Private service staff' :\n",
    "    - 'Cooking staff' : 요식업계 종사자\n",
    "    - 'Secretaries' : 비서\n",
    "    - 'HR staff' : 인사\n",
    "    - 'IT staff' : IT 종사자\n",
    "    - 'Low-skill Laborers' : 하급 노동자\n",
    "    - 'Waiters/barmen staff' : 종업원"
   ]
  },
  {
   "cell_type": "markdown",
   "id": "beautiful-bridge",
   "metadata": {},
   "source": [
    "### 수치형 변수"
   ]
  },
  {
   "cell_type": "code",
   "execution_count": 28,
   "id": "exposed-campaign",
   "metadata": {},
   "outputs": [
    {
     "data": {
      "text/plain": [
       "['child_num',\n",
       " 'income_total',\n",
       " 'DAYS_BIRTH',\n",
       " 'DAYS_EMPLOYED',\n",
       " 'family_size',\n",
       " 'begin_month']"
      ]
     },
     "execution_count": 28,
     "metadata": {},
     "output_type": "execute_result"
    }
   ],
   "source": [
    "# 범주형 변수가 아니었던 변수\n",
    "numeric =  [col for col in train.columns if col not in categoric]\n",
    "# index 변수는 제거\n",
    "del numeric[0]\n",
    "# 목적변수 credit도 제거\n",
    "del numeric[-1]\n",
    "numeric"
   ]
  },
  {
   "cell_type": "code",
   "execution_count": 29,
   "id": "welsh-scale",
   "metadata": {
    "scrolled": true
   },
   "outputs": [
    {
     "name": "stdout",
     "output_type": "stream",
     "text": [
      "child_num :  0 ~ 19\n",
      "child_num 평균  0.42865782212646936\n",
      "income_total :  27000.0 ~ 1575000.0\n",
      "income_total 평균  187306.52449257285\n",
      "DAYS_BIRTH :  -25152 ~ -7705\n",
      "DAYS_BIRTH 평균  -15958.053898779151\n",
      "DAYS_EMPLOYED :  -15713 ~ 365243\n",
      "DAYS_EMPLOYED 평균  59068.75072759572\n",
      "family_size :  1.0 ~ 20.0\n",
      "family_size 평균  2.196847715160449\n",
      "begin_month :  -60.0 ~ 0.0\n",
      "begin_month 평균  -26.123294402237594\n"
     ]
    }
   ],
   "source": [
    "for col in numeric:\n",
    "    print(f'{col} : ',train[col].min(),'~',train[col].max())\n",
    "    print(f'{col} 평균 ',train[col].mean())"
   ]
  },
  {
   "cell_type": "code",
   "execution_count": 30,
   "id": "inner-wellington",
   "metadata": {},
   "outputs": [
    {
     "data": {
      "text/plain": [
       "0     18340\n",
       "1      5386\n",
       "2      2362\n",
       "3       306\n",
       "4        47\n",
       "5        10\n",
       "14        3\n",
       "7         2\n",
       "19        1\n",
       "Name: child_num, dtype: int64"
      ]
     },
     "execution_count": 30,
     "metadata": {},
     "output_type": "execute_result"
    },
    {
     "data": {
      "text/plain": [
       "135000.0    3164\n",
       "157500.0    2233\n",
       "180000.0    2225\n",
       "112500.0    2178\n",
       "225000.0    2170\n",
       "            ... \n",
       "227250.0       1\n",
       "91530.0        1\n",
       "39600.0        1\n",
       "432000.0       1\n",
       "215100.0       1\n",
       "Name: income_total, Length: 249, dtype: int64"
      ]
     },
     "execution_count": 30,
     "metadata": {},
     "output_type": "execute_result"
    },
    {
     "data": {
      "text/plain": [
       "-12676    40\n",
       "-15519    38\n",
       "-14667    32\n",
       "-15140    26\n",
       "-16768    24\n",
       "          ..\n",
       "-23117     1\n",
       "-21070     1\n",
       "-11175     1\n",
       "-15269     1\n",
       "-19490     1\n",
       "Name: DAYS_BIRTH, Length: 6621, dtype: int64"
      ]
     },
     "execution_count": 30,
     "metadata": {},
     "output_type": "execute_result"
    },
    {
     "data": {
      "text/plain": [
       " 365243    4438\n",
       "-401         57\n",
       "-1539        47\n",
       "-200         45\n",
       "-2087        44\n",
       "           ... \n",
       "-5095         1\n",
       "-3294         1\n",
       "-1045         1\n",
       "-7192         1\n",
       "-12278        1\n",
       "Name: DAYS_EMPLOYED, Length: 3470, dtype: int64"
      ]
     },
     "execution_count": 30,
     "metadata": {},
     "output_type": "execute_result"
    },
    {
     "data": {
      "text/plain": [
       "2.0     14106\n",
       "1.0      5109\n",
       "3.0      4632\n",
       "4.0      2260\n",
       "5.0       291\n",
       "6.0        44\n",
       "7.0         9\n",
       "15.0        3\n",
       "9.0         2\n",
       "20.0        1\n",
       "Name: family_size, dtype: int64"
      ]
     },
     "execution_count": 30,
     "metadata": {},
     "output_type": "execute_result"
    },
    {
     "data": {
      "text/plain": [
       "-7.0     662\n",
       "-11.0    617\n",
       "-8.0     612\n",
       "-3.0     593\n",
       "-10.0    591\n",
       "        ... \n",
       "-58.0    244\n",
       "-59.0    242\n",
       "-60.0    235\n",
       " 0.0     231\n",
       "-57.0    228\n",
       "Name: begin_month, Length: 61, dtype: int64"
      ]
     },
     "execution_count": 30,
     "metadata": {},
     "output_type": "execute_result"
    }
   ],
   "source": [
    "for col in numeric:\n",
    "    train[col].value_counts()"
   ]
  },
  {
   "cell_type": "code",
   "execution_count": 12,
   "id": "guided-consortium",
   "metadata": {},
   "outputs": [
    {
     "data": {
      "text/plain": [
       "12"
      ]
     },
     "execution_count": 12,
     "metadata": {},
     "output_type": "execute_result"
    }
   ],
   "source": [
    "len(categoric)"
   ]
  },
  {
   "cell_type": "code",
   "execution_count": 33,
   "id": "respected-football",
   "metadata": {
    "scrolled": false
   },
   "outputs": [
    {
     "data": {
      "text/plain": [
       "<AxesSubplot:xlabel='child_num', ylabel='Count'>"
      ]
     },
     "execution_count": 33,
     "metadata": {},
     "output_type": "execute_result"
    },
    {
     "data": {
      "text/plain": [
       "Text(0.5, 1.0, 'child_num')"
      ]
     },
     "execution_count": 33,
     "metadata": {},
     "output_type": "execute_result"
    },
    {
     "data": {
      "text/plain": [
       "<AxesSubplot:xlabel='income_total', ylabel='Count'>"
      ]
     },
     "execution_count": 33,
     "metadata": {},
     "output_type": "execute_result"
    },
    {
     "data": {
      "text/plain": [
       "Text(0.5, 1.0, 'income_total')"
      ]
     },
     "execution_count": 33,
     "metadata": {},
     "output_type": "execute_result"
    },
    {
     "data": {
      "text/plain": [
       "<AxesSubplot:xlabel='DAYS_BIRTH', ylabel='Count'>"
      ]
     },
     "execution_count": 33,
     "metadata": {},
     "output_type": "execute_result"
    },
    {
     "data": {
      "text/plain": [
       "Text(0.5, 1.0, 'DAYS_BIRTH')"
      ]
     },
     "execution_count": 33,
     "metadata": {},
     "output_type": "execute_result"
    },
    {
     "data": {
      "text/plain": [
       "<AxesSubplot:xlabel='DAYS_EMPLOYED', ylabel='Count'>"
      ]
     },
     "execution_count": 33,
     "metadata": {},
     "output_type": "execute_result"
    },
    {
     "data": {
      "text/plain": [
       "Text(0.5, 1.0, 'DAYS_EMPLOYED')"
      ]
     },
     "execution_count": 33,
     "metadata": {},
     "output_type": "execute_result"
    },
    {
     "data": {
      "text/plain": [
       "<AxesSubplot:xlabel='family_size', ylabel='Count'>"
      ]
     },
     "execution_count": 33,
     "metadata": {},
     "output_type": "execute_result"
    },
    {
     "data": {
      "text/plain": [
       "Text(0.5, 1.0, 'family_size')"
      ]
     },
     "execution_count": 33,
     "metadata": {},
     "output_type": "execute_result"
    },
    {
     "data": {
      "text/plain": [
       "<AxesSubplot:xlabel='begin_month', ylabel='Count'>"
      ]
     },
     "execution_count": 33,
     "metadata": {},
     "output_type": "execute_result"
    },
    {
     "data": {
      "text/plain": [
       "Text(0.5, 1.0, 'begin_month')"
      ]
     },
     "execution_count": 33,
     "metadata": {},
     "output_type": "execute_result"
    },
    {
     "data": {
      "image/png": "[encoded data removed]",
      "text/plain": [
       "<Figure size 864x720 with 6 Axes>"
      ]
     },
     "metadata": {
      "needs_background": "light"
     },
     "output_type": "display_data"
    }
   ],
   "source": [
    "fig, ax = plt.subplots(3,2, figsize=(12,10), constrained_layout=True)\n",
    "count = 0\n",
    "for row in range(3):\n",
    "    for col in range(2):\n",
    "        if count == len(numeric): break\n",
    "        sns.histplot(train[numeric[count]], bins=30,ax=ax[row][col])\n",
    "        ax[row][col].set_title(numeric[count])\n",
    "        count+=1\n",
    "plt.show()"
   ]
  },
  {
   "cell_type": "markdown",
   "id": "lined-facility",
   "metadata": {},
   "source": [
    "- `child_num`의 경우 대부분이 5 미만의 수를 보여주고 있었는데 몇몇 이상치가 존재했다.\n",
    "- `DAYS_EMPLOYED`에서 미취업자의 경우 `365247`의 값이 부여되어있다."
   ]
  },
  {
   "cell_type": "markdown",
   "id": "auburn-tenant",
   "metadata": {},
   "source": [
    "## 목적변수"
   ]
  },
  {
   "cell_type": "markdown",
   "id": "cutting-standing",
   "metadata": {},
   "source": [
    "- 신용등급이 낮은 고객의 수가 월등히 많았다."
   ]
  },
  {
   "cell_type": "code",
   "execution_count": 35,
   "id": "interim-basis",
   "metadata": {},
   "outputs": [
    {
     "data": {
      "text/plain": [
       "<AxesSubplot:xlabel='credit', ylabel='count'>"
      ]
     },
     "execution_count": 35,
     "metadata": {},
     "output_type": "execute_result"
    },
    {
     "data": {
      "text/plain": [
       "Text(0.5, 1.0, 'credit')"
      ]
     },
     "execution_count": 35,
     "metadata": {},
     "output_type": "execute_result"
    },
    {
     "data": {
      "image/png": "[encoded data removed]",
      "text/plain": [
       "<Figure size 432x288 with 1 Axes>"
      ]
     },
     "metadata": {
      "needs_background": "light"
     },
     "output_type": "display_data"
    }
   ],
   "source": [
    "y = train['credit']\n",
    "sns.countplot(y)\n",
    "plt.title('credit')\n",
    "plt.show()"
   ]
  },
  {
   "cell_type": "code",
   "execution_count": 74,
   "id": "warming-rouge",
   "metadata": {},
   "outputs": [
    {
     "data": {
      "text/plain": [
       "<AxesSubplot:xlabel='gender', ylabel='count'>"
      ]
     },
     "execution_count": 74,
     "metadata": {},
     "output_type": "execute_result"
    },
    {
     "data": {
      "text/plain": [
       "Text(0.5, 1.0, 'gender')"
      ]
     },
     "execution_count": 74,
     "metadata": {},
     "output_type": "execute_result"
    },
    {
     "data": {
      "text/plain": [
       "<AxesSubplot:xlabel='car', ylabel='count'>"
      ]
     },
     "execution_count": 74,
     "metadata": {},
     "output_type": "execute_result"
    },
    {
     "data": {
      "text/plain": [
       "Text(0.5, 1.0, 'car')"
      ]
     },
     "execution_count": 74,
     "metadata": {},
     "output_type": "execute_result"
    },
    {
     "data": {
      "text/plain": [
       "<AxesSubplot:xlabel='reality', ylabel='count'>"
      ]
     },
     "execution_count": 74,
     "metadata": {},
     "output_type": "execute_result"
    },
    {
     "data": {
      "text/plain": [
       "Text(0.5, 1.0, 'reality')"
      ]
     },
     "execution_count": 74,
     "metadata": {},
     "output_type": "execute_result"
    },
    {
     "data": {
      "text/plain": [
       "<AxesSubplot:xlabel='FLAG_MOBIL', ylabel='count'>"
      ]
     },
     "execution_count": 74,
     "metadata": {},
     "output_type": "execute_result"
    },
    {
     "data": {
      "text/plain": [
       "Text(0.5, 1.0, 'FLAG_MOBIL')"
      ]
     },
     "execution_count": 74,
     "metadata": {},
     "output_type": "execute_result"
    },
    {
     "data": {
      "text/plain": [
       "<AxesSubplot:xlabel='work_phone', ylabel='count'>"
      ]
     },
     "execution_count": 74,
     "metadata": {},
     "output_type": "execute_result"
    },
    {
     "data": {
      "text/plain": [
       "Text(0.5, 1.0, 'work_phone')"
      ]
     },
     "execution_count": 74,
     "metadata": {},
     "output_type": "execute_result"
    },
    {
     "data": {
      "text/plain": [
       "<AxesSubplot:xlabel='phone', ylabel='count'>"
      ]
     },
     "execution_count": 74,
     "metadata": {},
     "output_type": "execute_result"
    },
    {
     "data": {
      "text/plain": [
       "Text(0.5, 1.0, 'phone')"
      ]
     },
     "execution_count": 74,
     "metadata": {},
     "output_type": "execute_result"
    },
    {
     "data": {
      "text/plain": [
       "<AxesSubplot:xlabel='email', ylabel='count'>"
      ]
     },
     "execution_count": 74,
     "metadata": {},
     "output_type": "execute_result"
    },
    {
     "data": {
      "text/plain": [
       "Text(0.5, 1.0, 'email')"
      ]
     },
     "execution_count": 74,
     "metadata": {},
     "output_type": "execute_result"
    },
    {
     "data": {
      "image/png": "[encoded data removed]",
      "text/plain": [
       "<Figure size 864x720 with 8 Axes>"
      ]
     },
     "metadata": {
      "needs_background": "light"
     },
     "output_type": "display_data"
    }
   ],
   "source": [
    "fig, ax = plt.subplots(2,4, figsize=(12,10), constrained_layout=True)\n",
    "count = 0\n",
    "for row in range(2):\n",
    "    for col in range(4):\n",
    "        if count == len(few_catogries): break\n",
    "        sns.countplot(train[few_catogries[count]],hue=train['credit'], ax=ax[row][col])\n",
    "        ax[row][col].set_title(few_catogries[count])\n",
    "        count += 1\n",
    "plt.show()"
   ]
  },
  {
   "cell_type": "code",
   "execution_count": null,
   "id": "contemporary-excellence",
   "metadata": {},
   "outputs": [],
   "source": [
    "sub.head()"
   ]
  },
  {
   "cell_type": "markdown",
   "id": "naked-guess",
   "metadata": {},
   "source": [
    "# 결측치 채우기"
   ]
  },
  {
   "cell_type": "code",
   "execution_count": 36,
   "id": "romantic-philippines",
   "metadata": {
    "scrolled": true
   },
   "outputs": [
    {
     "data": {
      "text/html": [
       "<div>\n",
       "<style scoped>\n",
       "    .dataframe tbody tr th:only-of-type {\n",
       "        vertical-align: middle;\n",
       "    }\n",
       "\n",
       "    .dataframe tbody tr th {\n",
       "        vertical-align: top;\n",
       "    }\n",
       "\n",
       "    .dataframe thead th {\n",
       "        text-align: right;\n",
       "    }\n",
       "</style>\n",
       "<table border=\"1\" class=\"dataframe\">\n",
       "  <thead>\n",
       "    <tr style=\"text-align: right;\">\n",
       "      <th></th>\n",
       "      <th>index</th>\n",
       "      <th>gender</th>\n",
       "      <th>car</th>\n",
       "      <th>reality</th>\n",
       "      <th>child_num</th>\n",
       "      <th>income_total</th>\n",
       "      <th>income_type</th>\n",
       "      <th>edu_type</th>\n",
       "      <th>family_type</th>\n",
       "      <th>house_type</th>\n",
       "      <th>DAYS_BIRTH</th>\n",
       "      <th>DAYS_EMPLOYED</th>\n",
       "      <th>FLAG_MOBIL</th>\n",
       "      <th>work_phone</th>\n",
       "      <th>phone</th>\n",
       "      <th>email</th>\n",
       "      <th>occyp_type</th>\n",
       "      <th>family_size</th>\n",
       "      <th>begin_month</th>\n",
       "      <th>credit</th>\n",
       "    </tr>\n",
       "  </thead>\n",
       "  <tbody>\n",
       "    <tr>\n",
       "      <th>0</th>\n",
       "      <td>0</td>\n",
       "      <td>F</td>\n",
       "      <td>N</td>\n",
       "      <td>N</td>\n",
       "      <td>0</td>\n",
       "      <td>202500.0</td>\n",
       "      <td>Commercial associate</td>\n",
       "      <td>Higher education</td>\n",
       "      <td>Married</td>\n",
       "      <td>Municipal apartment</td>\n",
       "      <td>-13899</td>\n",
       "      <td>-4709</td>\n",
       "      <td>1</td>\n",
       "      <td>0</td>\n",
       "      <td>0</td>\n",
       "      <td>0</td>\n",
       "      <td>NaN</td>\n",
       "      <td>2.0</td>\n",
       "      <td>-6.0</td>\n",
       "      <td>1.0</td>\n",
       "    </tr>\n",
       "    <tr>\n",
       "      <th>8</th>\n",
       "      <td>8</td>\n",
       "      <td>M</td>\n",
       "      <td>Y</td>\n",
       "      <td>Y</td>\n",
       "      <td>1</td>\n",
       "      <td>180000.0</td>\n",
       "      <td>Commercial associate</td>\n",
       "      <td>Higher education</td>\n",
       "      <td>Married</td>\n",
       "      <td>House / apartment</td>\n",
       "      <td>-15131</td>\n",
       "      <td>-1466</td>\n",
       "      <td>1</td>\n",
       "      <td>0</td>\n",
       "      <td>0</td>\n",
       "      <td>1</td>\n",
       "      <td>NaN</td>\n",
       "      <td>3.0</td>\n",
       "      <td>-38.0</td>\n",
       "      <td>2.0</td>\n",
       "    </tr>\n",
       "    <tr>\n",
       "      <th>14</th>\n",
       "      <td>14</td>\n",
       "      <td>F</td>\n",
       "      <td>N</td>\n",
       "      <td>Y</td>\n",
       "      <td>0</td>\n",
       "      <td>157500.0</td>\n",
       "      <td>Pensioner</td>\n",
       "      <td>Secondary / secondary special</td>\n",
       "      <td>Single / not married</td>\n",
       "      <td>House / apartment</td>\n",
       "      <td>-22922</td>\n",
       "      <td>365243</td>\n",
       "      <td>1</td>\n",
       "      <td>0</td>\n",
       "      <td>1</td>\n",
       "      <td>0</td>\n",
       "      <td>NaN</td>\n",
       "      <td>1.0</td>\n",
       "      <td>-41.0</td>\n",
       "      <td>2.0</td>\n",
       "    </tr>\n",
       "    <tr>\n",
       "      <th>18</th>\n",
       "      <td>18</td>\n",
       "      <td>F</td>\n",
       "      <td>N</td>\n",
       "      <td>Y</td>\n",
       "      <td>0</td>\n",
       "      <td>216000.0</td>\n",
       "      <td>Pensioner</td>\n",
       "      <td>Secondary / secondary special</td>\n",
       "      <td>Married</td>\n",
       "      <td>House / apartment</td>\n",
       "      <td>-23113</td>\n",
       "      <td>365243</td>\n",
       "      <td>1</td>\n",
       "      <td>0</td>\n",
       "      <td>0</td>\n",
       "      <td>0</td>\n",
       "      <td>NaN</td>\n",
       "      <td>2.0</td>\n",
       "      <td>-37.0</td>\n",
       "      <td>2.0</td>\n",
       "    </tr>\n",
       "    <tr>\n",
       "      <th>19</th>\n",
       "      <td>19</td>\n",
       "      <td>F</td>\n",
       "      <td>N</td>\n",
       "      <td>Y</td>\n",
       "      <td>0</td>\n",
       "      <td>180000.0</td>\n",
       "      <td>Working</td>\n",
       "      <td>Secondary / secondary special</td>\n",
       "      <td>Married</td>\n",
       "      <td>House / apartment</td>\n",
       "      <td>-13727</td>\n",
       "      <td>-6031</td>\n",
       "      <td>1</td>\n",
       "      <td>0</td>\n",
       "      <td>0</td>\n",
       "      <td>0</td>\n",
       "      <td>NaN</td>\n",
       "      <td>2.0</td>\n",
       "      <td>-7.0</td>\n",
       "      <td>2.0</td>\n",
       "    </tr>\n",
       "    <tr>\n",
       "      <th>...</th>\n",
       "      <td>...</td>\n",
       "      <td>...</td>\n",
       "      <td>...</td>\n",
       "      <td>...</td>\n",
       "      <td>...</td>\n",
       "      <td>...</td>\n",
       "      <td>...</td>\n",
       "      <td>...</td>\n",
       "      <td>...</td>\n",
       "      <td>...</td>\n",
       "      <td>...</td>\n",
       "      <td>...</td>\n",
       "      <td>...</td>\n",
       "      <td>...</td>\n",
       "      <td>...</td>\n",
       "      <td>...</td>\n",
       "      <td>...</td>\n",
       "      <td>...</td>\n",
       "      <td>...</td>\n",
       "      <td>...</td>\n",
       "    </tr>\n",
       "    <tr>\n",
       "      <th>26439</th>\n",
       "      <td>26439</td>\n",
       "      <td>F</td>\n",
       "      <td>N</td>\n",
       "      <td>Y</td>\n",
       "      <td>0</td>\n",
       "      <td>67500.0</td>\n",
       "      <td>Pensioner</td>\n",
       "      <td>Secondary / secondary special</td>\n",
       "      <td>Married</td>\n",
       "      <td>House / apartment</td>\n",
       "      <td>-19238</td>\n",
       "      <td>365243</td>\n",
       "      <td>1</td>\n",
       "      <td>0</td>\n",
       "      <td>0</td>\n",
       "      <td>0</td>\n",
       "      <td>NaN</td>\n",
       "      <td>2.0</td>\n",
       "      <td>-57.0</td>\n",
       "      <td>2.0</td>\n",
       "    </tr>\n",
       "    <tr>\n",
       "      <th>26441</th>\n",
       "      <td>26441</td>\n",
       "      <td>F</td>\n",
       "      <td>N</td>\n",
       "      <td>Y</td>\n",
       "      <td>0</td>\n",
       "      <td>90000.0</td>\n",
       "      <td>Pensioner</td>\n",
       "      <td>Incomplete higher</td>\n",
       "      <td>Separated</td>\n",
       "      <td>House / apartment</td>\n",
       "      <td>-24129</td>\n",
       "      <td>365243</td>\n",
       "      <td>1</td>\n",
       "      <td>0</td>\n",
       "      <td>0</td>\n",
       "      <td>0</td>\n",
       "      <td>NaN</td>\n",
       "      <td>1.0</td>\n",
       "      <td>-43.0</td>\n",
       "      <td>2.0</td>\n",
       "    </tr>\n",
       "    <tr>\n",
       "      <th>26443</th>\n",
       "      <td>26443</td>\n",
       "      <td>F</td>\n",
       "      <td>N</td>\n",
       "      <td>Y</td>\n",
       "      <td>0</td>\n",
       "      <td>90000.0</td>\n",
       "      <td>Pensioner</td>\n",
       "      <td>Secondary / secondary special</td>\n",
       "      <td>Single / not married</td>\n",
       "      <td>House / apartment</td>\n",
       "      <td>-22286</td>\n",
       "      <td>365243</td>\n",
       "      <td>1</td>\n",
       "      <td>0</td>\n",
       "      <td>0</td>\n",
       "      <td>0</td>\n",
       "      <td>NaN</td>\n",
       "      <td>1.0</td>\n",
       "      <td>-21.0</td>\n",
       "      <td>1.0</td>\n",
       "    </tr>\n",
       "    <tr>\n",
       "      <th>26449</th>\n",
       "      <td>26449</td>\n",
       "      <td>F</td>\n",
       "      <td>N</td>\n",
       "      <td>N</td>\n",
       "      <td>0</td>\n",
       "      <td>90000.0</td>\n",
       "      <td>Working</td>\n",
       "      <td>Secondary / secondary special</td>\n",
       "      <td>Married</td>\n",
       "      <td>House / apartment</td>\n",
       "      <td>-10498</td>\n",
       "      <td>-2418</td>\n",
       "      <td>1</td>\n",
       "      <td>1</td>\n",
       "      <td>1</td>\n",
       "      <td>0</td>\n",
       "      <td>NaN</td>\n",
       "      <td>2.0</td>\n",
       "      <td>-2.0</td>\n",
       "      <td>1.0</td>\n",
       "    </tr>\n",
       "    <tr>\n",
       "      <th>26453</th>\n",
       "      <td>26453</td>\n",
       "      <td>F</td>\n",
       "      <td>N</td>\n",
       "      <td>Y</td>\n",
       "      <td>1</td>\n",
       "      <td>180000.0</td>\n",
       "      <td>Working</td>\n",
       "      <td>Higher education</td>\n",
       "      <td>Separated</td>\n",
       "      <td>House / apartment</td>\n",
       "      <td>-15291</td>\n",
       "      <td>-2475</td>\n",
       "      <td>1</td>\n",
       "      <td>0</td>\n",
       "      <td>0</td>\n",
       "      <td>0</td>\n",
       "      <td>NaN</td>\n",
       "      <td>2.0</td>\n",
       "      <td>-47.0</td>\n",
       "      <td>2.0</td>\n",
       "    </tr>\n",
       "  </tbody>\n",
       "</table>\n",
       "<p>8171 rows × 20 columns</p>\n",
       "</div>"
      ],
      "text/plain": [
       "       index gender car reality  child_num  income_total  \\\n",
       "0          0      F   N       N          0      202500.0   \n",
       "8          8      M   Y       Y          1      180000.0   \n",
       "14        14      F   N       Y          0      157500.0   \n",
       "18        18      F   N       Y          0      216000.0   \n",
       "19        19      F   N       Y          0      180000.0   \n",
       "...      ...    ...  ..     ...        ...           ...   \n",
       "26439  26439      F   N       Y          0       67500.0   \n",
       "26441  26441      F   N       Y          0       90000.0   \n",
       "26443  26443      F   N       Y          0       90000.0   \n",
       "26449  26449      F   N       N          0       90000.0   \n",
       "26453  26453      F   N       Y          1      180000.0   \n",
       "\n",
       "                income_type                       edu_type  \\\n",
       "0      Commercial associate               Higher education   \n",
       "8      Commercial associate               Higher education   \n",
       "14                Pensioner  Secondary / secondary special   \n",
       "18                Pensioner  Secondary / secondary special   \n",
       "19                  Working  Secondary / secondary special   \n",
       "...                     ...                            ...   \n",
       "26439             Pensioner  Secondary / secondary special   \n",
       "26441             Pensioner              Incomplete higher   \n",
       "26443             Pensioner  Secondary / secondary special   \n",
       "26449               Working  Secondary / secondary special   \n",
       "26453               Working               Higher education   \n",
       "\n",
       "                family_type           house_type  DAYS_BIRTH  DAYS_EMPLOYED  \\\n",
       "0                   Married  Municipal apartment      -13899          -4709   \n",
       "8                   Married    House / apartment      -15131          -1466   \n",
       "14     Single / not married    House / apartment      -22922         365243   \n",
       "18                  Married    House / apartment      -23113         365243   \n",
       "19                  Married    House / apartment      -13727          -6031   \n",
       "...                     ...                  ...         ...            ...   \n",
       "26439               Married    House / apartment      -19238         365243   \n",
       "26441             Separated    House / apartment      -24129         365243   \n",
       "26443  Single / not married    House / apartment      -22286         365243   \n",
       "26449               Married    House / apartment      -10498          -2418   \n",
       "26453             Separated    House / apartment      -15291          -2475   \n",
       "\n",
       "       FLAG_MOBIL  work_phone  phone  email occyp_type  family_size  \\\n",
       "0               1           0      0      0        NaN          2.0   \n",
       "8               1           0      0      1        NaN          3.0   \n",
       "14              1           0      1      0        NaN          1.0   \n",
       "18              1           0      0      0        NaN          2.0   \n",
       "19              1           0      0      0        NaN          2.0   \n",
       "...           ...         ...    ...    ...        ...          ...   \n",
       "26439           1           0      0      0        NaN          2.0   \n",
       "26441           1           0      0      0        NaN          1.0   \n",
       "26443           1           0      0      0        NaN          1.0   \n",
       "26449           1           1      1      0        NaN          2.0   \n",
       "26453           1           0      0      0        NaN          2.0   \n",
       "\n",
       "       begin_month  credit  \n",
       "0             -6.0     1.0  \n",
       "8            -38.0     2.0  \n",
       "14           -41.0     2.0  \n",
       "18           -37.0     2.0  \n",
       "19            -7.0     2.0  \n",
       "...            ...     ...  \n",
       "26439        -57.0     2.0  \n",
       "26441        -43.0     2.0  \n",
       "26443        -21.0     1.0  \n",
       "26449         -2.0     1.0  \n",
       "26453        -47.0     2.0  \n",
       "\n",
       "[8171 rows x 20 columns]"
      ]
     },
     "execution_count": 36,
     "metadata": {},
     "output_type": "execute_result"
    }
   ],
   "source": [
    "missing = train[train['occyp_type'].isna()]\n",
    "missing"
   ]
  },
  {
   "cell_type": "markdown",
   "id": "dominant-milan",
   "metadata": {},
   "source": [
    "### 범주형 변수별 신용도"
   ]
  },
  {
   "cell_type": "code",
   "execution_count": 37,
   "id": "chemical-effects",
   "metadata": {
    "scrolled": false
   },
   "outputs": [
    {
     "name": "stdout",
     "output_type": "stream",
     "text": [
      "gender\n"
     ]
    },
    {
     "data": {
      "text/html": [
       "<style  type=\"text/css\" >\n",
       "#T_924bc_row0_col0{\n",
       "            background-color:  #0b8393;\n",
       "            color:  #000000;\n",
       "        }#T_924bc_row0_col1{\n",
       "            background-color:  #1b88a4;\n",
       "            color:  #000000;\n",
       "        }#T_924bc_row0_col2{\n",
       "            background-color:  #0f8598;\n",
       "            color:  #000000;\n",
       "        }#T_924bc_row0_col3{\n",
       "            background-color:  #11859a;\n",
       "            color:  #000000;\n",
       "        }#T_924bc_row1_col0,#T_924bc_row1_col1,#T_924bc_row1_col2,#T_924bc_row1_col3{\n",
       "            background-color:  #fff7fb;\n",
       "            color:  #000000;\n",
       "        }#T_924bc_row2_col0,#T_924bc_row2_col1,#T_924bc_row2_col2,#T_924bc_row2_col3{\n",
       "            background-color:  #014636;\n",
       "            color:  #f1f1f1;\n",
       "        }</style><table id=\"T_924bc_\" ><thead>    <tr>        <th class=\"index_name level0\" >credit</th>        <th class=\"col_heading level0 col0\" >0.0</th>        <th class=\"col_heading level0 col1\" >1.0</th>        <th class=\"col_heading level0 col2\" >2.0</th>        <th class=\"col_heading level0 col3\" >All</th>    </tr>    <tr>        <th class=\"index_name level0\" >gender</th>        <th class=\"blank\" ></th>        <th class=\"blank\" ></th>        <th class=\"blank\" ></th>        <th class=\"blank\" ></th>    </tr></thead><tbody>\n",
       "                <tr>\n",
       "                        <th id=\"T_924bc_level0_row0\" class=\"row_heading level0 row0\" >F</th>\n",
       "                        <td id=\"T_924bc_row0_col0\" class=\"data row0 col0\" >760</td>\n",
       "                        <td id=\"T_924bc_row0_col1\" class=\"data row0 col1\" >1479</td>\n",
       "                        <td id=\"T_924bc_row0_col2\" class=\"data row0 col2\" >4110</td>\n",
       "                        <td id=\"T_924bc_row0_col3\" class=\"data row0 col3\" >6349</td>\n",
       "            </tr>\n",
       "            <tr>\n",
       "                        <th id=\"T_924bc_level0_row1\" class=\"row_heading level0 row1\" >M</th>\n",
       "                        <td id=\"T_924bc_row1_col0\" class=\"data row1 col0\" >207</td>\n",
       "                        <td id=\"T_924bc_row1_col1\" class=\"data row1 col1\" >459</td>\n",
       "                        <td id=\"T_924bc_row1_col2\" class=\"data row1 col2\" >1156</td>\n",
       "                        <td id=\"T_924bc_row1_col3\" class=\"data row1 col3\" >1822</td>\n",
       "            </tr>\n",
       "            <tr>\n",
       "                        <th id=\"T_924bc_level0_row2\" class=\"row_heading level0 row2\" >All</th>\n",
       "                        <td id=\"T_924bc_row2_col0\" class=\"data row2 col0\" >967</td>\n",
       "                        <td id=\"T_924bc_row2_col1\" class=\"data row2 col1\" >1938</td>\n",
       "                        <td id=\"T_924bc_row2_col2\" class=\"data row2 col2\" >5266</td>\n",
       "                        <td id=\"T_924bc_row2_col3\" class=\"data row2 col3\" >8171</td>\n",
       "            </tr>\n",
       "    </tbody></table>"
      ],
      "text/plain": [
       "<pandas.io.formats.style.Styler at 0x7f9eb8d33dd0>"
      ]
     },
     "execution_count": 37,
     "metadata": {},
     "output_type": "execute_result"
    },
    {
     "name": "stdout",
     "output_type": "stream",
     "text": [
      "car\n"
     ]
    },
    {
     "data": {
      "text/html": [
       "<style  type=\"text/css\" >\n",
       "#T_46f07_row0_col0{\n",
       "            background-color:  #308eba;\n",
       "            color:  #000000;\n",
       "        }#T_46f07_row0_col1,#T_46f07_row0_col2{\n",
       "            background-color:  #4698c5;\n",
       "            color:  #000000;\n",
       "        }#T_46f07_row0_col3{\n",
       "            background-color:  #4397c4;\n",
       "            color:  #000000;\n",
       "        }#T_46f07_row1_col0,#T_46f07_row1_col1,#T_46f07_row1_col2,#T_46f07_row1_col3{\n",
       "            background-color:  #fff7fb;\n",
       "            color:  #000000;\n",
       "        }#T_46f07_row2_col0,#T_46f07_row2_col1,#T_46f07_row2_col2,#T_46f07_row2_col3{\n",
       "            background-color:  #014636;\n",
       "            color:  #f1f1f1;\n",
       "        }</style><table id=\"T_46f07_\" ><thead>    <tr>        <th class=\"index_name level0\" >credit</th>        <th class=\"col_heading level0 col0\" >0.0</th>        <th class=\"col_heading level0 col1\" >1.0</th>        <th class=\"col_heading level0 col2\" >2.0</th>        <th class=\"col_heading level0 col3\" >All</th>    </tr>    <tr>        <th class=\"index_name level0\" >car</th>        <th class=\"blank\" ></th>        <th class=\"blank\" ></th>        <th class=\"blank\" ></th>        <th class=\"blank\" ></th>    </tr></thead><tbody>\n",
       "                <tr>\n",
       "                        <th id=\"T_46f07_level0_row0\" class=\"row_heading level0 row0\" >N</th>\n",
       "                        <td id=\"T_46f07_row0_col0\" class=\"data row0 col0\" >711</td>\n",
       "                        <td id=\"T_46f07_row0_col1\" class=\"data row0 col1\" >1369</td>\n",
       "                        <td id=\"T_46f07_row0_col2\" class=\"data row0 col2\" >3720</td>\n",
       "                        <td id=\"T_46f07_row0_col3\" class=\"data row0 col3\" >5800</td>\n",
       "            </tr>\n",
       "            <tr>\n",
       "                        <th id=\"T_46f07_level0_row1\" class=\"row_heading level0 row1\" >Y</th>\n",
       "                        <td id=\"T_46f07_row1_col0\" class=\"data row1 col0\" >256</td>\n",
       "                        <td id=\"T_46f07_row1_col1\" class=\"data row1 col1\" >569</td>\n",
       "                        <td id=\"T_46f07_row1_col2\" class=\"data row1 col2\" >1546</td>\n",
       "                        <td id=\"T_46f07_row1_col3\" class=\"data row1 col3\" >2371</td>\n",
       "            </tr>\n",
       "            <tr>\n",
       "                        <th id=\"T_46f07_level0_row2\" class=\"row_heading level0 row2\" >All</th>\n",
       "                        <td id=\"T_46f07_row2_col0\" class=\"data row2 col0\" >967</td>\n",
       "                        <td id=\"T_46f07_row2_col1\" class=\"data row2 col1\" >1938</td>\n",
       "                        <td id=\"T_46f07_row2_col2\" class=\"data row2 col2\" >5266</td>\n",
       "                        <td id=\"T_46f07_row2_col3\" class=\"data row2 col3\" >8171</td>\n",
       "            </tr>\n",
       "    </tbody></table>"
      ],
      "text/plain": [
       "<pandas.io.formats.style.Styler at 0x7f9eb943de90>"
      ]
     },
     "execution_count": 37,
     "metadata": {},
     "output_type": "execute_result"
    },
    {
     "name": "stdout",
     "output_type": "stream",
     "text": [
      "reality\n"
     ]
    },
    {
     "data": {
      "text/html": [
       "<style  type=\"text/css\" >\n",
       "#T_eb787_row0_col0,#T_eb787_row0_col1,#T_eb787_row0_col2,#T_eb787_row0_col3{\n",
       "            background-color:  #fff7fb;\n",
       "            color:  #000000;\n",
       "        }#T_eb787_row1_col0{\n",
       "            background-color:  #2d8db6;\n",
       "            color:  #000000;\n",
       "        }#T_eb787_row1_col1{\n",
       "            background-color:  #3d93c2;\n",
       "            color:  #000000;\n",
       "        }#T_eb787_row1_col2{\n",
       "            background-color:  #4799c5;\n",
       "            color:  #000000;\n",
       "        }#T_eb787_row1_col3{\n",
       "            background-color:  #4196c3;\n",
       "            color:  #000000;\n",
       "        }#T_eb787_row2_col0,#T_eb787_row2_col1,#T_eb787_row2_col2,#T_eb787_row2_col3{\n",
       "            background-color:  #014636;\n",
       "            color:  #f1f1f1;\n",
       "        }</style><table id=\"T_eb787_\" ><thead>    <tr>        <th class=\"index_name level0\" >credit</th>        <th class=\"col_heading level0 col0\" >0.0</th>        <th class=\"col_heading level0 col1\" >1.0</th>        <th class=\"col_heading level0 col2\" >2.0</th>        <th class=\"col_heading level0 col3\" >All</th>    </tr>    <tr>        <th class=\"index_name level0\" >reality</th>        <th class=\"blank\" ></th>        <th class=\"blank\" ></th>        <th class=\"blank\" ></th>        <th class=\"blank\" ></th>    </tr></thead><tbody>\n",
       "                <tr>\n",
       "                        <th id=\"T_eb787_level0_row0\" class=\"row_heading level0 row0\" >N</th>\n",
       "                        <td id=\"T_eb787_row0_col0\" class=\"data row0 col0\" >252</td>\n",
       "                        <td id=\"T_eb787_row0_col1\" class=\"data row0 col1\" >545</td>\n",
       "                        <td id=\"T_eb787_row0_col2\" class=\"data row0 col2\" >1562</td>\n",
       "                        <td id=\"T_eb787_row0_col3\" class=\"data row0 col3\" >2359</td>\n",
       "            </tr>\n",
       "            <tr>\n",
       "                        <th id=\"T_eb787_level0_row1\" class=\"row_heading level0 row1\" >Y</th>\n",
       "                        <td id=\"T_eb787_row1_col0\" class=\"data row1 col0\" >715</td>\n",
       "                        <td id=\"T_eb787_row1_col1\" class=\"data row1 col1\" >1393</td>\n",
       "                        <td id=\"T_eb787_row1_col2\" class=\"data row1 col2\" >3704</td>\n",
       "                        <td id=\"T_eb787_row1_col3\" class=\"data row1 col3\" >5812</td>\n",
       "            </tr>\n",
       "            <tr>\n",
       "                        <th id=\"T_eb787_level0_row2\" class=\"row_heading level0 row2\" >All</th>\n",
       "                        <td id=\"T_eb787_row2_col0\" class=\"data row2 col0\" >967</td>\n",
       "                        <td id=\"T_eb787_row2_col1\" class=\"data row2 col1\" >1938</td>\n",
       "                        <td id=\"T_eb787_row2_col2\" class=\"data row2 col2\" >5266</td>\n",
       "                        <td id=\"T_eb787_row2_col3\" class=\"data row2 col3\" >8171</td>\n",
       "            </tr>\n",
       "    </tbody></table>"
      ],
      "text/plain": [
       "<pandas.io.formats.style.Styler at 0x7f9eb891df90>"
      ]
     },
     "execution_count": 37,
     "metadata": {},
     "output_type": "execute_result"
    },
    {
     "name": "stdout",
     "output_type": "stream",
     "text": [
      "income_type\n"
     ]
    },
    {
     "data": {
      "text/html": [
       "<style  type=\"text/css\" >\n",
       "#T_47eac_row0_col0{\n",
       "            background-color:  #ede3f1;\n",
       "            color:  #000000;\n",
       "        }#T_47eac_row0_col1{\n",
       "            background-color:  #eee4f1;\n",
       "            color:  #000000;\n",
       "        }#T_47eac_row0_col2{\n",
       "            background-color:  #ebe1f0;\n",
       "            color:  #000000;\n",
       "        }#T_47eac_row0_col3{\n",
       "            background-color:  #ece2f0;\n",
       "            color:  #000000;\n",
       "        }#T_47eac_row1_col0{\n",
       "            background-color:  #529ec9;\n",
       "            color:  #000000;\n",
       "        }#T_47eac_row1_col1{\n",
       "            background-color:  #4f9dc8;\n",
       "            color:  #000000;\n",
       "        }#T_47eac_row1_col2{\n",
       "            background-color:  #58a2cb;\n",
       "            color:  #000000;\n",
       "        }#T_47eac_row1_col3{\n",
       "            background-color:  #55a0ca;\n",
       "            color:  #000000;\n",
       "        }#T_47eac_row2_col0{\n",
       "            background-color:  #f7eef7;\n",
       "            color:  #000000;\n",
       "        }#T_47eac_row2_col1{\n",
       "            background-color:  #f9f0f8;\n",
       "            color:  #000000;\n",
       "        }#T_47eac_row2_col2,#T_47eac_row2_col3{\n",
       "            background-color:  #f8eff7;\n",
       "            color:  #000000;\n",
       "        }#T_47eac_row3_col0,#T_47eac_row3_col1,#T_47eac_row3_col2,#T_47eac_row3_col3{\n",
       "            background-color:  #fff7fb;\n",
       "            color:  #000000;\n",
       "        }#T_47eac_row4_col0{\n",
       "            background-color:  #c9cee4;\n",
       "            color:  #000000;\n",
       "        }#T_47eac_row4_col1,#T_47eac_row4_col2,#T_47eac_row4_col3{\n",
       "            background-color:  #c5cce3;\n",
       "            color:  #000000;\n",
       "        }#T_47eac_row5_col0,#T_47eac_row5_col1,#T_47eac_row5_col2,#T_47eac_row5_col3{\n",
       "            background-color:  #014636;\n",
       "            color:  #f1f1f1;\n",
       "        }</style><table id=\"T_47eac_\" ><thead>    <tr>        <th class=\"index_name level0\" >credit</th>        <th class=\"col_heading level0 col0\" >0.0</th>        <th class=\"col_heading level0 col1\" >1.0</th>        <th class=\"col_heading level0 col2\" >2.0</th>        <th class=\"col_heading level0 col3\" >All</th>    </tr>    <tr>        <th class=\"index_name level0\" >income_type</th>        <th class=\"blank\" ></th>        <th class=\"blank\" ></th>        <th class=\"blank\" ></th>        <th class=\"blank\" ></th>    </tr></thead><tbody>\n",
       "                <tr>\n",
       "                        <th id=\"T_47eac_level0_row0\" class=\"row_heading level0 row0\" >Commercial associate</th>\n",
       "                        <td id=\"T_47eac_row0_col0\" class=\"data row0 col0\" >115</td>\n",
       "                        <td id=\"T_47eac_row0_col1\" class=\"data row0 col1\" >225</td>\n",
       "                        <td id=\"T_47eac_row0_col2\" class=\"data row0 col2\" >686</td>\n",
       "                        <td id=\"T_47eac_row0_col3\" class=\"data row0 col3\" >1026</td>\n",
       "            </tr>\n",
       "            <tr>\n",
       "                        <th id=\"T_47eac_level0_row1\" class=\"row_heading level0 row1\" >Pensioner</th>\n",
       "                        <td id=\"T_47eac_row1_col0\" class=\"data row1 col0\" >536</td>\n",
       "                        <td id=\"T_47eac_row1_col1\" class=\"data row1 col1\" >1084</td>\n",
       "                        <td id=\"T_47eac_row1_col2\" class=\"data row1 col2\" >2820</td>\n",
       "                        <td id=\"T_47eac_row1_col3\" class=\"data row1 col3\" >4440</td>\n",
       "            </tr>\n",
       "            <tr>\n",
       "                        <th id=\"T_47eac_level0_row2\" class=\"row_heading level0 row2\" >State servant</th>\n",
       "                        <td id=\"T_47eac_row2_col0\" class=\"data row2 col0\" >52</td>\n",
       "                        <td id=\"T_47eac_row2_col1\" class=\"data row2 col1\" >82</td>\n",
       "                        <td id=\"T_47eac_row2_col2\" class=\"data row2 col2\" >258</td>\n",
       "                        <td id=\"T_47eac_row2_col3\" class=\"data row2 col3\" >392</td>\n",
       "            </tr>\n",
       "            <tr>\n",
       "                        <th id=\"T_47eac_level0_row3\" class=\"row_heading level0 row3\" >Student</th>\n",
       "                        <td id=\"T_47eac_row3_col0\" class=\"data row3 col0\" >0</td>\n",
       "                        <td id=\"T_47eac_row3_col1\" class=\"data row3 col1\" >0</td>\n",
       "                        <td id=\"T_47eac_row3_col2\" class=\"data row3 col2\" >1</td>\n",
       "                        <td id=\"T_47eac_row3_col3\" class=\"data row3 col3\" >1</td>\n",
       "            </tr>\n",
       "            <tr>\n",
       "                        <th id=\"T_47eac_level0_row4\" class=\"row_heading level0 row4\" >Working</th>\n",
       "                        <td id=\"T_47eac_row4_col0\" class=\"data row4 col0\" >264</td>\n",
       "                        <td id=\"T_47eac_row4_col1\" class=\"data row4 col1\" >547</td>\n",
       "                        <td id=\"T_47eac_row4_col2\" class=\"data row4 col2\" >1501</td>\n",
       "                        <td id=\"T_47eac_row4_col3\" class=\"data row4 col3\" >2312</td>\n",
       "            </tr>\n",
       "            <tr>\n",
       "                        <th id=\"T_47eac_level0_row5\" class=\"row_heading level0 row5\" >All</th>\n",
       "                        <td id=\"T_47eac_row5_col0\" class=\"data row5 col0\" >967</td>\n",
       "                        <td id=\"T_47eac_row5_col1\" class=\"data row5 col1\" >1938</td>\n",
       "                        <td id=\"T_47eac_row5_col2\" class=\"data row5 col2\" >5266</td>\n",
       "                        <td id=\"T_47eac_row5_col3\" class=\"data row5 col3\" >8171</td>\n",
       "            </tr>\n",
       "    </tbody></table>"
      ],
      "text/plain": [
       "<pandas.io.formats.style.Styler at 0x7f9eb8b59090>"
      ]
     },
     "execution_count": 37,
     "metadata": {},
     "output_type": "execute_result"
    },
    {
     "name": "stdout",
     "output_type": "stream",
     "text": [
      "edu_type\n"
     ]
    },
    {
     "data": {
      "text/html": [
       "<style  type=\"text/css\" >\n",
       "#T_1e31c_row0_col0,#T_1e31c_row0_col1,#T_1e31c_row0_col2,#T_1e31c_row0_col3{\n",
       "            background-color:  #fff7fb;\n",
       "            color:  #000000;\n",
       "        }#T_1e31c_row1_col0{\n",
       "            background-color:  #cacee5;\n",
       "            color:  #000000;\n",
       "        }#T_1e31c_row1_col1{\n",
       "            background-color:  #d0d1e6;\n",
       "            color:  #000000;\n",
       "        }#T_1e31c_row1_col2{\n",
       "            background-color:  #d4d4e7;\n",
       "            color:  #000000;\n",
       "        }#T_1e31c_row1_col3{\n",
       "            background-color:  #d2d2e7;\n",
       "            color:  #000000;\n",
       "        }#T_1e31c_row2_col0{\n",
       "            background-color:  #fbf2f9;\n",
       "            color:  #000000;\n",
       "        }#T_1e31c_row2_col1,#T_1e31c_row2_col2,#T_1e31c_row2_col3{\n",
       "            background-color:  #faf1f8;\n",
       "            color:  #000000;\n",
       "        }#T_1e31c_row3_col0,#T_1e31c_row3_col1,#T_1e31c_row3_col2,#T_1e31c_row3_col3{\n",
       "            background-color:  #fdf5fa;\n",
       "            color:  #000000;\n",
       "        }#T_1e31c_row4_col0,#T_1e31c_row4_col1{\n",
       "            background-color:  #1988a2;\n",
       "            color:  #000000;\n",
       "        }#T_1e31c_row4_col2{\n",
       "            background-color:  #11859a;\n",
       "            color:  #000000;\n",
       "        }#T_1e31c_row4_col3{\n",
       "            background-color:  #14869d;\n",
       "            color:  #000000;\n",
       "        }#T_1e31c_row5_col0,#T_1e31c_row5_col1,#T_1e31c_row5_col2,#T_1e31c_row5_col3{\n",
       "            background-color:  #014636;\n",
       "            color:  #f1f1f1;\n",
       "        }</style><table id=\"T_1e31c_\" ><thead>    <tr>        <th class=\"index_name level0\" >credit</th>        <th class=\"col_heading level0 col0\" >0.0</th>        <th class=\"col_heading level0 col1\" >1.0</th>        <th class=\"col_heading level0 col2\" >2.0</th>        <th class=\"col_heading level0 col3\" >All</th>    </tr>    <tr>        <th class=\"index_name level0\" >edu_type</th>        <th class=\"blank\" ></th>        <th class=\"blank\" ></th>        <th class=\"blank\" ></th>        <th class=\"blank\" ></th>    </tr></thead><tbody>\n",
       "                <tr>\n",
       "                        <th id=\"T_1e31c_level0_row0\" class=\"row_heading level0 row0\" >Academic degree</th>\n",
       "                        <td id=\"T_1e31c_row0_col0\" class=\"data row0 col0\" >0</td>\n",
       "                        <td id=\"T_1e31c_row0_col1\" class=\"data row0 col1\" >2</td>\n",
       "                        <td id=\"T_1e31c_row0_col2\" class=\"data row0 col2\" >11</td>\n",
       "                        <td id=\"T_1e31c_row0_col3\" class=\"data row0 col3\" >13</td>\n",
       "            </tr>\n",
       "            <tr>\n",
       "                        <th id=\"T_1e31c_level0_row1\" class=\"row_heading level0 row1\" >Higher education</th>\n",
       "                        <td id=\"T_1e31c_row1_col0\" class=\"data row1 col0\" >257</td>\n",
       "                        <td id=\"T_1e31c_row1_col1\" class=\"data row1 col1\" >492</td>\n",
       "                        <td id=\"T_1e31c_row1_col2\" class=\"data row1 col2\" >1225</td>\n",
       "                        <td id=\"T_1e31c_row1_col3\" class=\"data row1 col3\" >1974</td>\n",
       "            </tr>\n",
       "            <tr>\n",
       "                        <th id=\"T_1e31c_level0_row2\" class=\"row_heading level0 row2\" >Incomplete higher</th>\n",
       "                        <td id=\"T_1e31c_row2_col0\" class=\"data row2 col0\" >27</td>\n",
       "                        <td id=\"T_1e31c_row2_col1\" class=\"data row2 col1\" >74</td>\n",
       "                        <td id=\"T_1e31c_row2_col2\" class=\"data row2 col2\" >199</td>\n",
       "                        <td id=\"T_1e31c_row2_col3\" class=\"data row2 col3\" >300</td>\n",
       "            </tr>\n",
       "            <tr>\n",
       "                        <th id=\"T_1e31c_level0_row3\" class=\"row_heading level0 row3\" >Lower secondary</th>\n",
       "                        <td id=\"T_1e31c_row3_col0\" class=\"data row3 col0\" >14</td>\n",
       "                        <td id=\"T_1e31c_row3_col1\" class=\"data row3 col1\" >28</td>\n",
       "                        <td id=\"T_1e31c_row3_col2\" class=\"data row3 col2\" >82</td>\n",
       "                        <td id=\"T_1e31c_row3_col3\" class=\"data row3 col3\" >124</td>\n",
       "            </tr>\n",
       "            <tr>\n",
       "                        <th id=\"T_1e31c_level0_row4\" class=\"row_heading level0 row4\" >Secondary / secondary special</th>\n",
       "                        <td id=\"T_1e31c_row4_col0\" class=\"data row4 col0\" >669</td>\n",
       "                        <td id=\"T_1e31c_row4_col1\" class=\"data row4 col1\" >1342</td>\n",
       "                        <td id=\"T_1e31c_row4_col2\" class=\"data row4 col2\" >3749</td>\n",
       "                        <td id=\"T_1e31c_row4_col3\" class=\"data row4 col3\" >5760</td>\n",
       "            </tr>\n",
       "            <tr>\n",
       "                        <th id=\"T_1e31c_level0_row5\" class=\"row_heading level0 row5\" >All</th>\n",
       "                        <td id=\"T_1e31c_row5_col0\" class=\"data row5 col0\" >967</td>\n",
       "                        <td id=\"T_1e31c_row5_col1\" class=\"data row5 col1\" >1938</td>\n",
       "                        <td id=\"T_1e31c_row5_col2\" class=\"data row5 col2\" >5266</td>\n",
       "                        <td id=\"T_1e31c_row5_col3\" class=\"data row5 col3\" >8171</td>\n",
       "            </tr>\n",
       "    </tbody></table>"
      ],
      "text/plain": [
       "<pandas.io.formats.style.Styler at 0x7f9eb891fe10>"
      ]
     },
     "execution_count": 37,
     "metadata": {},
     "output_type": "execute_result"
    },
    {
     "name": "stdout",
     "output_type": "stream",
     "text": [
      "family_type\n"
     ]
    },
    {
     "data": {
      "text/html": [
       "<style  type=\"text/css\" >\n",
       "#T_deaae_row0_col0,#T_deaae_row4_col3{\n",
       "            background-color:  #fbf2f9;\n",
       "            color:  #000000;\n",
       "        }#T_deaae_row0_col1{\n",
       "            background-color:  #faf1f8;\n",
       "            color:  #000000;\n",
       "        }#T_deaae_row0_col2,#T_deaae_row2_col0,#T_deaae_row2_col1,#T_deaae_row2_col2,#T_deaae_row2_col3{\n",
       "            background-color:  #fff7fb;\n",
       "            color:  #000000;\n",
       "        }#T_deaae_row0_col3{\n",
       "            background-color:  #fdf5fa;\n",
       "            color:  #000000;\n",
       "        }#T_deaae_row1_col0{\n",
       "            background-color:  #4196c3;\n",
       "            color:  #000000;\n",
       "        }#T_deaae_row1_col1{\n",
       "            background-color:  #3891c1;\n",
       "            color:  #000000;\n",
       "        }#T_deaae_row1_col2{\n",
       "            background-color:  #258bae;\n",
       "            color:  #000000;\n",
       "        }#T_deaae_row1_col3{\n",
       "            background-color:  #2d8db6;\n",
       "            color:  #000000;\n",
       "        }#T_deaae_row3_col0{\n",
       "            background-color:  #f3eaf4;\n",
       "            color:  #000000;\n",
       "        }#T_deaae_row3_col1{\n",
       "            background-color:  #f4eaf4;\n",
       "            color:  #000000;\n",
       "        }#T_deaae_row3_col2{\n",
       "            background-color:  #f6edf6;\n",
       "            color:  #000000;\n",
       "        }#T_deaae_row3_col3{\n",
       "            background-color:  #f5ecf5;\n",
       "            color:  #000000;\n",
       "        }#T_deaae_row4_col0{\n",
       "            background-color:  #fbf3f9;\n",
       "            color:  #000000;\n",
       "        }#T_deaae_row4_col1{\n",
       "            background-color:  #f7eef7;\n",
       "            color:  #000000;\n",
       "        }#T_deaae_row4_col2{\n",
       "            background-color:  #fcf4f9;\n",
       "            color:  #000000;\n",
       "        }#T_deaae_row5_col0,#T_deaae_row5_col1,#T_deaae_row5_col2,#T_deaae_row5_col3{\n",
       "            background-color:  #014636;\n",
       "            color:  #f1f1f1;\n",
       "        }</style><table id=\"T_deaae_\" ><thead>    <tr>        <th class=\"index_name level0\" >credit</th>        <th class=\"col_heading level0 col0\" >0.0</th>        <th class=\"col_heading level0 col1\" >1.0</th>        <th class=\"col_heading level0 col2\" >2.0</th>        <th class=\"col_heading level0 col3\" >All</th>    </tr>    <tr>        <th class=\"index_name level0\" >family_type</th>        <th class=\"blank\" ></th>        <th class=\"blank\" ></th>        <th class=\"blank\" ></th>        <th class=\"blank\" ></th>    </tr></thead><tbody>\n",
       "                <tr>\n",
       "                        <th id=\"T_deaae_level0_row0\" class=\"row_heading level0 row0\" >Civil marriage</th>\n",
       "                        <td id=\"T_deaae_row0_col0\" class=\"data row0 col0\" >89</td>\n",
       "                        <td id=\"T_deaae_row0_col1\" class=\"data row0 col1\" >168</td>\n",
       "                        <td id=\"T_deaae_row0_col2\" class=\"data row0 col2\" >310</td>\n",
       "                        <td id=\"T_deaae_row0_col3\" class=\"data row0 col3\" >567</td>\n",
       "            </tr>\n",
       "            <tr>\n",
       "                        <th id=\"T_deaae_level0_row1\" class=\"row_heading level0 row1\" >Married</th>\n",
       "                        <td id=\"T_deaae_row1_col0\" class=\"data row1 col0\" >602</td>\n",
       "                        <td id=\"T_deaae_row1_col1\" class=\"data row1 col1\" >1237</td>\n",
       "                        <td id=\"T_deaae_row1_col2\" class=\"data row1 col2\" >3616</td>\n",
       "                        <td id=\"T_deaae_row1_col3\" class=\"data row1 col3\" >5455</td>\n",
       "            </tr>\n",
       "            <tr>\n",
       "                        <th id=\"T_deaae_level0_row2\" class=\"row_heading level0 row2\" >Separated</th>\n",
       "                        <td id=\"T_deaae_row2_col0\" class=\"data row2 col0\" >61</td>\n",
       "                        <td id=\"T_deaae_row2_col1\" class=\"data row2 col1\" >99</td>\n",
       "                        <td id=\"T_deaae_row2_col2\" class=\"data row2 col2\" >308</td>\n",
       "                        <td id=\"T_deaae_row2_col3\" class=\"data row2 col3\" >468</td>\n",
       "            </tr>\n",
       "            <tr>\n",
       "                        <th id=\"T_deaae_level0_row3\" class=\"row_heading level0 row3\" >Single / not married</th>\n",
       "                        <td id=\"T_deaae_row3_col0\" class=\"data row3 col0\" >132</td>\n",
       "                        <td id=\"T_deaae_row3_col1\" class=\"data row3 col1\" >241</td>\n",
       "                        <td id=\"T_deaae_row3_col2\" class=\"data row3 col2\" >613</td>\n",
       "                        <td id=\"T_deaae_row3_col3\" class=\"data row3 col3\" >986</td>\n",
       "            </tr>\n",
       "            <tr>\n",
       "                        <th id=\"T_deaae_level0_row4\" class=\"row_heading level0 row4\" >Widow</th>\n",
       "                        <td id=\"T_deaae_row4_col0\" class=\"data row4 col0\" >83</td>\n",
       "                        <td id=\"T_deaae_row4_col1\" class=\"data row4 col1\" >193</td>\n",
       "                        <td id=\"T_deaae_row4_col2\" class=\"data row4 col2\" >419</td>\n",
       "                        <td id=\"T_deaae_row4_col3\" class=\"data row4 col3\" >695</td>\n",
       "            </tr>\n",
       "            <tr>\n",
       "                        <th id=\"T_deaae_level0_row5\" class=\"row_heading level0 row5\" >All</th>\n",
       "                        <td id=\"T_deaae_row5_col0\" class=\"data row5 col0\" >967</td>\n",
       "                        <td id=\"T_deaae_row5_col1\" class=\"data row5 col1\" >1938</td>\n",
       "                        <td id=\"T_deaae_row5_col2\" class=\"data row5 col2\" >5266</td>\n",
       "                        <td id=\"T_deaae_row5_col3\" class=\"data row5 col3\" >8171</td>\n",
       "            </tr>\n",
       "    </tbody></table>"
      ],
      "text/plain": [
       "<pandas.io.formats.style.Styler at 0x7f9eb8928fd0>"
      ]
     },
     "execution_count": 37,
     "metadata": {},
     "output_type": "execute_result"
    },
    {
     "name": "stdout",
     "output_type": "stream",
     "text": [
      "house_type\n"
     ]
    },
    {
     "data": {
      "text/html": [
       "<style  type=\"text/css\" >\n",
       "#T_f912f_row0_col0,#T_f912f_row0_col1,#T_f912f_row0_col2,#T_f912f_row0_col3,#T_f912f_row3_col0{\n",
       "            background-color:  #fff7fb;\n",
       "            color:  #000000;\n",
       "        }#T_f912f_row1_col0{\n",
       "            background-color:  #015948;\n",
       "            color:  #f1f1f1;\n",
       "        }#T_f912f_row1_col1{\n",
       "            background-color:  #016451;\n",
       "            color:  #f1f1f1;\n",
       "        }#T_f912f_row1_col2{\n",
       "            background-color:  #015b4a;\n",
       "            color:  #f1f1f1;\n",
       "        }#T_f912f_row1_col3{\n",
       "            background-color:  #015d4b;\n",
       "            color:  #f1f1f1;\n",
       "        }#T_f912f_row2_col0{\n",
       "            background-color:  #fdf4fa;\n",
       "            color:  #000000;\n",
       "        }#T_f912f_row2_col1,#T_f912f_row2_col2,#T_f912f_row4_col1,#T_f912f_row5_col3{\n",
       "            background-color:  #fbf2f9;\n",
       "            color:  #000000;\n",
       "        }#T_f912f_row2_col3,#T_f912f_row5_col0,#T_f912f_row5_col2{\n",
       "            background-color:  #fbf3f9;\n",
       "            color:  #000000;\n",
       "        }#T_f912f_row3_col1,#T_f912f_row3_col2,#T_f912f_row3_col3,#T_f912f_row4_col0,#T_f912f_row4_col2{\n",
       "            background-color:  #fef6fb;\n",
       "            color:  #000000;\n",
       "        }#T_f912f_row4_col3{\n",
       "            background-color:  #fdf5fa;\n",
       "            color:  #000000;\n",
       "        }#T_f912f_row5_col1{\n",
       "            background-color:  #faf1f8;\n",
       "            color:  #000000;\n",
       "        }#T_f912f_row6_col0,#T_f912f_row6_col1,#T_f912f_row6_col2,#T_f912f_row6_col3{\n",
       "            background-color:  #014636;\n",
       "            color:  #f1f1f1;\n",
       "        }</style><table id=\"T_f912f_\" ><thead>    <tr>        <th class=\"index_name level0\" >credit</th>        <th class=\"col_heading level0 col0\" >0.0</th>        <th class=\"col_heading level0 col1\" >1.0</th>        <th class=\"col_heading level0 col2\" >2.0</th>        <th class=\"col_heading level0 col3\" >All</th>    </tr>    <tr>        <th class=\"index_name level0\" >house_type</th>        <th class=\"blank\" ></th>        <th class=\"blank\" ></th>        <th class=\"blank\" ></th>        <th class=\"blank\" ></th>    </tr></thead><tbody>\n",
       "                <tr>\n",
       "                        <th id=\"T_f912f_level0_row0\" class=\"row_heading level0 row0\" >Co-op apartment</th>\n",
       "                        <td id=\"T_f912f_row0_col0\" class=\"data row0 col0\" >2</td>\n",
       "                        <td id=\"T_f912f_row0_col1\" class=\"data row0 col1\" >1</td>\n",
       "                        <td id=\"T_f912f_row0_col2\" class=\"data row0 col2\" >5</td>\n",
       "                        <td id=\"T_f912f_row0_col3\" class=\"data row0 col3\" >8</td>\n",
       "            </tr>\n",
       "            <tr>\n",
       "                        <th id=\"T_f912f_level0_row1\" class=\"row_heading level0 row1\" >House / apartment</th>\n",
       "                        <td id=\"T_f912f_row1_col0\" class=\"data row1 col0\" >906</td>\n",
       "                        <td id=\"T_f912f_row1_col1\" class=\"data row1 col1\" >1744</td>\n",
       "                        <td id=\"T_f912f_row1_col2\" class=\"data row1 col2\" >4891</td>\n",
       "                        <td id=\"T_f912f_row1_col3\" class=\"data row1 col3\" >7541</td>\n",
       "            </tr>\n",
       "            <tr>\n",
       "                        <th id=\"T_f912f_level0_row2\" class=\"row_heading level0 row2\" >Municipal apartment</th>\n",
       "                        <td id=\"T_f912f_row2_col0\" class=\"data row2 col0\" >20</td>\n",
       "                        <td id=\"T_f912f_row2_col1\" class=\"data row2 col1\" >56</td>\n",
       "                        <td id=\"T_f912f_row2_col2\" class=\"data row2 col2\" >155</td>\n",
       "                        <td id=\"T_f912f_row2_col3\" class=\"data row2 col3\" >231</td>\n",
       "            </tr>\n",
       "            <tr>\n",
       "                        <th id=\"T_f912f_level0_row3\" class=\"row_heading level0 row3\" >Office apartment</th>\n",
       "                        <td id=\"T_f912f_row3_col0\" class=\"data row3 col0\" >2</td>\n",
       "                        <td id=\"T_f912f_row3_col1\" class=\"data row3 col1\" >9</td>\n",
       "                        <td id=\"T_f912f_row3_col2\" class=\"data row3 col2\" >32</td>\n",
       "                        <td id=\"T_f912f_row3_col3\" class=\"data row3 col3\" >43</td>\n",
       "            </tr>\n",
       "            <tr>\n",
       "                        <th id=\"T_f912f_level0_row4\" class=\"row_heading level0 row4\" >Rented apartment</th>\n",
       "                        <td id=\"T_f912f_row4_col0\" class=\"data row4 col0\" >9</td>\n",
       "                        <td id=\"T_f912f_row4_col1\" class=\"data row4 col1\" >57</td>\n",
       "                        <td id=\"T_f912f_row4_col2\" class=\"data row4 col2\" >40</td>\n",
       "                        <td id=\"T_f912f_row4_col3\" class=\"data row4 col3\" >106</td>\n",
       "            </tr>\n",
       "            <tr>\n",
       "                        <th id=\"T_f912f_level0_row5\" class=\"row_heading level0 row5\" >With parents</th>\n",
       "                        <td id=\"T_f912f_row5_col0\" class=\"data row5 col0\" >28</td>\n",
       "                        <td id=\"T_f912f_row5_col1\" class=\"data row5 col1\" >71</td>\n",
       "                        <td id=\"T_f912f_row5_col2\" class=\"data row5 col2\" >143</td>\n",
       "                        <td id=\"T_f912f_row5_col3\" class=\"data row5 col3\" >242</td>\n",
       "            </tr>\n",
       "            <tr>\n",
       "                        <th id=\"T_f912f_level0_row6\" class=\"row_heading level0 row6\" >All</th>\n",
       "                        <td id=\"T_f912f_row6_col0\" class=\"data row6 col0\" >967</td>\n",
       "                        <td id=\"T_f912f_row6_col1\" class=\"data row6 col1\" >1938</td>\n",
       "                        <td id=\"T_f912f_row6_col2\" class=\"data row6 col2\" >5266</td>\n",
       "                        <td id=\"T_f912f_row6_col3\" class=\"data row6 col3\" >8171</td>\n",
       "            </tr>\n",
       "    </tbody></table>"
      ],
      "text/plain": [
       "<pandas.io.formats.style.Styler at 0x7f9eb891fc90>"
      ]
     },
     "execution_count": 37,
     "metadata": {},
     "output_type": "execute_result"
    },
    {
     "name": "stdout",
     "output_type": "stream",
     "text": [
      "FLAG_MOBIL\n"
     ]
    },
    {
     "data": {
      "text/html": [
       "<style  type=\"text/css\" >\n",
       "#T_9687e_row0_col0,#T_9687e_row0_col1,#T_9687e_row0_col2,#T_9687e_row0_col3,#T_9687e_row1_col0,#T_9687e_row1_col1,#T_9687e_row1_col2,#T_9687e_row1_col3{\n",
       "            background-color:  #fff7fb;\n",
       "            color:  #000000;\n",
       "        }</style><table id=\"T_9687e_\" ><thead>    <tr>        <th class=\"index_name level0\" >credit</th>        <th class=\"col_heading level0 col0\" >0.0</th>        <th class=\"col_heading level0 col1\" >1.0</th>        <th class=\"col_heading level0 col2\" >2.0</th>        <th class=\"col_heading level0 col3\" >All</th>    </tr>    <tr>        <th class=\"index_name level0\" >FLAG_MOBIL</th>        <th class=\"blank\" ></th>        <th class=\"blank\" ></th>        <th class=\"blank\" ></th>        <th class=\"blank\" ></th>    </tr></thead><tbody>\n",
       "                <tr>\n",
       "                        <th id=\"T_9687e_level0_row0\" class=\"row_heading level0 row0\" >1</th>\n",
       "                        <td id=\"T_9687e_row0_col0\" class=\"data row0 col0\" >967</td>\n",
       "                        <td id=\"T_9687e_row0_col1\" class=\"data row0 col1\" >1938</td>\n",
       "                        <td id=\"T_9687e_row0_col2\" class=\"data row0 col2\" >5266</td>\n",
       "                        <td id=\"T_9687e_row0_col3\" class=\"data row0 col3\" >8171</td>\n",
       "            </tr>\n",
       "            <tr>\n",
       "                        <th id=\"T_9687e_level0_row1\" class=\"row_heading level0 row1\" >All</th>\n",
       "                        <td id=\"T_9687e_row1_col0\" class=\"data row1 col0\" >967</td>\n",
       "                        <td id=\"T_9687e_row1_col1\" class=\"data row1 col1\" >1938</td>\n",
       "                        <td id=\"T_9687e_row1_col2\" class=\"data row1 col2\" >5266</td>\n",
       "                        <td id=\"T_9687e_row1_col3\" class=\"data row1 col3\" >8171</td>\n",
       "            </tr>\n",
       "    </tbody></table>"
      ],
      "text/plain": [
       "<pandas.io.formats.style.Styler at 0x7f9eb8b4f0d0>"
      ]
     },
     "execution_count": 37,
     "metadata": {},
     "output_type": "execute_result"
    },
    {
     "name": "stdout",
     "output_type": "stream",
     "text": [
      "work_phone\n"
     ]
    },
    {
     "data": {
      "text/html": [
       "<style  type=\"text/css\" >\n",
       "#T_7c685_row0_col0{\n",
       "            background-color:  #016b58;\n",
       "            color:  #f1f1f1;\n",
       "        }#T_7c685_row0_col1{\n",
       "            background-color:  #016d5b;\n",
       "            color:  #f1f1f1;\n",
       "        }#T_7c685_row0_col2{\n",
       "            background-color:  #016e5e;\n",
       "            color:  #f1f1f1;\n",
       "        }#T_7c685_row0_col3{\n",
       "            background-color:  #016d5c;\n",
       "            color:  #f1f1f1;\n",
       "        }#T_7c685_row1_col0,#T_7c685_row1_col1,#T_7c685_row1_col2,#T_7c685_row1_col3{\n",
       "            background-color:  #fff7fb;\n",
       "            color:  #000000;\n",
       "        }#T_7c685_row2_col0,#T_7c685_row2_col1,#T_7c685_row2_col2,#T_7c685_row2_col3{\n",
       "            background-color:  #014636;\n",
       "            color:  #f1f1f1;\n",
       "        }</style><table id=\"T_7c685_\" ><thead>    <tr>        <th class=\"index_name level0\" >credit</th>        <th class=\"col_heading level0 col0\" >0.0</th>        <th class=\"col_heading level0 col1\" >1.0</th>        <th class=\"col_heading level0 col2\" >2.0</th>        <th class=\"col_heading level0 col3\" >All</th>    </tr>    <tr>        <th class=\"index_name level0\" >work_phone</th>        <th class=\"blank\" ></th>        <th class=\"blank\" ></th>        <th class=\"blank\" ></th>        <th class=\"blank\" ></th>    </tr></thead><tbody>\n",
       "                <tr>\n",
       "                        <th id=\"T_7c685_level0_row0\" class=\"row_heading level0 row0\" >0</th>\n",
       "                        <td id=\"T_7c685_row0_col0\" class=\"data row0 col0\" >861</td>\n",
       "                        <td id=\"T_7c685_row0_col1\" class=\"data row0 col1\" >1711</td>\n",
       "                        <td id=\"T_7c685_row0_col2\" class=\"data row0 col2\" >4631</td>\n",
       "                        <td id=\"T_7c685_row0_col3\" class=\"data row0 col3\" >7203</td>\n",
       "            </tr>\n",
       "            <tr>\n",
       "                        <th id=\"T_7c685_level0_row1\" class=\"row_heading level0 row1\" >1</th>\n",
       "                        <td id=\"T_7c685_row1_col0\" class=\"data row1 col0\" >106</td>\n",
       "                        <td id=\"T_7c685_row1_col1\" class=\"data row1 col1\" >227</td>\n",
       "                        <td id=\"T_7c685_row1_col2\" class=\"data row1 col2\" >635</td>\n",
       "                        <td id=\"T_7c685_row1_col3\" class=\"data row1 col3\" >968</td>\n",
       "            </tr>\n",
       "            <tr>\n",
       "                        <th id=\"T_7c685_level0_row2\" class=\"row_heading level0 row2\" >All</th>\n",
       "                        <td id=\"T_7c685_row2_col0\" class=\"data row2 col0\" >967</td>\n",
       "                        <td id=\"T_7c685_row2_col1\" class=\"data row2 col1\" >1938</td>\n",
       "                        <td id=\"T_7c685_row2_col2\" class=\"data row2 col2\" >5266</td>\n",
       "                        <td id=\"T_7c685_row2_col3\" class=\"data row2 col3\" >8171</td>\n",
       "            </tr>\n",
       "    </tbody></table>"
      ],
      "text/plain": [
       "<pandas.io.formats.style.Styler at 0x7f9eb897f190>"
      ]
     },
     "execution_count": 37,
     "metadata": {},
     "output_type": "execute_result"
    },
    {
     "name": "stdout",
     "output_type": "stream",
     "text": [
      "phone\n"
     ]
    },
    {
     "data": {
      "text/html": [
       "<style  type=\"text/css\" >\n",
       "#T_b463b_row0_col0{\n",
       "            background-color:  #5da4cc;\n",
       "            color:  #000000;\n",
       "        }#T_b463b_row0_col1{\n",
       "            background-color:  #328fbc;\n",
       "            color:  #000000;\n",
       "        }#T_b463b_row0_col2{\n",
       "            background-color:  #519ec8;\n",
       "            color:  #000000;\n",
       "        }#T_b463b_row0_col3{\n",
       "            background-color:  #4b9ac6;\n",
       "            color:  #000000;\n",
       "        }#T_b463b_row1_col0,#T_b463b_row1_col1,#T_b463b_row1_col2,#T_b463b_row1_col3{\n",
       "            background-color:  #fff7fb;\n",
       "            color:  #000000;\n",
       "        }#T_b463b_row2_col0,#T_b463b_row2_col1,#T_b463b_row2_col2,#T_b463b_row2_col3{\n",
       "            background-color:  #014636;\n",
       "            color:  #f1f1f1;\n",
       "        }</style><table id=\"T_b463b_\" ><thead>    <tr>        <th class=\"index_name level0\" >credit</th>        <th class=\"col_heading level0 col0\" >0.0</th>        <th class=\"col_heading level0 col1\" >1.0</th>        <th class=\"col_heading level0 col2\" >2.0</th>        <th class=\"col_heading level0 col3\" >All</th>    </tr>    <tr>        <th class=\"index_name level0\" >phone</th>        <th class=\"blank\" ></th>        <th class=\"blank\" ></th>        <th class=\"blank\" ></th>        <th class=\"blank\" ></th>    </tr></thead><tbody>\n",
       "                <tr>\n",
       "                        <th id=\"T_b463b_level0_row0\" class=\"row_heading level0 row0\" >0</th>\n",
       "                        <td id=\"T_b463b_row0_col0\" class=\"data row0 col0\" >655</td>\n",
       "                        <td id=\"T_b463b_row0_col1\" class=\"data row0 col1\" >1420</td>\n",
       "                        <td id=\"T_b463b_row0_col2\" class=\"data row0 col2\" >3649</td>\n",
       "                        <td id=\"T_b463b_row0_col3\" class=\"data row0 col3\" >5724</td>\n",
       "            </tr>\n",
       "            <tr>\n",
       "                        <th id=\"T_b463b_level0_row1\" class=\"row_heading level0 row1\" >1</th>\n",
       "                        <td id=\"T_b463b_row1_col0\" class=\"data row1 col0\" >312</td>\n",
       "                        <td id=\"T_b463b_row1_col1\" class=\"data row1 col1\" >518</td>\n",
       "                        <td id=\"T_b463b_row1_col2\" class=\"data row1 col2\" >1617</td>\n",
       "                        <td id=\"T_b463b_row1_col3\" class=\"data row1 col3\" >2447</td>\n",
       "            </tr>\n",
       "            <tr>\n",
       "                        <th id=\"T_b463b_level0_row2\" class=\"row_heading level0 row2\" >All</th>\n",
       "                        <td id=\"T_b463b_row2_col0\" class=\"data row2 col0\" >967</td>\n",
       "                        <td id=\"T_b463b_row2_col1\" class=\"data row2 col1\" >1938</td>\n",
       "                        <td id=\"T_b463b_row2_col2\" class=\"data row2 col2\" >5266</td>\n",
       "                        <td id=\"T_b463b_row2_col3\" class=\"data row2 col3\" >8171</td>\n",
       "            </tr>\n",
       "    </tbody></table>"
      ],
      "text/plain": [
       "<pandas.io.formats.style.Styler at 0x7f9ebc28ef50>"
      ]
     },
     "execution_count": 37,
     "metadata": {},
     "output_type": "execute_result"
    },
    {
     "name": "stdout",
     "output_type": "stream",
     "text": [
      "email\n"
     ]
    },
    {
     "data": {
      "text/html": [
       "<style  type=\"text/css\" >\n",
       "#T_5b35c_row0_col0,#T_5b35c_row0_col1{\n",
       "            background-color:  #015948;\n",
       "            color:  #f1f1f1;\n",
       "        }#T_5b35c_row0_col2{\n",
       "            background-color:  #015b4a;\n",
       "            color:  #f1f1f1;\n",
       "        }#T_5b35c_row0_col3{\n",
       "            background-color:  #015a49;\n",
       "            color:  #f1f1f1;\n",
       "        }#T_5b35c_row1_col0,#T_5b35c_row1_col1,#T_5b35c_row1_col2,#T_5b35c_row1_col3{\n",
       "            background-color:  #fff7fb;\n",
       "            color:  #000000;\n",
       "        }#T_5b35c_row2_col0,#T_5b35c_row2_col1,#T_5b35c_row2_col2,#T_5b35c_row2_col3{\n",
       "            background-color:  #014636;\n",
       "            color:  #f1f1f1;\n",
       "        }</style><table id=\"T_5b35c_\" ><thead>    <tr>        <th class=\"index_name level0\" >credit</th>        <th class=\"col_heading level0 col0\" >0.0</th>        <th class=\"col_heading level0 col1\" >1.0</th>        <th class=\"col_heading level0 col2\" >2.0</th>        <th class=\"col_heading level0 col3\" >All</th>    </tr>    <tr>        <th class=\"index_name level0\" >email</th>        <th class=\"blank\" ></th>        <th class=\"blank\" ></th>        <th class=\"blank\" ></th>        <th class=\"blank\" ></th>    </tr></thead><tbody>\n",
       "                <tr>\n",
       "                        <th id=\"T_5b35c_level0_row0\" class=\"row_heading level0 row0\" >0</th>\n",
       "                        <td id=\"T_5b35c_row0_col0\" class=\"data row0 col0\" >907</td>\n",
       "                        <td id=\"T_5b35c_row0_col1\" class=\"data row0 col1\" >1821</td>\n",
       "                        <td id=\"T_5b35c_row0_col2\" class=\"data row0 col2\" >4915</td>\n",
       "                        <td id=\"T_5b35c_row0_col3\" class=\"data row0 col3\" >7643</td>\n",
       "            </tr>\n",
       "            <tr>\n",
       "                        <th id=\"T_5b35c_level0_row1\" class=\"row_heading level0 row1\" >1</th>\n",
       "                        <td id=\"T_5b35c_row1_col0\" class=\"data row1 col0\" >60</td>\n",
       "                        <td id=\"T_5b35c_row1_col1\" class=\"data row1 col1\" >117</td>\n",
       "                        <td id=\"T_5b35c_row1_col2\" class=\"data row1 col2\" >351</td>\n",
       "                        <td id=\"T_5b35c_row1_col3\" class=\"data row1 col3\" >528</td>\n",
       "            </tr>\n",
       "            <tr>\n",
       "                        <th id=\"T_5b35c_level0_row2\" class=\"row_heading level0 row2\" >All</th>\n",
       "                        <td id=\"T_5b35c_row2_col0\" class=\"data row2 col0\" >967</td>\n",
       "                        <td id=\"T_5b35c_row2_col1\" class=\"data row2 col1\" >1938</td>\n",
       "                        <td id=\"T_5b35c_row2_col2\" class=\"data row2 col2\" >5266</td>\n",
       "                        <td id=\"T_5b35c_row2_col3\" class=\"data row2 col3\" >8171</td>\n",
       "            </tr>\n",
       "    </tbody></table>"
      ],
      "text/plain": [
       "<pandas.io.formats.style.Styler at 0x7f9eb8931ed0>"
      ]
     },
     "execution_count": 37,
     "metadata": {},
     "output_type": "execute_result"
    }
   ],
   "source": [
    "for cat in categoric:\n",
    "    if cat == 'occyp_type':continue\n",
    "    print(cat)\n",
    "    pd.crosstab(missing[cat],missing['credit'],margins=True).style.background_gradient(cmap='PuBuGn')"
   ]
  },
  {
   "cell_type": "markdown",
   "id": "further-silver",
   "metadata": {},
   "source": [
    "- 직업이 `nan`인 샘플을 분석해보면\n",
    "- 전반적으로 신용도가 낮은(1,2) 사람이 많았다.\n",
    "- 성별은 여성이 남성에 비해 월등히 많았다.\n",
    "- 부동산은 소유한 사람이 더 많았다.\n",
    "- 소득 유형은 전체 데이터의 절반 이상이 연금 수령자 `Pensioner`였다. -> 아예 연금수령자 컬럼을 만들어 주는 것도 좋을 듯\n",
    "- 근로중인 사람과 `Commercial associate`도 꽤 존재했다.\n",
    "- "
   ]
  }
 ],
 "metadata": {
  "kernelspec": {
   "display_name": "Python 3",
   "language": "python",
   "name": "python3"
  },
  "language_info": {
   "codemirror_mode": {
    "name": "ipython",
    "version": 3
   },
   "file_extension": ".py",
   "mimetype": "text/x-python",
   "name": "python",
   "nbconvert_exporter": "python",
   "pygments_lexer": "ipython3",
   "version": "3.7.9"
  }
 },
 "nbformat": 4,
 "nbformat_minor": 5
}
