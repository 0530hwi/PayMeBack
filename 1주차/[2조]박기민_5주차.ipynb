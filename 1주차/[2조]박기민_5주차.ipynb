{
 "cells": [
  {
   "cell_type": "markdown",
   "id": "f7e51ae7",
   "metadata": {},
   "source": [
    "## 데이터 셋 확인"
   ]
  },
  {
   "cell_type": "code",
   "execution_count": 1,
   "id": "2455ca83-553f-45ec-beba-e1c741dc9395",
   "metadata": {},
   "outputs": [],
   "source": [
    "import numpy as np\n",
    "import pandas as pd\n",
    "import seaborn as sns\n",
    "import matplotlib.pyplot as plt\n",
    "import warnings, random\n",
    "import numpy as np\n",
    "warnings.filterwarnings(action='ignore')\n",
    "\n",
    "from sklearn.metrics import log_loss\n",
    "from sklearn.preprocessing import StandardScaler\n",
    "from sklearn.preprocessing import OrdinalEncoder\n",
    "from sklearn.model_selection import StratifiedKFold\n",
    "\n",
    "from sklearn.cluster import KMeans\n",
    "from catboost import CatBoostClassifier, Pool"
   ]
  },
  {
   "cell_type": "code",
   "execution_count": 2,
   "id": "42f3bb1b",
   "metadata": {},
   "outputs": [],
   "source": [
    "from matplotlib import font_manager, rc\n",
    "import matplotlib\n",
    "import platform\n",
    "\n",
    "font_name = font_manager.FontProperties(fname=\"c:/Windows/Fonts/malgun.ttf\").get_name()\n",
    "rc('font', family=font_name)\n",
    "matplotlib.rcParams['axes.unicode_minus'] = False\n",
    "\n",
    "from IPython.core.interactiveshell import InteractiveShell\n",
    "InteractiveShell.ast_node_interactivity = \"all\""
   ]
  },
  {
   "cell_type": "code",
   "execution_count": 3,
   "id": "2b5ed256-7a61-4e45-affd-b97609408b92",
   "metadata": {
    "scrolled": true
   },
   "outputs": [
    {
     "data": {
      "text/plain": [
       "(26457, 19)"
      ]
     },
     "execution_count": 3,
     "metadata": {},
     "output_type": "execute_result"
    },
    {
     "data": {
      "text/html": [
       "<div>\n",
       "<style scoped>\n",
       "    .dataframe tbody tr th:only-of-type {\n",
       "        vertical-align: middle;\n",
       "    }\n",
       "\n",
       "    .dataframe tbody tr th {\n",
       "        vertical-align: top;\n",
       "    }\n",
       "\n",
       "    .dataframe thead th {\n",
       "        text-align: right;\n",
       "    }\n",
       "</style>\n",
       "<table border=\"1\" class=\"dataframe\">\n",
       "  <thead>\n",
       "    <tr style=\"text-align: right;\">\n",
       "      <th></th>\n",
       "      <th>gender</th>\n",
       "      <th>car</th>\n",
       "      <th>reality</th>\n",
       "      <th>child_num</th>\n",
       "      <th>income_total</th>\n",
       "      <th>income_type</th>\n",
       "      <th>edu_type</th>\n",
       "      <th>family_type</th>\n",
       "      <th>house_type</th>\n",
       "      <th>DAYS_BIRTH</th>\n",
       "      <th>DAYS_EMPLOYED</th>\n",
       "      <th>FLAG_MOBIL</th>\n",
       "      <th>work_phone</th>\n",
       "      <th>phone</th>\n",
       "      <th>email</th>\n",
       "      <th>occyp_type</th>\n",
       "      <th>family_size</th>\n",
       "      <th>begin_month</th>\n",
       "      <th>credit</th>\n",
       "    </tr>\n",
       "    <tr>\n",
       "      <th>index</th>\n",
       "      <th></th>\n",
       "      <th></th>\n",
       "      <th></th>\n",
       "      <th></th>\n",
       "      <th></th>\n",
       "      <th></th>\n",
       "      <th></th>\n",
       "      <th></th>\n",
       "      <th></th>\n",
       "      <th></th>\n",
       "      <th></th>\n",
       "      <th></th>\n",
       "      <th></th>\n",
       "      <th></th>\n",
       "      <th></th>\n",
       "      <th></th>\n",
       "      <th></th>\n",
       "      <th></th>\n",
       "      <th></th>\n",
       "    </tr>\n",
       "  </thead>\n",
       "  <tbody>\n",
       "    <tr>\n",
       "      <th>0</th>\n",
       "      <td>F</td>\n",
       "      <td>N</td>\n",
       "      <td>N</td>\n",
       "      <td>0</td>\n",
       "      <td>202500.0</td>\n",
       "      <td>Commercial associate</td>\n",
       "      <td>Higher education</td>\n",
       "      <td>Married</td>\n",
       "      <td>Municipal apartment</td>\n",
       "      <td>-13899</td>\n",
       "      <td>-4709</td>\n",
       "      <td>1</td>\n",
       "      <td>0</td>\n",
       "      <td>0</td>\n",
       "      <td>0</td>\n",
       "      <td>NaN</td>\n",
       "      <td>2.0</td>\n",
       "      <td>-6.0</td>\n",
       "      <td>1.0</td>\n",
       "    </tr>\n",
       "    <tr>\n",
       "      <th>1</th>\n",
       "      <td>F</td>\n",
       "      <td>N</td>\n",
       "      <td>Y</td>\n",
       "      <td>1</td>\n",
       "      <td>247500.0</td>\n",
       "      <td>Commercial associate</td>\n",
       "      <td>Secondary / secondary special</td>\n",
       "      <td>Civil marriage</td>\n",
       "      <td>House / apartment</td>\n",
       "      <td>-11380</td>\n",
       "      <td>-1540</td>\n",
       "      <td>1</td>\n",
       "      <td>0</td>\n",
       "      <td>0</td>\n",
       "      <td>1</td>\n",
       "      <td>Laborers</td>\n",
       "      <td>3.0</td>\n",
       "      <td>-5.0</td>\n",
       "      <td>1.0</td>\n",
       "    </tr>\n",
       "    <tr>\n",
       "      <th>2</th>\n",
       "      <td>M</td>\n",
       "      <td>Y</td>\n",
       "      <td>Y</td>\n",
       "      <td>0</td>\n",
       "      <td>450000.0</td>\n",
       "      <td>Working</td>\n",
       "      <td>Higher education</td>\n",
       "      <td>Married</td>\n",
       "      <td>House / apartment</td>\n",
       "      <td>-19087</td>\n",
       "      <td>-4434</td>\n",
       "      <td>1</td>\n",
       "      <td>0</td>\n",
       "      <td>1</td>\n",
       "      <td>0</td>\n",
       "      <td>Managers</td>\n",
       "      <td>2.0</td>\n",
       "      <td>-22.0</td>\n",
       "      <td>2.0</td>\n",
       "    </tr>\n",
       "    <tr>\n",
       "      <th>3</th>\n",
       "      <td>F</td>\n",
       "      <td>N</td>\n",
       "      <td>Y</td>\n",
       "      <td>0</td>\n",
       "      <td>202500.0</td>\n",
       "      <td>Commercial associate</td>\n",
       "      <td>Secondary / secondary special</td>\n",
       "      <td>Married</td>\n",
       "      <td>House / apartment</td>\n",
       "      <td>-15088</td>\n",
       "      <td>-2092</td>\n",
       "      <td>1</td>\n",
       "      <td>0</td>\n",
       "      <td>1</td>\n",
       "      <td>0</td>\n",
       "      <td>Sales staff</td>\n",
       "      <td>2.0</td>\n",
       "      <td>-37.0</td>\n",
       "      <td>0.0</td>\n",
       "    </tr>\n",
       "    <tr>\n",
       "      <th>4</th>\n",
       "      <td>F</td>\n",
       "      <td>Y</td>\n",
       "      <td>Y</td>\n",
       "      <td>0</td>\n",
       "      <td>157500.0</td>\n",
       "      <td>State servant</td>\n",
       "      <td>Higher education</td>\n",
       "      <td>Married</td>\n",
       "      <td>House / apartment</td>\n",
       "      <td>-15037</td>\n",
       "      <td>-2105</td>\n",
       "      <td>1</td>\n",
       "      <td>0</td>\n",
       "      <td>0</td>\n",
       "      <td>0</td>\n",
       "      <td>Managers</td>\n",
       "      <td>2.0</td>\n",
       "      <td>-26.0</td>\n",
       "      <td>2.0</td>\n",
       "    </tr>\n",
       "  </tbody>\n",
       "</table>\n",
       "</div>"
      ],
      "text/plain": [
       "      gender car reality  child_num  income_total           income_type  \\\n",
       "index                                                                     \n",
       "0          F   N       N          0      202500.0  Commercial associate   \n",
       "1          F   N       Y          1      247500.0  Commercial associate   \n",
       "2          M   Y       Y          0      450000.0               Working   \n",
       "3          F   N       Y          0      202500.0  Commercial associate   \n",
       "4          F   Y       Y          0      157500.0         State servant   \n",
       "\n",
       "                            edu_type     family_type           house_type  \\\n",
       "index                                                                       \n",
       "0                   Higher education         Married  Municipal apartment   \n",
       "1      Secondary / secondary special  Civil marriage    House / apartment   \n",
       "2                   Higher education         Married    House / apartment   \n",
       "3      Secondary / secondary special         Married    House / apartment   \n",
       "4                   Higher education         Married    House / apartment   \n",
       "\n",
       "       DAYS_BIRTH  DAYS_EMPLOYED  FLAG_MOBIL  work_phone  phone  email  \\\n",
       "index                                                                    \n",
       "0          -13899          -4709           1           0      0      0   \n",
       "1          -11380          -1540           1           0      0      1   \n",
       "2          -19087          -4434           1           0      1      0   \n",
       "3          -15088          -2092           1           0      1      0   \n",
       "4          -15037          -2105           1           0      0      0   \n",
       "\n",
       "        occyp_type  family_size  begin_month  credit  \n",
       "index                                                 \n",
       "0              NaN          2.0         -6.0     1.0  \n",
       "1         Laborers          3.0         -5.0     1.0  \n",
       "2         Managers          2.0        -22.0     2.0  \n",
       "3      Sales staff          2.0        -37.0     0.0  \n",
       "4         Managers          2.0        -26.0     2.0  "
      ]
     },
     "execution_count": 3,
     "metadata": {},
     "output_type": "execute_result"
    }
   ],
   "source": [
    "train = pd.read_csv(\"../input/Credit-card-user-overdue/train.csv\", index_col=0)\n",
    "test = pd.read_csv(\"../input/Credit-card-user-overdue/test.csv\", index_col=0)\n",
    "\n",
    "train.shape\n",
    "train.head()"
   ]
  },
  {
   "cell_type": "code",
   "execution_count": 4,
   "id": "3cda2ba9-79fd-47d1-868b-5bce28a45480",
   "metadata": {
    "scrolled": true
   },
   "outputs": [
    {
     "name": "stdout",
     "output_type": "stream",
     "text": [
      "<class 'pandas.core.frame.DataFrame'>\n",
      "Int64Index: 26457 entries, 0 to 26456\n",
      "Data columns (total 19 columns):\n",
      " #   Column         Non-Null Count  Dtype  \n",
      "---  ------         --------------  -----  \n",
      " 0   gender         26457 non-null  object \n",
      " 1   car            26457 non-null  object \n",
      " 2   reality        26457 non-null  object \n",
      " 3   child_num      26457 non-null  int64  \n",
      " 4   income_total   26457 non-null  float64\n",
      " 5   income_type    26457 non-null  object \n",
      " 6   edu_type       26457 non-null  object \n",
      " 7   family_type    26457 non-null  object \n",
      " 8   house_type     26457 non-null  object \n",
      " 9   DAYS_BIRTH     26457 non-null  int64  \n",
      " 10  DAYS_EMPLOYED  26457 non-null  int64  \n",
      " 11  FLAG_MOBIL     26457 non-null  int64  \n",
      " 12  work_phone     26457 non-null  int64  \n",
      " 13  phone          26457 non-null  int64  \n",
      " 14  email          26457 non-null  int64  \n",
      " 15  occyp_type     18286 non-null  object \n",
      " 16  family_size    26457 non-null  float64\n",
      " 17  begin_month    26457 non-null  float64\n",
      " 18  credit         26457 non-null  float64\n",
      "dtypes: float64(4), int64(7), object(8)\n",
      "memory usage: 4.0+ MB\n"
     ]
    }
   ],
   "source": [
    "train.info()"
   ]
  },
  {
   "cell_type": "code",
   "execution_count": 6,
   "id": "281083cb",
   "metadata": {
    "scrolled": false
   },
   "outputs": [
    {
     "data": {
      "text/plain": [
       "gender              0\n",
       "car                 0\n",
       "reality             0\n",
       "child_num           0\n",
       "income_total        0\n",
       "income_type         0\n",
       "edu_type            0\n",
       "family_type         0\n",
       "house_type          0\n",
       "DAYS_BIRTH          0\n",
       "DAYS_EMPLOYED       0\n",
       "FLAG_MOBIL          0\n",
       "work_phone          0\n",
       "phone               0\n",
       "email               0\n",
       "occyp_type       8171\n",
       "family_size         0\n",
       "begin_month         0\n",
       "credit              0\n",
       "dtype: int64"
      ]
     },
     "execution_count": 6,
     "metadata": {},
     "output_type": "execute_result"
    }
   ],
   "source": [
    "train.isna().sum()"
   ]
  },
  {
   "cell_type": "code",
   "execution_count": 7,
   "id": "e64f7d96",
   "metadata": {},
   "outputs": [
    {
     "data": {
      "text/plain": [
       "gender              0\n",
       "car                 0\n",
       "reality             0\n",
       "child_num           0\n",
       "income_total        0\n",
       "income_type         0\n",
       "edu_type            0\n",
       "family_type         0\n",
       "house_type          0\n",
       "DAYS_BIRTH          0\n",
       "DAYS_EMPLOYED       0\n",
       "FLAG_MOBIL          0\n",
       "work_phone          0\n",
       "phone               0\n",
       "email               0\n",
       "occyp_type       3152\n",
       "family_size         0\n",
       "begin_month         0\n",
       "dtype: int64"
      ]
     },
     "execution_count": 7,
     "metadata": {},
     "output_type": "execute_result"
    }
   ],
   "source": [
    "test.isna().sum()"
   ]
  },
  {
   "cell_type": "code",
   "execution_count": 8,
   "id": "0b23907e",
   "metadata": {},
   "outputs": [
    {
     "data": {
      "text/html": [
       "<div>\n",
       "<style scoped>\n",
       "    .dataframe tbody tr th:only-of-type {\n",
       "        vertical-align: middle;\n",
       "    }\n",
       "\n",
       "    .dataframe tbody tr th {\n",
       "        vertical-align: top;\n",
       "    }\n",
       "\n",
       "    .dataframe thead th {\n",
       "        text-align: right;\n",
       "    }\n",
       "</style>\n",
       "<table border=\"1\" class=\"dataframe\">\n",
       "  <thead>\n",
       "    <tr style=\"text-align: right;\">\n",
       "      <th></th>\n",
       "      <th>child_num</th>\n",
       "      <th>income_total</th>\n",
       "      <th>DAYS_BIRTH</th>\n",
       "      <th>DAYS_EMPLOYED</th>\n",
       "      <th>FLAG_MOBIL</th>\n",
       "      <th>work_phone</th>\n",
       "      <th>phone</th>\n",
       "      <th>email</th>\n",
       "      <th>family_size</th>\n",
       "      <th>begin_month</th>\n",
       "      <th>credit</th>\n",
       "    </tr>\n",
       "  </thead>\n",
       "  <tbody>\n",
       "    <tr>\n",
       "      <th>count</th>\n",
       "      <td>26457.00</td>\n",
       "      <td>26457.00</td>\n",
       "      <td>26457.00</td>\n",
       "      <td>26457.00</td>\n",
       "      <td>26457.00</td>\n",
       "      <td>26457.00</td>\n",
       "      <td>26457.00</td>\n",
       "      <td>26457.00</td>\n",
       "      <td>26457.00</td>\n",
       "      <td>26457.00</td>\n",
       "      <td>26457.00</td>\n",
       "    </tr>\n",
       "    <tr>\n",
       "      <th>mean</th>\n",
       "      <td>0.43</td>\n",
       "      <td>187306.52</td>\n",
       "      <td>-15958.05</td>\n",
       "      <td>59068.75</td>\n",
       "      <td>1.00</td>\n",
       "      <td>0.22</td>\n",
       "      <td>0.29</td>\n",
       "      <td>0.09</td>\n",
       "      <td>2.20</td>\n",
       "      <td>-26.12</td>\n",
       "      <td>1.52</td>\n",
       "    </tr>\n",
       "    <tr>\n",
       "      <th>std</th>\n",
       "      <td>0.75</td>\n",
       "      <td>101878.37</td>\n",
       "      <td>4201.59</td>\n",
       "      <td>137475.43</td>\n",
       "      <td>0.00</td>\n",
       "      <td>0.42</td>\n",
       "      <td>0.46</td>\n",
       "      <td>0.29</td>\n",
       "      <td>0.92</td>\n",
       "      <td>16.56</td>\n",
       "      <td>0.70</td>\n",
       "    </tr>\n",
       "    <tr>\n",
       "      <th>min</th>\n",
       "      <td>0.00</td>\n",
       "      <td>27000.00</td>\n",
       "      <td>-25152.00</td>\n",
       "      <td>-15713.00</td>\n",
       "      <td>1.00</td>\n",
       "      <td>0.00</td>\n",
       "      <td>0.00</td>\n",
       "      <td>0.00</td>\n",
       "      <td>1.00</td>\n",
       "      <td>-60.00</td>\n",
       "      <td>0.00</td>\n",
       "    </tr>\n",
       "    <tr>\n",
       "      <th>25%</th>\n",
       "      <td>0.00</td>\n",
       "      <td>121500.00</td>\n",
       "      <td>-19431.00</td>\n",
       "      <td>-3153.00</td>\n",
       "      <td>1.00</td>\n",
       "      <td>0.00</td>\n",
       "      <td>0.00</td>\n",
       "      <td>0.00</td>\n",
       "      <td>2.00</td>\n",
       "      <td>-39.00</td>\n",
       "      <td>1.00</td>\n",
       "    </tr>\n",
       "    <tr>\n",
       "      <th>50%</th>\n",
       "      <td>0.00</td>\n",
       "      <td>157500.00</td>\n",
       "      <td>-15547.00</td>\n",
       "      <td>-1539.00</td>\n",
       "      <td>1.00</td>\n",
       "      <td>0.00</td>\n",
       "      <td>0.00</td>\n",
       "      <td>0.00</td>\n",
       "      <td>2.00</td>\n",
       "      <td>-24.00</td>\n",
       "      <td>2.00</td>\n",
       "    </tr>\n",
       "    <tr>\n",
       "      <th>75%</th>\n",
       "      <td>1.00</td>\n",
       "      <td>225000.00</td>\n",
       "      <td>-12446.00</td>\n",
       "      <td>-407.00</td>\n",
       "      <td>1.00</td>\n",
       "      <td>0.00</td>\n",
       "      <td>1.00</td>\n",
       "      <td>0.00</td>\n",
       "      <td>3.00</td>\n",
       "      <td>-12.00</td>\n",
       "      <td>2.00</td>\n",
       "    </tr>\n",
       "    <tr>\n",
       "      <th>max</th>\n",
       "      <td>19.00</td>\n",
       "      <td>1575000.00</td>\n",
       "      <td>-7705.00</td>\n",
       "      <td>365243.00</td>\n",
       "      <td>1.00</td>\n",
       "      <td>1.00</td>\n",
       "      <td>1.00</td>\n",
       "      <td>1.00</td>\n",
       "      <td>20.00</td>\n",
       "      <td>0.00</td>\n",
       "      <td>2.00</td>\n",
       "    </tr>\n",
       "  </tbody>\n",
       "</table>\n",
       "</div>"
      ],
      "text/plain": [
       "       child_num  income_total  DAYS_BIRTH  DAYS_EMPLOYED  FLAG_MOBIL  \\\n",
       "count   26457.00      26457.00    26457.00       26457.00    26457.00   \n",
       "mean        0.43     187306.52   -15958.05       59068.75        1.00   \n",
       "std         0.75     101878.37     4201.59      137475.43        0.00   \n",
       "min         0.00      27000.00   -25152.00      -15713.00        1.00   \n",
       "25%         0.00     121500.00   -19431.00       -3153.00        1.00   \n",
       "50%         0.00     157500.00   -15547.00       -1539.00        1.00   \n",
       "75%         1.00     225000.00   -12446.00        -407.00        1.00   \n",
       "max        19.00    1575000.00    -7705.00      365243.00        1.00   \n",
       "\n",
       "       work_phone    phone    email  family_size  begin_month   credit  \n",
       "count    26457.00 26457.00 26457.00     26457.00     26457.00 26457.00  \n",
       "mean         0.22     0.29     0.09         2.20       -26.12     1.52  \n",
       "std          0.42     0.46     0.29         0.92        16.56     0.70  \n",
       "min          0.00     0.00     0.00         1.00       -60.00     0.00  \n",
       "25%          0.00     0.00     0.00         2.00       -39.00     1.00  \n",
       "50%          0.00     0.00     0.00         2.00       -24.00     2.00  \n",
       "75%          0.00     1.00     0.00         3.00       -12.00     2.00  \n",
       "max          1.00     1.00     1.00        20.00         0.00     2.00  "
      ]
     },
     "execution_count": 8,
     "metadata": {},
     "output_type": "execute_result"
    }
   ],
   "source": [
    "#pandas출력 옵션설정 - float형식으로 수치표기  \n",
    "pd.set_option('display.float_format', '{:.2f}'.format)\n",
    "train.describe()"
   ]
  },
  {
   "cell_type": "code",
   "execution_count": 9,
   "id": "8c28d3b5-b4c1-4328-a3dc-1c4f2a755d66",
   "metadata": {},
   "outputs": [
    {
     "data": {
      "text/plain": [
       "occyp_type\n",
       "Accountants             1.49\n",
       "Cleaning staff          1.57\n",
       "Cooking staff           1.51\n",
       "Core staff              1.50\n",
       "Drivers                 1.54\n",
       "HR staff                1.71\n",
       "High skill tech staff   1.50\n",
       "IT staff                1.37\n",
       "Laborers                1.50\n",
       "Low-skill Laborers      1.49\n",
       "Managers                1.53\n",
       "Medicine staff          1.59\n",
       "Private service staff   1.49\n",
       "Realty agents           1.54\n",
       "Sales staff             1.51\n",
       "Secretaries             1.49\n",
       "Security staff          1.61\n",
       "Waiters/barmen staff    1.44\n",
       "Name: credit, dtype: float64"
      ]
     },
     "execution_count": 9,
     "metadata": {},
     "output_type": "execute_result"
    }
   ],
   "source": [
    "train.groupby('occyp_type')['credit'].mean()"
   ]
  },
  {
   "cell_type": "markdown",
   "id": "5ac15f41-a7b3-45e2-8b52-22ad3ddfd51d",
   "metadata": {},
   "source": [
    "결측치를 채우는 방향으로 가면 좋을 듯."
   ]
  },
  {
   "cell_type": "markdown",
   "id": "359382fa",
   "metadata": {},
   "source": [
    "## 데이터 시각화"
   ]
  },
  {
   "cell_type": "markdown",
   "id": "88d37f2f",
   "metadata": {},
   "source": [
    "### 성별 데이터"
   ]
  },
  {
   "cell_type": "code",
   "execution_count": 10,
   "id": "66e24769",
   "metadata": {},
   "outputs": [
    {
     "data": {
      "text/plain": [
       "<Figure size 432x288 with 0 Axes>"
      ]
     },
     "execution_count": 10,
     "metadata": {},
     "output_type": "execute_result"
    },
    {
     "data": {
      "text/plain": [
       "<AxesSubplot:xlabel='gender', ylabel='count'>"
      ]
     },
     "execution_count": 10,
     "metadata": {},
     "output_type": "execute_result"
    },
    {
     "data": {
      "text/plain": [
       "Text(0.5, 1.0, '성별 분포: 신용도')"
      ]
     },
     "execution_count": 10,
     "metadata": {},
     "output_type": "execute_result"
    },
    {
     "data": {
      "image/png": "[encoded data removed]",
      "text/plain": [
       "<Figure size 432x288 with 1 Axes>"
      ]
     },
     "metadata": {
      "needs_background": "light"
     },
     "output_type": "display_data"
    }
   ],
   "source": [
    "plt.figure(figsize=(6, 4))\n",
    "sns.countplot('gender',hue='credit', data=train)\n",
    "plt.title('성별 분포: 신용도')\n",
    "plt.show()"
   ]
  },
  {
   "cell_type": "markdown",
   "id": "6f2766ee",
   "metadata": {},
   "source": [
    "### 나이 데이터"
   ]
  },
  {
   "cell_type": "markdown",
   "id": "77374834",
   "metadata": {},
   "source": [
    "출생일 데이터는 데이터 수집 당시부터 역으로 계산한다는데, 데이터 수집 당시가 언제지??  \n",
    "아 그때 당시 나이니까 365를 나눠서 절대값 씌우면 됩니다."
   ]
  },
  {
   "cell_type": "code",
   "execution_count": 11,
   "id": "5deb3a69",
   "metadata": {},
   "outputs": [],
   "source": [
    "train['age'] = abs(train['DAYS_BIRTH'] / 365).astype(int)\n",
    "test['age'] = abs(test['DAYS_BIRTH'] / 365).astype(int)"
   ]
  },
  {
   "cell_type": "code",
   "execution_count": 12,
   "id": "4ce137ea",
   "metadata": {},
   "outputs": [
    {
     "name": "stdout",
     "output_type": "stream",
     "text": [
      "가장 고령의 사용자: 68 years\n",
      "가장 어린 사용자: 21 years\n",
      "사용자 평균 나이: 43.2 years\n"
     ]
    }
   ],
   "source": [
    "print('가장 고령의 사용자: {} years'.format(train['age'].max()))\n",
    "print('가장 어린 사용자: {} years'.format(train['age'].min()))\n",
    "print('사용자 평균 나이: {:.1f} years'.format(train['age'].mean()))"
   ]
  },
  {
   "cell_type": "code",
   "execution_count": 13,
   "id": "95c5ee35",
   "metadata": {},
   "outputs": [
    {
     "data": {
      "text/plain": [
       "<AxesSubplot:xlabel='age', ylabel='Density'>"
      ]
     },
     "execution_count": 13,
     "metadata": {},
     "output_type": "execute_result"
    },
    {
     "data": {
      "text/plain": [
       "<AxesSubplot:xlabel='age', ylabel='Density'>"
      ]
     },
     "execution_count": 13,
     "metadata": {},
     "output_type": "execute_result"
    },
    {
     "data": {
      "text/plain": [
       "<AxesSubplot:xlabel='age', ylabel='Density'>"
      ]
     },
     "execution_count": 13,
     "metadata": {},
     "output_type": "execute_result"
    },
    {
     "data": {
      "text/plain": [
       "<matplotlib.legend.Legend at 0x22943522d00>"
      ]
     },
     "execution_count": 13,
     "metadata": {},
     "output_type": "execute_result"
    },
    {
     "data": {
      "image/png": "[encoded data removed]",
      "text/plain": [
       "<Figure size 648x360 with 1 Axes>"
      ]
     },
     "metadata": {
      "needs_background": "light"
     },
     "output_type": "display_data"
    }
   ],
   "source": [
    "fig, ax = plt.subplots(1, 1, figsize=(9, 5))\n",
    "sns.kdeplot(train[train['credit'] == 2.0]['age'], ax=ax)\n",
    "sns.kdeplot(train[train['credit'] == 1.0]['age'], ax=ax)\n",
    "sns.kdeplot(train[train['credit'] == 0.0]['age'], ax=ax)\n",
    "plt.legend(['credit==2', 'credit == 1', 'credit == 0'])\n",
    "plt.show()"
   ]
  },
  {
   "cell_type": "markdown",
   "id": "a07aa052",
   "metadata": {},
   "source": [
    "그래프를 보면 신용등급 1의 경우 20-30대에 몰려 있고, 신용등급 0의 경우 35-40대에 머물러 있다"
   ]
  },
  {
   "cell_type": "markdown",
   "id": "7df637fa",
   "metadata": {},
   "source": [
    "### 차량 소유 여부"
   ]
  },
  {
   "cell_type": "code",
   "execution_count": 14,
   "id": "1c1d80df",
   "metadata": {},
   "outputs": [
    {
     "data": {
      "text/plain": [
       "array(['N', 'Y'], dtype=object)"
      ]
     },
     "execution_count": 14,
     "metadata": {},
     "output_type": "execute_result"
    }
   ],
   "source": [
    "train['car'].unique()"
   ]
  },
  {
   "cell_type": "code",
   "execution_count": 15,
   "id": "9fc93053",
   "metadata": {},
   "outputs": [
    {
     "data": {
      "text/plain": [
       "<Figure size 432x288 with 0 Axes>"
      ]
     },
     "execution_count": 15,
     "metadata": {},
     "output_type": "execute_result"
    },
    {
     "data": {
      "text/plain": [
       "<AxesSubplot:xlabel='credit', ylabel='count'>"
      ]
     },
     "execution_count": 15,
     "metadata": {},
     "output_type": "execute_result"
    },
    {
     "data": {
      "text/plain": [
       "Text(0.5, 1.0, '신용도: 차량 소유 여부')"
      ]
     },
     "execution_count": 15,
     "metadata": {},
     "output_type": "execute_result"
    },
    {
     "data": {
      "image/png": "[encoded data removed]",
      "text/plain": [
       "<Figure size 432x288 with 1 Axes>"
      ]
     },
     "metadata": {
      "needs_background": "light"
     },
     "output_type": "display_data"
    }
   ],
   "source": [
    "plt.figure(figsize=(6, 4))\n",
    "sns.countplot('credit',hue='car', data=train)\n",
    "plt.title('신용도: 차량 소유 여부')\n",
    "plt.show()"
   ]
  },
  {
   "cell_type": "markdown",
   "id": "e94eabcd",
   "metadata": {},
   "source": [
    "대체로 차량 소유 여부 비율이 비슷해보인다."
   ]
  },
  {
   "cell_type": "markdown",
   "id": "c2452840",
   "metadata": {},
   "source": [
    "### 부동산 소유 여부"
   ]
  },
  {
   "cell_type": "code",
   "execution_count": 16,
   "id": "ee4a783d",
   "metadata": {},
   "outputs": [
    {
     "data": {
      "text/plain": [
       "array(['N', 'Y'], dtype=object)"
      ]
     },
     "execution_count": 16,
     "metadata": {},
     "output_type": "execute_result"
    }
   ],
   "source": [
    "train['reality'].unique()"
   ]
  },
  {
   "cell_type": "code",
   "execution_count": 17,
   "id": "ca100a1e",
   "metadata": {},
   "outputs": [
    {
     "data": {
      "text/plain": [
       "<Figure size 432x288 with 0 Axes>"
      ]
     },
     "execution_count": 17,
     "metadata": {},
     "output_type": "execute_result"
    },
    {
     "data": {
      "text/plain": [
       "<AxesSubplot:xlabel='credit', ylabel='count'>"
      ]
     },
     "execution_count": 17,
     "metadata": {},
     "output_type": "execute_result"
    },
    {
     "data": {
      "text/plain": [
       "Text(0.5, 1.0, '신용도: 부동산 소유 여부')"
      ]
     },
     "execution_count": 17,
     "metadata": {},
     "output_type": "execute_result"
    },
    {
     "data": {
      "image/png": "[encoded data removed]",
      "text/plain": [
       "<Figure size 432x288 with 1 Axes>"
      ]
     },
     "metadata": {
      "needs_background": "light"
     },
     "output_type": "display_data"
    }
   ],
   "source": [
    "plt.figure(figsize=(6, 4))\n",
    "sns.countplot('credit',hue='reality', data=train)\n",
    "plt.title('신용도: 부동산 소유 여부')\n",
    "plt.show()"
   ]
  },
  {
   "cell_type": "markdown",
   "id": "30fe6019",
   "metadata": {},
   "source": [
    "대체로 부동산 소유 여부 비율이 비슷해보인다."
   ]
  },
  {
   "cell_type": "markdown",
   "id": "0c7f5dfc",
   "metadata": {},
   "source": [
    "### 자녀 수"
   ]
  },
  {
   "cell_type": "code",
   "execution_count": 18,
   "id": "c2d94f52",
   "metadata": {},
   "outputs": [
    {
     "data": {
      "text/plain": [
       "0     18340\n",
       "1      5386\n",
       "2      2362\n",
       "3       306\n",
       "4        47\n",
       "5        10\n",
       "14        3\n",
       "7         2\n",
       "19        1\n",
       "Name: child_num, dtype: int64"
      ]
     },
     "execution_count": 18,
     "metadata": {},
     "output_type": "execute_result"
    }
   ],
   "source": [
    "train['child_num'].value_counts()"
   ]
  },
  {
   "cell_type": "markdown",
   "id": "eb19827f",
   "metadata": {},
   "source": [
    "자녀가 7명 이상은 좀 이상한데???  \n",
    "7이상은 5명 이상으로 처리하자"
   ]
  },
  {
   "cell_type": "code",
   "execution_count": 19,
   "id": "972b2b85",
   "metadata": {},
   "outputs": [],
   "source": [
    "train.loc[train.child_num > 5, 'child_num'] = 5"
   ]
  },
  {
   "cell_type": "code",
   "execution_count": 20,
   "id": "50e10b4b",
   "metadata": {},
   "outputs": [
    {
     "data": {
      "text/plain": [
       "<AxesSubplot:xlabel='child_num', ylabel='count'>"
      ]
     },
     "execution_count": 20,
     "metadata": {},
     "output_type": "execute_result"
    },
    {
     "data": {
      "image/png": "[encoded data removed]",
      "text/plain": [
       "<Figure size 432x288 with 1 Axes>"
      ]
     },
     "metadata": {
      "needs_background": "light"
     },
     "output_type": "display_data"
    }
   ],
   "source": [
    "sns.countplot('child_num', hue='credit', data=train)"
   ]
  },
  {
   "cell_type": "markdown",
   "id": "b6dedf67",
   "metadata": {},
   "source": [
    "자녀수에 따라 신용도 차이가 크게 없어보인다."
   ]
  },
  {
   "cell_type": "markdown",
   "id": "e94690a9",
   "metadata": {},
   "source": [
    "### 연간 소득"
   ]
  },
  {
   "cell_type": "code",
   "execution_count": 21,
   "id": "e055bc1a",
   "metadata": {},
   "outputs": [
    {
     "data": {
      "text/plain": [
       "index\n",
       "0       202500.00\n",
       "1       247500.00\n",
       "2       450000.00\n",
       "3       202500.00\n",
       "4       157500.00\n",
       "           ...   \n",
       "26452   225000.00\n",
       "26453   180000.00\n",
       "26454   292500.00\n",
       "26455   171000.00\n",
       "26456    81000.00\n",
       "Name: income_total, Length: 26457, dtype: float64"
      ]
     },
     "execution_count": 21,
     "metadata": {},
     "output_type": "execute_result"
    }
   ],
   "source": [
    "train.income_total"
   ]
  },
  {
   "cell_type": "code",
   "execution_count": 22,
   "id": "68885880",
   "metadata": {},
   "outputs": [
    {
     "data": {
      "text/plain": [
       "<Figure size 432x288 with 0 Axes>"
      ]
     },
     "execution_count": 22,
     "metadata": {},
     "output_type": "execute_result"
    },
    {
     "data": {
      "text/plain": [
       "<AxesSubplot:xlabel='income_total', ylabel='Density'>"
      ]
     },
     "execution_count": 22,
     "metadata": {},
     "output_type": "execute_result"
    },
    {
     "data": {
      "text/plain": [
       "Text(0.5, 1.0, '연간 소득')"
      ]
     },
     "execution_count": 22,
     "metadata": {},
     "output_type": "execute_result"
    },
    {
     "data": {
      "image/png": "[encoded data removed]",
      "text/plain": [
       "<Figure size 432x288 with 1 Axes>"
      ]
     },
     "metadata": {
      "needs_background": "light"
     },
     "output_type": "display_data"
    }
   ],
   "source": [
    "plt.figure(figsize=(6, 4))\n",
    "sns.distplot(train.income_total, color='b')\n",
    "plt.title('연간 소득')\n",
    "plt.show()"
   ]
  },
  {
   "cell_type": "markdown",
   "id": "3e9b7758",
   "metadata": {},
   "source": [
    "그래프가 한쪽으로 쏠리는 현상이 나타났습니다.  \n",
    "log변환을 사용해서 비대칭성을 없애주겠습니다. "
   ]
  },
  {
   "cell_type": "code",
   "execution_count": 23,
   "id": "9e263bcf",
   "metadata": {},
   "outputs": [],
   "source": [
    "train[\"income_total\"] = np.log1p(train[\"income_total\"])\n",
    "test[\"income_total\"] = np.log1p(test[\"income_total\"])"
   ]
  },
  {
   "cell_type": "code",
   "execution_count": 24,
   "id": "62ae22bb",
   "metadata": {},
   "outputs": [
    {
     "data": {
      "text/plain": [
       "<Figure size 432x288 with 0 Axes>"
      ]
     },
     "execution_count": 24,
     "metadata": {},
     "output_type": "execute_result"
    },
    {
     "data": {
      "text/plain": [
       "<AxesSubplot:xlabel='income_total', ylabel='Density'>"
      ]
     },
     "execution_count": 24,
     "metadata": {},
     "output_type": "execute_result"
    },
    {
     "data": {
      "text/plain": [
       "Text(0.5, 1.0, '연간 소득: log 변환')"
      ]
     },
     "execution_count": 24,
     "metadata": {},
     "output_type": "execute_result"
    },
    {
     "data": {
      "image/png": "[encoded data removed]",
      "text/plain": [
       "<Figure size 432x288 with 1 Axes>"
      ]
     },
     "metadata": {
      "needs_background": "light"
     },
     "output_type": "display_data"
    }
   ],
   "source": [
    "plt.figure(figsize=(6, 4))\n",
    "sns.distplot(train.income_total, color='b')\n",
    "plt.title('연간 소득: log 변환')\n",
    "plt.show()"
   ]
  },
  {
   "cell_type": "markdown",
   "id": "2fae43b4",
   "metadata": {},
   "source": [
    "### 소득 분류"
   ]
  },
  {
   "cell_type": "code",
   "execution_count": 25,
   "id": "b4dded5a",
   "metadata": {},
   "outputs": [
    {
     "data": {
      "text/plain": [
       "Working                 13645\n",
       "Commercial associate     6202\n",
       "Pensioner                4449\n",
       "State servant            2154\n",
       "Student                     7\n",
       "Name: income_type, dtype: int64"
      ]
     },
     "execution_count": 25,
     "metadata": {},
     "output_type": "execute_result"
    }
   ],
   "source": [
    "train.income_type.value_counts()"
   ]
  },
  {
   "cell_type": "markdown",
   "id": "ee527bec",
   "metadata": {},
   "source": [
    "소득 분류는 어떻게 해석하면 좋을까??"
   ]
  },
  {
   "cell_type": "code",
   "execution_count": 26,
   "id": "f99bfbac",
   "metadata": {},
   "outputs": [
    {
     "data": {
      "text/plain": [
       "index\n",
       "2990     51\n",
       "3602     51\n",
       "6223     24\n",
       "8936     51\n",
       "11646    33\n",
       "21681    51\n",
       "23119    33\n",
       "Name: age, dtype: int32"
      ]
     },
     "execution_count": 26,
     "metadata": {},
     "output_type": "execute_result"
    }
   ],
   "source": [
    "train.loc[train.income_type=='Student']['age']"
   ]
  },
  {
   "cell_type": "markdown",
   "id": "790a7777",
   "metadata": {},
   "source": [
    "### 교육수준"
   ]
  },
  {
   "cell_type": "code",
   "execution_count": 28,
   "id": "a6de569d",
   "metadata": {},
   "outputs": [
    {
     "data": {
      "text/plain": [
       "Secondary / secondary special    17995\n",
       "Higher education                  7162\n",
       "Incomplete higher                 1020\n",
       "Lower secondary                    257\n",
       "Academic degree                     23\n",
       "Name: edu_type, dtype: int64"
      ]
     },
     "execution_count": 28,
     "metadata": {},
     "output_type": "execute_result"
    }
   ],
   "source": [
    "train.edu_type.value_counts()"
   ]
  },
  {
   "cell_type": "code",
   "execution_count": null,
   "id": "1d6aa78f",
   "metadata": {},
   "outputs": [],
   "source": []
  },
  {
   "cell_type": "markdown",
   "id": "dd9564ff",
   "metadata": {},
   "source": [
    "### 결혼 여부"
   ]
  },
  {
   "cell_type": "code",
   "execution_count": 29,
   "id": "7406ba2e",
   "metadata": {},
   "outputs": [
    {
     "data": {
      "text/plain": [
       "Married                 18196\n",
       "Single / not married     3496\n",
       "Civil marriage           2123\n",
       "Separated                1539\n",
       "Widow                    1103\n",
       "Name: family_type, dtype: int64"
      ]
     },
     "execution_count": 29,
     "metadata": {},
     "output_type": "execute_result"
    }
   ],
   "source": [
    "train.family_type.value_counts()"
   ]
  },
  {
   "cell_type": "code",
   "execution_count": null,
   "id": "a33ada71",
   "metadata": {},
   "outputs": [],
   "source": []
  },
  {
   "cell_type": "markdown",
   "id": "9e688033",
   "metadata": {},
   "source": [
    "### 생활 방식"
   ]
  },
  {
   "cell_type": "code",
   "execution_count": 30,
   "id": "7c3fc994",
   "metadata": {},
   "outputs": [
    {
     "data": {
      "text/plain": [
       "House / apartment      23653\n",
       "With parents            1257\n",
       "Municipal apartment      818\n",
       "Rented apartment         429\n",
       "Office apartment         190\n",
       "Co-op apartment          110\n",
       "Name: house_type, dtype: int64"
      ]
     },
     "execution_count": 30,
     "metadata": {},
     "output_type": "execute_result"
    }
   ],
   "source": [
    "train.house_type.value_counts()"
   ]
  },
  {
   "cell_type": "code",
   "execution_count": null,
   "id": "8621d2ac",
   "metadata": {},
   "outputs": [],
   "source": []
  },
  {
   "cell_type": "markdown",
   "id": "1fc71e15",
   "metadata": {},
   "source": [
    "### 업무 시작일"
   ]
  },
  {
   "cell_type": "code",
   "execution_count": 31,
   "id": "dc632293",
   "metadata": {},
   "outputs": [
    {
     "data": {
      "text/plain": [
       " 365243    4438\n",
       "-401         57\n",
       "-1539        47\n",
       "-200         45\n",
       "-2087        44\n",
       "           ... \n",
       "-10475        1\n",
       "-2202         1\n",
       "-2552         1\n",
       "-680          1\n",
       "-4973         1\n",
       "Name: DAYS_EMPLOYED, Length: 3470, dtype: int64"
      ]
     },
     "execution_count": 31,
     "metadata": {},
     "output_type": "execute_result"
    }
   ],
   "source": [
    "train.DAYS_EMPLOYED.value_counts()"
   ]
  },
  {
   "cell_type": "code",
   "execution_count": null,
   "id": "1ec7bb36",
   "metadata": {},
   "outputs": [],
   "source": []
  },
  {
   "cell_type": "markdown",
   "id": "209a57e9",
   "metadata": {},
   "source": [
    "### 핸드폰 소유 여부"
   ]
  },
  {
   "cell_type": "code",
   "execution_count": 32,
   "id": "13177171",
   "metadata": {},
   "outputs": [
    {
     "data": {
      "text/plain": [
       "1    26457\n",
       "Name: FLAG_MOBIL, dtype: int64"
      ]
     },
     "execution_count": 32,
     "metadata": {},
     "output_type": "execute_result"
    }
   ],
   "source": [
    "train.FLAG_MOBIL.value_counts()"
   ]
  },
  {
   "cell_type": "code",
   "execution_count": null,
   "id": "5e630b8f",
   "metadata": {},
   "outputs": [],
   "source": []
  },
  {
   "cell_type": "markdown",
   "id": "e20ce953",
   "metadata": {},
   "source": [
    "###  업무용 전화 소유 여부"
   ]
  },
  {
   "cell_type": "code",
   "execution_count": 33,
   "id": "8c21ab7e",
   "metadata": {},
   "outputs": [
    {
     "data": {
      "text/plain": [
       "0    20511\n",
       "1     5946\n",
       "Name: work_phone, dtype: int64"
      ]
     },
     "execution_count": 33,
     "metadata": {},
     "output_type": "execute_result"
    }
   ],
   "source": [
    "train.work_phone.value_counts()"
   ]
  },
  {
   "cell_type": "code",
   "execution_count": null,
   "id": "cfaba6f6",
   "metadata": {},
   "outputs": [],
   "source": []
  },
  {
   "cell_type": "markdown",
   "id": "0600e29e",
   "metadata": {},
   "source": [
    "### 전화 소유 여부"
   ]
  },
  {
   "cell_type": "code",
   "execution_count": 34,
   "id": "d6d1eb66",
   "metadata": {},
   "outputs": [
    {
     "data": {
      "text/plain": [
       "0    18672\n",
       "1     7785\n",
       "Name: phone, dtype: int64"
      ]
     },
     "execution_count": 34,
     "metadata": {},
     "output_type": "execute_result"
    }
   ],
   "source": [
    "train.phone.value_counts()"
   ]
  },
  {
   "cell_type": "code",
   "execution_count": null,
   "id": "0d31833a",
   "metadata": {},
   "outputs": [],
   "source": []
  },
  {
   "cell_type": "markdown",
   "id": "9e769c58",
   "metadata": {},
   "source": [
    "### 이메일 소유 여부\n"
   ]
  },
  {
   "cell_type": "code",
   "execution_count": 35,
   "id": "3997aaae",
   "metadata": {},
   "outputs": [
    {
     "data": {
      "text/plain": [
       "0    24042\n",
       "1     2415\n",
       "Name: email, dtype: int64"
      ]
     },
     "execution_count": 35,
     "metadata": {},
     "output_type": "execute_result"
    }
   ],
   "source": [
    "train.email.value_counts()"
   ]
  },
  {
   "cell_type": "code",
   "execution_count": null,
   "id": "107e57ae",
   "metadata": {},
   "outputs": [],
   "source": []
  },
  {
   "cell_type": "markdown",
   "id": "3d7227e9",
   "metadata": {},
   "source": [
    "### 직업 유형\t"
   ]
  },
  {
   "cell_type": "code",
   "execution_count": 36,
   "id": "0f69ac5c",
   "metadata": {},
   "outputs": [
    {
     "data": {
      "text/plain": [
       "Laborers                 4512\n",
       "Core staff               2646\n",
       "Sales staff              2539\n",
       "Managers                 2167\n",
       "Drivers                  1575\n",
       "High skill tech staff    1040\n",
       "Accountants               902\n",
       "Medicine staff            864\n",
       "Cooking staff             457\n",
       "Security staff            424\n",
       "Cleaning staff            403\n",
       "Private service staff     243\n",
       "Low-skill Laborers        127\n",
       "Waiters/barmen staff      124\n",
       "Secretaries                97\n",
       "Realty agents              63\n",
       "HR staff                   62\n",
       "IT staff                   41\n",
       "Name: occyp_type, dtype: int64"
      ]
     },
     "execution_count": 36,
     "metadata": {},
     "output_type": "execute_result"
    }
   ],
   "source": [
    "train.occyp_type.value_counts()"
   ]
  },
  {
   "cell_type": "code",
   "execution_count": null,
   "id": "4dae3d3b",
   "metadata": {},
   "outputs": [],
   "source": []
  },
  {
   "cell_type": "markdown",
   "id": "f4e9be43",
   "metadata": {},
   "source": [
    "### 가족 규모"
   ]
  },
  {
   "cell_type": "code",
   "execution_count": 37,
   "id": "67623cf6",
   "metadata": {},
   "outputs": [
    {
     "data": {
      "text/plain": [
       "2.00     14106\n",
       "1.00      5109\n",
       "3.00      4632\n",
       "4.00      2260\n",
       "5.00       291\n",
       "6.00        44\n",
       "7.00         9\n",
       "15.00        3\n",
       "9.00         2\n",
       "20.00        1\n",
       "Name: family_size, dtype: int64"
      ]
     },
     "execution_count": 37,
     "metadata": {},
     "output_type": "execute_result"
    }
   ],
   "source": [
    "train.family_size.value_counts()"
   ]
  },
  {
   "cell_type": "code",
   "execution_count": null,
   "id": "c024a8a7",
   "metadata": {},
   "outputs": [],
   "source": []
  },
  {
   "cell_type": "markdown",
   "id": "8976f364",
   "metadata": {},
   "source": [
    "### 신용카드 발급 월"
   ]
  },
  {
   "cell_type": "code",
   "execution_count": 38,
   "id": "aa4ad9ea",
   "metadata": {},
   "outputs": [
    {
     "data": {
      "text/plain": [
       "-7.00     662\n",
       "-11.00    617\n",
       "-8.00     612\n",
       "-3.00     593\n",
       "-6.00     591\n",
       "         ... \n",
       "-58.00    244\n",
       "-59.00    242\n",
       "-60.00    235\n",
       "0.00      231\n",
       "-57.00    228\n",
       "Name: begin_month, Length: 61, dtype: int64"
      ]
     },
     "execution_count": 38,
     "metadata": {},
     "output_type": "execute_result"
    }
   ],
   "source": [
    "train.begin_month.value_counts()"
   ]
  },
  {
   "cell_type": "code",
   "execution_count": null,
   "id": "a32b07e3",
   "metadata": {},
   "outputs": [],
   "source": []
  }
 ],
 "metadata": {
  "kernelspec": {
   "display_name": "aiffel",
   "language": "python",
   "name": "conda"
  },
  "language_info": {
   "codemirror_mode": {
    "name": "ipython",
    "version": 3
   },
   "file_extension": ".py",
   "mimetype": "text/x-python",
   "name": "python",
   "nbconvert_exporter": "python",
   "pygments_lexer": "ipython3",
   "version": "3.8.5"
  },
  "toc": {
   "base_numbering": 1,
   "nav_menu": {},
   "number_sections": true,
   "sideBar": true,
   "skip_h1_title": false,
   "title_cell": "Table of Contents",
   "title_sidebar": "Contents",
   "toc_cell": false,
   "toc_position": {},
   "toc_section_display": true,
   "toc_window_display": false
  }
 },
 "nbformat": 4,
 "nbformat_minor": 5
}
