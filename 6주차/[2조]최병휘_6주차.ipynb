{
  "nbformat": 4,
  "nbformat_minor": 0,
  "metadata": {
    "colab": {
      "name": "[2조]최병휘_5주차.ipynb",
      "provenance": [],
      "collapsed_sections": [],
      "toc_visible": true
    },
    "kernelspec": {
      "name": "python3",
      "display_name": "Python 3"
    },
    "language_info": {
      "name": "python"
    }
  },
  "cells": [
    {
      "cell_type": "markdown",
      "metadata": {
        "id": "isuBCU1Mo39Z"
      },
      "source": [
        "# 데이터 설명 및 목적\n",
        "\n",
        "📌 목적: 신용카드 사용자 데이터를 보고 사용자의 대금 연체 정도를 예측하는 알고리즘 개발\n",
        "\n",
        "|변수 명|설명|\n",
        "|:---|:---|\n",
        "|`gender`|성별|\n",
        "|`car`|차량 소유 여부|\n",
        "|`reality`|부동산 소유 여부|\n",
        "|`child_num`|자녀 수|\n",
        "|`income_total`|연간 소득|\n",
        "|`income_type`|소득 분류|\n",
        "|`edu_type`|교육 수준|\n",
        "|`family_type`|결혼 여부|\n",
        "|`house_tpye`|생활 방식|\n",
        "|`DAYS_BIRTH`|출생일, 데이터 수집 당시 (0)부터 역으로 셈|\n",
        "|`DAYS_EMPLOYED`|업무 시작일, 데이터 수집 당시 (0)부터 역으로 셈, 양수 값은 고용되지 않은 상태|\n",
        "|`FLAG_MOBIL`|핸드폰 소유 여부|\n",
        "|`work_phone`|업무용 전화 소유 여부|\n",
        "|`phone`|전화 소유 여부|\n",
        "|`email`|이메일 소유 여부|\n",
        "|`occyp_type`|직업 유형|\n",
        "|`begin_month`|신용카드 발급 월, 데이터 수집 당시 (0)부터 역으로 셈|\n",
        "|`credit`|사용자의 신용카드 대금 연체를 기준으로 한 신용도|\n",
        "\n"
      ]
    },
    {
      "cell_type": "markdown",
      "metadata": {
        "id": "w1M7E9PgvnxN"
      },
      "source": [
        "# (1) 데이터 셋 확인"
      ]
    },
    {
      "cell_type": "markdown",
      "metadata": {
        "id": "4B_uvncfwLw-"
      },
      "source": [
        "## (1-1) 필요한 모듈 불러오기"
      ]
    },
    {
      "cell_type": "code",
      "metadata": {
        "id": "xFPHiFGWvqj3"
      },
      "source": [
        "import matplotlib.pyplot as plt\n",
        "import pandas as pd\n",
        "import numpy as np\n",
        "import seaborn as sns\n",
        "sns.set(font_scale=1.5)\n",
        "\n",
        "import warnings\n",
        "warnings.filterwarnings('ignore')\n",
        "\n",
        "%matplotlib inline"
      ],
      "execution_count": 63,
      "outputs": []
    },
    {
      "cell_type": "markdown",
      "metadata": {
        "id": "eytKU_TKvfQm"
      },
      "source": [
        "# (2) 데이터 불러오기"
      ]
    },
    {
      "cell_type": "code",
      "metadata": {
        "id": "KEHgAjXUoU_G"
      },
      "source": [
        "df_train = pd.read_csv('/content/drive/MyDrive/Colab Notebooks/두시데이터[풀잎스쿨]/실습/train.csv')\n",
        "df_test = pd.read_csv('/content/drive/MyDrive/Colab Notebooks/두시데이터[풀잎스쿨]/실습/test.csv')\n",
        "df_submit = pd.read_csv('/content/drive/MyDrive/Colab Notebooks/두시데이터[풀잎스쿨]/실습/sample_submission.csv')"
      ],
      "execution_count": 7,
      "outputs": []
    },
    {
      "cell_type": "markdown",
      "metadata": {
        "id": "kgmBrp_RwkyG"
      },
      "source": [
        "## (2-1) 데이터 형태 확인"
      ]
    },
    {
      "cell_type": "code",
      "metadata": {
        "colab": {
          "base_uri": "https://localhost:8080/"
        },
        "id": "n1QzrI7pwmao",
        "outputId": "dc8e5e09-8eca-4c8b-e3ca-823145935681"
      },
      "source": [
        "print('train shpae is:', df_train.shape, '\\ntest shape is: ', df_test.shape, '\\nsubmit shape is: ', df_submit.shape)"
      ],
      "execution_count": 11,
      "outputs": [
        {
          "output_type": "stream",
          "text": [
            "train shpae is: (26457, 20) \n",
            "test shape is:  (10000, 19) \n",
            "submit shape is:  (10000, 4)\n"
          ],
          "name": "stdout"
        }
      ]
    },
    {
      "cell_type": "markdown",
      "metadata": {
        "id": "I2gu8Ljhw-I2"
      },
      "source": [
        "* 각 파일을 로드하고 형태를 확인했습니다.\n",
        "* train data는 26,457개 test data는 10,000개입니다."
      ]
    },
    {
      "cell_type": "code",
      "metadata": {
        "colab": {
          "base_uri": "https://localhost:8080/"
        },
        "id": "26YgMyVrxDjg",
        "outputId": "a3b96d9d-a8bc-48f6-8ec7-f14c90d6ab1d"
      },
      "source": [
        "print(df_train.columns, df_test.columns, df_submit.columns, sep='\\n\\n')"
      ],
      "execution_count": 31,
      "outputs": [
        {
          "output_type": "stream",
          "text": [
            "Index(['index', 'gender', 'car', 'reality', 'child_num', 'income_total',\n",
            "       'income_type', 'edu_type', 'family_type', 'house_type', 'DAYS_BIRTH',\n",
            "       'DAYS_EMPLOYED', 'FLAG_MOBIL', 'work_phone', 'phone', 'email',\n",
            "       'occyp_type', 'family_size', 'begin_month', 'credit'],\n",
            "      dtype='object')\n",
            "\n",
            "Index(['index', 'gender', 'car', 'reality', 'child_num', 'income_total',\n",
            "       'income_type', 'edu_type', 'family_type', 'house_type', 'DAYS_BIRTH',\n",
            "       'DAYS_EMPLOYED', 'FLAG_MOBIL', 'work_phone', 'phone', 'email',\n",
            "       'occyp_type', 'family_size', 'begin_month'],\n",
            "      dtype='object')\n",
            "\n",
            "Index(['index', '0', '1', '2'], dtype='object')\n"
          ],
          "name": "stdout"
        }
      ]
    },
    {
      "cell_type": "markdown",
      "metadata": {
        "id": "cto2CVedxLD1"
      },
      "source": [
        "* `credit` 변수가 타깃 변수이므로 train data에는 column이 1개 더 많습니다."
      ]
    },
    {
      "cell_type": "code",
      "metadata": {
        "colab": {
          "base_uri": "https://localhost:8080/",
          "height": 565
        },
        "id": "BMvDjwCgxOv-",
        "outputId": "caafdad3-a766-4447-9c1a-147e76e5b2c9"
      },
      "source": [
        "display(df_train.head(3), df_test.head(3), df_submit.head(3))"
      ],
      "execution_count": 32,
      "outputs": [
        {
          "output_type": "display_data",
          "data": {
            "text/html": [
              "<div>\n",
              "<style scoped>\n",
              "    .dataframe tbody tr th:only-of-type {\n",
              "        vertical-align: middle;\n",
              "    }\n",
              "\n",
              "    .dataframe tbody tr th {\n",
              "        vertical-align: top;\n",
              "    }\n",
              "\n",
              "    .dataframe thead th {\n",
              "        text-align: right;\n",
              "    }\n",
              "</style>\n",
              "<table border=\"1\" class=\"dataframe\">\n",
              "  <thead>\n",
              "    <tr style=\"text-align: right;\">\n",
              "      <th></th>\n",
              "      <th>index</th>\n",
              "      <th>gender</th>\n",
              "      <th>car</th>\n",
              "      <th>reality</th>\n",
              "      <th>child_num</th>\n",
              "      <th>income_total</th>\n",
              "      <th>income_type</th>\n",
              "      <th>edu_type</th>\n",
              "      <th>family_type</th>\n",
              "      <th>house_type</th>\n",
              "      <th>DAYS_BIRTH</th>\n",
              "      <th>DAYS_EMPLOYED</th>\n",
              "      <th>FLAG_MOBIL</th>\n",
              "      <th>work_phone</th>\n",
              "      <th>phone</th>\n",
              "      <th>email</th>\n",
              "      <th>occyp_type</th>\n",
              "      <th>family_size</th>\n",
              "      <th>begin_month</th>\n",
              "      <th>credit</th>\n",
              "    </tr>\n",
              "  </thead>\n",
              "  <tbody>\n",
              "    <tr>\n",
              "      <th>0</th>\n",
              "      <td>0</td>\n",
              "      <td>F</td>\n",
              "      <td>N</td>\n",
              "      <td>N</td>\n",
              "      <td>0</td>\n",
              "      <td>202500.0</td>\n",
              "      <td>Commercial associate</td>\n",
              "      <td>Higher education</td>\n",
              "      <td>Married</td>\n",
              "      <td>Municipal apartment</td>\n",
              "      <td>-13899</td>\n",
              "      <td>-4709</td>\n",
              "      <td>1</td>\n",
              "      <td>0</td>\n",
              "      <td>0</td>\n",
              "      <td>0</td>\n",
              "      <td>NaN</td>\n",
              "      <td>2.0</td>\n",
              "      <td>-6.0</td>\n",
              "      <td>1.0</td>\n",
              "    </tr>\n",
              "    <tr>\n",
              "      <th>1</th>\n",
              "      <td>1</td>\n",
              "      <td>F</td>\n",
              "      <td>N</td>\n",
              "      <td>Y</td>\n",
              "      <td>1</td>\n",
              "      <td>247500.0</td>\n",
              "      <td>Commercial associate</td>\n",
              "      <td>Secondary / secondary special</td>\n",
              "      <td>Civil marriage</td>\n",
              "      <td>House / apartment</td>\n",
              "      <td>-11380</td>\n",
              "      <td>-1540</td>\n",
              "      <td>1</td>\n",
              "      <td>0</td>\n",
              "      <td>0</td>\n",
              "      <td>1</td>\n",
              "      <td>Laborers</td>\n",
              "      <td>3.0</td>\n",
              "      <td>-5.0</td>\n",
              "      <td>1.0</td>\n",
              "    </tr>\n",
              "    <tr>\n",
              "      <th>2</th>\n",
              "      <td>2</td>\n",
              "      <td>M</td>\n",
              "      <td>Y</td>\n",
              "      <td>Y</td>\n",
              "      <td>0</td>\n",
              "      <td>450000.0</td>\n",
              "      <td>Working</td>\n",
              "      <td>Higher education</td>\n",
              "      <td>Married</td>\n",
              "      <td>House / apartment</td>\n",
              "      <td>-19087</td>\n",
              "      <td>-4434</td>\n",
              "      <td>1</td>\n",
              "      <td>0</td>\n",
              "      <td>1</td>\n",
              "      <td>0</td>\n",
              "      <td>Managers</td>\n",
              "      <td>2.0</td>\n",
              "      <td>-22.0</td>\n",
              "      <td>2.0</td>\n",
              "    </tr>\n",
              "  </tbody>\n",
              "</table>\n",
              "</div>"
            ],
            "text/plain": [
              "   index gender car reality  ...  occyp_type  family_size begin_month credit\n",
              "0      0      F   N       N  ...         NaN          2.0        -6.0    1.0\n",
              "1      1      F   N       Y  ...    Laborers          3.0        -5.0    1.0\n",
              "2      2      M   Y       Y  ...    Managers          2.0       -22.0    2.0\n",
              "\n",
              "[3 rows x 20 columns]"
            ]
          },
          "metadata": {}
        },
        {
          "output_type": "display_data",
          "data": {
            "text/html": [
              "<div>\n",
              "<style scoped>\n",
              "    .dataframe tbody tr th:only-of-type {\n",
              "        vertical-align: middle;\n",
              "    }\n",
              "\n",
              "    .dataframe tbody tr th {\n",
              "        vertical-align: top;\n",
              "    }\n",
              "\n",
              "    .dataframe thead th {\n",
              "        text-align: right;\n",
              "    }\n",
              "</style>\n",
              "<table border=\"1\" class=\"dataframe\">\n",
              "  <thead>\n",
              "    <tr style=\"text-align: right;\">\n",
              "      <th></th>\n",
              "      <th>index</th>\n",
              "      <th>gender</th>\n",
              "      <th>car</th>\n",
              "      <th>reality</th>\n",
              "      <th>child_num</th>\n",
              "      <th>income_total</th>\n",
              "      <th>income_type</th>\n",
              "      <th>edu_type</th>\n",
              "      <th>family_type</th>\n",
              "      <th>house_type</th>\n",
              "      <th>DAYS_BIRTH</th>\n",
              "      <th>DAYS_EMPLOYED</th>\n",
              "      <th>FLAG_MOBIL</th>\n",
              "      <th>work_phone</th>\n",
              "      <th>phone</th>\n",
              "      <th>email</th>\n",
              "      <th>occyp_type</th>\n",
              "      <th>family_size</th>\n",
              "      <th>begin_month</th>\n",
              "    </tr>\n",
              "  </thead>\n",
              "  <tbody>\n",
              "    <tr>\n",
              "      <th>0</th>\n",
              "      <td>26457</td>\n",
              "      <td>M</td>\n",
              "      <td>Y</td>\n",
              "      <td>N</td>\n",
              "      <td>0</td>\n",
              "      <td>112500.0</td>\n",
              "      <td>Pensioner</td>\n",
              "      <td>Secondary / secondary special</td>\n",
              "      <td>Civil marriage</td>\n",
              "      <td>House / apartment</td>\n",
              "      <td>-21990</td>\n",
              "      <td>365243</td>\n",
              "      <td>1</td>\n",
              "      <td>0</td>\n",
              "      <td>1</td>\n",
              "      <td>0</td>\n",
              "      <td>NaN</td>\n",
              "      <td>2.0</td>\n",
              "      <td>-60.0</td>\n",
              "    </tr>\n",
              "    <tr>\n",
              "      <th>1</th>\n",
              "      <td>26458</td>\n",
              "      <td>F</td>\n",
              "      <td>N</td>\n",
              "      <td>Y</td>\n",
              "      <td>0</td>\n",
              "      <td>135000.0</td>\n",
              "      <td>State servant</td>\n",
              "      <td>Higher education</td>\n",
              "      <td>Married</td>\n",
              "      <td>House / apartment</td>\n",
              "      <td>-18964</td>\n",
              "      <td>-8671</td>\n",
              "      <td>1</td>\n",
              "      <td>0</td>\n",
              "      <td>1</td>\n",
              "      <td>0</td>\n",
              "      <td>Core staff</td>\n",
              "      <td>2.0</td>\n",
              "      <td>-36.0</td>\n",
              "    </tr>\n",
              "    <tr>\n",
              "      <th>2</th>\n",
              "      <td>26459</td>\n",
              "      <td>F</td>\n",
              "      <td>N</td>\n",
              "      <td>Y</td>\n",
              "      <td>0</td>\n",
              "      <td>69372.0</td>\n",
              "      <td>Working</td>\n",
              "      <td>Secondary / secondary special</td>\n",
              "      <td>Married</td>\n",
              "      <td>House / apartment</td>\n",
              "      <td>-15887</td>\n",
              "      <td>-217</td>\n",
              "      <td>1</td>\n",
              "      <td>1</td>\n",
              "      <td>1</td>\n",
              "      <td>0</td>\n",
              "      <td>Laborers</td>\n",
              "      <td>2.0</td>\n",
              "      <td>-40.0</td>\n",
              "    </tr>\n",
              "  </tbody>\n",
              "</table>\n",
              "</div>"
            ],
            "text/plain": [
              "   index gender car reality  ...  email  occyp_type family_size begin_month\n",
              "0  26457      M   Y       N  ...      0         NaN         2.0       -60.0\n",
              "1  26458      F   N       Y  ...      0  Core staff         2.0       -36.0\n",
              "2  26459      F   N       Y  ...      0    Laborers         2.0       -40.0\n",
              "\n",
              "[3 rows x 19 columns]"
            ]
          },
          "metadata": {}
        },
        {
          "output_type": "display_data",
          "data": {
            "text/html": [
              "<div>\n",
              "<style scoped>\n",
              "    .dataframe tbody tr th:only-of-type {\n",
              "        vertical-align: middle;\n",
              "    }\n",
              "\n",
              "    .dataframe tbody tr th {\n",
              "        vertical-align: top;\n",
              "    }\n",
              "\n",
              "    .dataframe thead th {\n",
              "        text-align: right;\n",
              "    }\n",
              "</style>\n",
              "<table border=\"1\" class=\"dataframe\">\n",
              "  <thead>\n",
              "    <tr style=\"text-align: right;\">\n",
              "      <th></th>\n",
              "      <th>index</th>\n",
              "      <th>0</th>\n",
              "      <th>1</th>\n",
              "      <th>2</th>\n",
              "    </tr>\n",
              "  </thead>\n",
              "  <tbody>\n",
              "    <tr>\n",
              "      <th>0</th>\n",
              "      <td>26457</td>\n",
              "      <td>0</td>\n",
              "      <td>0</td>\n",
              "      <td>0</td>\n",
              "    </tr>\n",
              "    <tr>\n",
              "      <th>1</th>\n",
              "      <td>26458</td>\n",
              "      <td>0</td>\n",
              "      <td>0</td>\n",
              "      <td>0</td>\n",
              "    </tr>\n",
              "    <tr>\n",
              "      <th>2</th>\n",
              "      <td>26459</td>\n",
              "      <td>0</td>\n",
              "      <td>0</td>\n",
              "      <td>0</td>\n",
              "    </tr>\n",
              "  </tbody>\n",
              "</table>\n",
              "</div>"
            ],
            "text/plain": [
              "   index  0  1  2\n",
              "0  26457  0  0  0\n",
              "1  26458  0  0  0\n",
              "2  26459  0  0  0"
            ]
          },
          "metadata": {}
        }
      ]
    },
    {
      "cell_type": "markdown",
      "metadata": {
        "id": "UNel363CyWUV"
      },
      "source": [
        "* submission data는 0, 1, 2로 이루어져 있습니다. 아무래도 신용등급 같습니다.\n",
        "* 한번 train data의 `credit`변수만 확인해봅시다."
      ]
    },
    {
      "cell_type": "code",
      "metadata": {
        "colab": {
          "base_uri": "https://localhost:8080/"
        },
        "id": "NFjLkgcGye7U",
        "outputId": "50f8ee42-824e-4ee7-cae3-089d7b12f036"
      },
      "source": [
        "df_train['credit']"
      ],
      "execution_count": 36,
      "outputs": [
        {
          "output_type": "execute_result",
          "data": {
            "text/plain": [
              "0        1.0\n",
              "1        1.0\n",
              "2        2.0\n",
              "3        0.0\n",
              "4        2.0\n",
              "        ... \n",
              "26452    1.0\n",
              "26453    2.0\n",
              "26454    2.0\n",
              "26455    2.0\n",
              "26456    2.0\n",
              "Name: credit, Length: 26457, dtype: float64"
            ]
          },
          "metadata": {},
          "execution_count": 36
        }
      ]
    },
    {
      "cell_type": "markdown",
      "metadata": {
        "id": "oQwnfhjiypPN"
      },
      "source": [
        "* 역시 신용등급이었습니다."
      ]
    },
    {
      "cell_type": "markdown",
      "metadata": {
        "id": "OExIoI6kysYG"
      },
      "source": [
        "## (2-2) 각 Feature types 확인하기\n",
        "\n",
        "* 향후 모델을 적용할 때 변수 유형이 제대로 설정되지 않으면 모델에 적용하기 어렵습니다."
      ]
    },
    {
      "cell_type": "code",
      "metadata": {
        "colab": {
          "base_uri": "https://localhost:8080/"
        },
        "id": "wn1-4huZyrR6",
        "outputId": "ce0952e8-bf74-49f0-e862-728303af0b39"
      },
      "source": [
        "print(df_train.dtypes, df_test.dtypes, sep='\\n\\n')"
      ],
      "execution_count": 42,
      "outputs": [
        {
          "output_type": "stream",
          "text": [
            "index              int64\n",
            "gender            object\n",
            "car               object\n",
            "reality           object\n",
            "child_num          int64\n",
            "income_total     float64\n",
            "income_type       object\n",
            "edu_type          object\n",
            "family_type       object\n",
            "house_type        object\n",
            "DAYS_BIRTH         int64\n",
            "DAYS_EMPLOYED      int64\n",
            "FLAG_MOBIL         int64\n",
            "work_phone         int64\n",
            "phone              int64\n",
            "email              int64\n",
            "occyp_type        object\n",
            "family_size      float64\n",
            "begin_month      float64\n",
            "credit           float64\n",
            "dtype: object\n",
            "\n",
            "index              int64\n",
            "gender            object\n",
            "car               object\n",
            "reality           object\n",
            "child_num          int64\n",
            "income_total     float64\n",
            "income_type       object\n",
            "edu_type          object\n",
            "family_type       object\n",
            "house_type        object\n",
            "DAYS_BIRTH         int64\n",
            "DAYS_EMPLOYED      int64\n",
            "FLAG_MOBIL         int64\n",
            "work_phone         int64\n",
            "phone              int64\n",
            "email              int64\n",
            "occyp_type        object\n",
            "family_size      float64\n",
            "begin_month      float64\n",
            "dtype: object\n"
          ],
          "name": "stdout"
        }
      ]
    },
    {
      "cell_type": "markdown",
      "metadata": {
        "id": "ehlFbvGQzgAt"
      },
      "source": [
        "## (2-3) 결측치 확인하기"
      ]
    },
    {
      "cell_type": "code",
      "metadata": {
        "colab": {
          "base_uri": "https://localhost:8080/"
        },
        "id": "qIqkJlDwzidE",
        "outputId": "24a5fd69-eacd-44d7-bfef-2cf52ff28cbb"
      },
      "source": [
        "print(df_train.isnull().sum() / df_train.shape[0]*100)"
      ],
      "execution_count": 48,
      "outputs": [
        {
          "output_type": "stream",
          "text": [
            "index             0.000000\n",
            "gender            0.000000\n",
            "car               0.000000\n",
            "reality           0.000000\n",
            "child_num         0.000000\n",
            "income_total      0.000000\n",
            "income_type       0.000000\n",
            "edu_type          0.000000\n",
            "family_type       0.000000\n",
            "house_type        0.000000\n",
            "DAYS_BIRTH        0.000000\n",
            "DAYS_EMPLOYED     0.000000\n",
            "FLAG_MOBIL        0.000000\n",
            "work_phone        0.000000\n",
            "phone             0.000000\n",
            "email             0.000000\n",
            "occyp_type       30.884076\n",
            "family_size       0.000000\n",
            "begin_month       0.000000\n",
            "credit            0.000000\n",
            "dtype: float64\n"
          ],
          "name": "stdout"
        }
      ]
    },
    {
      "cell_type": "code",
      "metadata": {
        "colab": {
          "base_uri": "https://localhost:8080/"
        },
        "id": "N1Gsl6rJz2PY",
        "outputId": "255138e2-6c8d-484f-f817-5642438903cf"
      },
      "source": [
        "print(df_test.isnull().sum() / df_test.shape[0]*100)"
      ],
      "execution_count": 49,
      "outputs": [
        {
          "output_type": "stream",
          "text": [
            "index             0.00\n",
            "gender            0.00\n",
            "car               0.00\n",
            "reality           0.00\n",
            "child_num         0.00\n",
            "income_total      0.00\n",
            "income_type       0.00\n",
            "edu_type          0.00\n",
            "family_type       0.00\n",
            "house_type        0.00\n",
            "DAYS_BIRTH        0.00\n",
            "DAYS_EMPLOYED     0.00\n",
            "FLAG_MOBIL        0.00\n",
            "work_phone        0.00\n",
            "phone             0.00\n",
            "email             0.00\n",
            "occyp_type       31.52\n",
            "family_size       0.00\n",
            "begin_month       0.00\n",
            "dtype: float64\n"
          ],
          "name": "stdout"
        }
      ]
    },
    {
      "cell_type": "markdown",
      "metadata": {
        "id": "TZ1qRUPY0TBV"
      },
      "source": [
        "* train set과 test set에 비슷하게 `occyp_type`의 결측률이 30%를 초과합니다.\n",
        "* 과감하게 삭제해야 할지, 남겨서 전통적인 결측 대체 방법을 선택해야 할지는 `credit`과의 상관관계를 확인하고 결정하겠습니다."
      ]
    },
    {
      "cell_type": "markdown",
      "metadata": {
        "id": "VtCix9MS0yw0"
      },
      "source": [
        "## (2-4) Target label 확인하기"
      ]
    },
    {
      "cell_type": "code",
      "metadata": {
        "colab": {
          "base_uri": "https://localhost:8080/",
          "height": 535
        },
        "id": "NATJsaor0nbz",
        "outputId": "4cf73789-876b-45c8-ebb8-bb73b28897df"
      },
      "source": [
        "f, ax = plt.subplots(1, 2, figsize=(18, 8))\n",
        "\n",
        "df_train['credit'].value_counts().plot.pie(explode=[0.05, 0.05, 0.05], autopct='%1.1f%%', ax=ax[0], shadow=True)\n",
        "ax[0].set_title('Pie plot - credit')\n",
        "ax[0].set_ylabel('')\n",
        "\n",
        "sns.countplot('credit', data=df_train, ax=ax[1])\n",
        "ax[1].set_title('Count plot - credit')\n",
        "\n",
        "plt.show()"
      ],
      "execution_count": 64,
      "outputs": [
        {
          "output_type": "display_data",
          "data": {
            "image/png": "[encoded data removed]",
            "text/plain": [
              "<Figure size 1296x576 with 2 Axes>"
            ]
          },
          "metadata": {
            "needs_background": "light"
          }
        }
      ]
    },
    {
      "cell_type": "markdown",
      "metadata": {
        "id": "UvaJqsyu1sR1"
      },
      "source": [
        "* 신용등급이 2등급인 사람이 64.1%, 1등급이 23.7%, 0등급이 12.2%입니다.\n",
        "* Count plot으로 확인했을 때도 2등급인 사람이 월등하게 많습니다."
      ]
    },
    {
      "cell_type": "code",
      "metadata": {
        "id": "TPeHJ1VE12-I"
      },
      "source": [
        ""
      ],
      "execution_count": null,
      "outputs": []
    }
  ]
}